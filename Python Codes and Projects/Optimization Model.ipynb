{
 "cells": [
  {
   "cell_type": "markdown",
   "metadata": {
    "id": "ziXRHilBDz_6"
   },
   "source": [
    "**Importing Data and Libraries**"
   ]
  },
  {
   "cell_type": "code",
   "execution_count": 34,
   "metadata": {
    "colab": {
     "base_uri": "https://localhost:8080/"
    },
    "id": "H0hB1WO1mUol",
    "outputId": "a55ee86b-10b3-469b-daa2-6c047a2e3795"
   },
   "outputs": [
    {
     "name": "stdout",
     "output_type": "stream",
     "text": [
      "Requirement already satisfied: pulp in /usr/local/lib/python3.7/dist-packages (2.6.0)\n"
     ]
    }
   ],
   "source": [
    "pip install pulp"
   ]
  },
  {
   "cell_type": "code",
   "execution_count": 35,
   "metadata": {
    "collapsed": true,
    "id": "kA5syzhMdiy_"
   },
   "outputs": [],
   "source": [
    "#Import Pulp Libraries\n",
    "import pandas as pd\n",
    "from pulp import *\n",
    "import numpy as np\n",
    "np.random.seed(0)"
   ]
  },
  {
   "cell_type": "code",
   "execution_count": 36,
   "metadata": {
    "id": "EcktAwq8MAU_"
   },
   "outputs": [],
   "source": [
    "#Import Libraries for Triangle Distribution\n",
    "import matplotlib.pyplot as plt\n",
    "import time\n",
    "from scipy import stats as stats\n",
    "from scipy.stats import norm as norm\n",
    "from scipy.stats import triang as triang\n",
    "from scipy.stats import beta as beta\n",
    "from scipy.stats import rv_continuous\n",
    "import scipy.optimize as opt"
   ]
  },
  {
   "cell_type": "code",
   "execution_count": 37,
   "metadata": {
    "colab": {
     "base_uri": "https://localhost:8080/",
     "height": 178,
     "resources": {
      "http://localhost:8080/nbextensions/google.colab/files.js": {
       "data": "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",
       "headers": [
        [
         "content-type",
         "application/javascript"
        ]
       ],
       "ok": true,
       "status": 200,
       "status_text": ""
      }
     }
    },
    "id": "6Dok5GqLgGzH",
    "outputId": "314f4ab7-1d0e-4e8d-a6cd-6bc003ea8b0c"
   },
   "outputs": [
    {
     "data": {
      "text/html": [
       "\n",
       "     <input type=\"file\" id=\"files-d2da7917-ad09-405a-a695-5064450a1a78\" name=\"files[]\" multiple disabled\n",
       "        style=\"border:none\" />\n",
       "     <output id=\"result-d2da7917-ad09-405a-a695-5064450a1a78\">\n",
       "      Upload widget is only available when the cell has been executed in the\n",
       "      current browser session. Please rerun this cell to enable.\n",
       "      </output>\n",
       "      <script src=\"/nbextensions/google.colab/files.js\"></script> "
      ],
      "text/plain": [
       "<IPython.core.display.HTML object>"
      ]
     },
     "metadata": {},
     "output_type": "display_data"
    },
    {
     "name": "stdout",
     "output_type": "stream",
     "text": [
      "Saving input_capacity.csv to input_capacity (1).csv\n",
      "Saving input_demand.csv to input_demand (1).csv\n",
      "Saving input_financials.csv to input_financials (1).csv\n",
      "Saving input_utilization.csv to input_utilization (1).csv\n"
     ]
    }
   ],
   "source": [
    "#Upload the Files from Computer\n",
    "from google.colab import files\n",
    "uploaded = files.upload()"
   ]
  },
  {
   "cell_type": "markdown",
   "metadata": {
    "collapsed": true,
    "id": "jXUFigD6dizD"
   },
   "source": [
    "**Transforming Data**"
   ]
  },
  {
   "cell_type": "markdown",
   "metadata": {
    "id": "PxP0QERzGwfA"
   },
   "source": [
    "*Remove Facility One and Outpatient data from Data Frames*"
   ]
  },
  {
   "cell_type": "code",
   "execution_count": 49,
   "metadata": {
    "colab": {
     "base_uri": "https://localhost:8080/",
     "height": 206
    },
    "id": "8Lk_ea-ddizE",
    "outputId": "8ca7fea7-b015-4ddb-b9b2-9485faa4ad42"
   },
   "outputs": [
    {
     "data": {
      "text/html": [
       "\n",
       "  <div id=\"df-3d99d7d3-70d9-4e44-a2d3-5322e855a1f0\">\n",
       "    <div class=\"colab-df-container\">\n",
       "      <div>\n",
       "<style scoped>\n",
       "    .dataframe tbody tr th:only-of-type {\n",
       "        vertical-align: middle;\n",
       "    }\n",
       "\n",
       "    .dataframe tbody tr th {\n",
       "        vertical-align: top;\n",
       "    }\n",
       "\n",
       "    .dataframe thead th {\n",
       "        text-align: right;\n",
       "    }\n",
       "</style>\n",
       "<table border=\"1\" class=\"dataframe\">\n",
       "  <thead>\n",
       "    <tr style=\"text-align: right;\">\n",
       "      <th></th>\n",
       "      <th>facility</th>\n",
       "      <th>service_line</th>\n",
       "      <th>sub_service</th>\n",
       "      <th>resource</th>\n",
       "      <th>Capacity</th>\n",
       "    </tr>\n",
       "  </thead>\n",
       "  <tbody>\n",
       "    <tr>\n",
       "      <th>0</th>\n",
       "      <td>ALL</td>\n",
       "      <td>ALL</td>\n",
       "      <td>ALL</td>\n",
       "      <td>Ventilators</td>\n",
       "      <td>25</td>\n",
       "    </tr>\n",
       "    <tr>\n",
       "      <th>5</th>\n",
       "      <td>facility2</td>\n",
       "      <td>ALL</td>\n",
       "      <td>ALL</td>\n",
       "      <td>Bariatric Beds</td>\n",
       "      <td>2</td>\n",
       "    </tr>\n",
       "    <tr>\n",
       "      <th>6</th>\n",
       "      <td>facility2</td>\n",
       "      <td>ALL</td>\n",
       "      <td>ALL</td>\n",
       "      <td>Cardiac Short Stay Beds</td>\n",
       "      <td>8</td>\n",
       "    </tr>\n",
       "    <tr>\n",
       "      <th>7</th>\n",
       "      <td>facility2</td>\n",
       "      <td>ALL</td>\n",
       "      <td>ALL</td>\n",
       "      <td>Cardiac Transplant Beds</td>\n",
       "      <td>8</td>\n",
       "    </tr>\n",
       "    <tr>\n",
       "      <th>8</th>\n",
       "      <td>facility2</td>\n",
       "      <td>ALL</td>\n",
       "      <td>ALL</td>\n",
       "      <td>Cardiac VIP Beds</td>\n",
       "      <td>8</td>\n",
       "    </tr>\n",
       "  </tbody>\n",
       "</table>\n",
       "</div>\n",
       "      <button class=\"colab-df-convert\" onclick=\"convertToInteractive('df-3d99d7d3-70d9-4e44-a2d3-5322e855a1f0')\"\n",
       "              title=\"Convert this dataframe to an interactive table.\"\n",
       "              style=\"display:none;\">\n",
       "        \n",
       "  <svg xmlns=\"http://www.w3.org/2000/svg\" height=\"24px\"viewBox=\"0 0 24 24\"\n",
       "       width=\"24px\">\n",
       "    <path d=\"M0 0h24v24H0V0z\" fill=\"none\"/>\n",
       "    <path d=\"M18.56 5.44l.94 2.06.94-2.06 2.06-.94-2.06-.94-.94-2.06-.94 2.06-2.06.94zm-11 1L8.5 8.5l.94-2.06 2.06-.94-2.06-.94L8.5 2.5l-.94 2.06-2.06.94zm10 10l.94 2.06.94-2.06 2.06-.94-2.06-.94-.94-2.06-.94 2.06-2.06.94z\"/><path d=\"M17.41 7.96l-1.37-1.37c-.4-.4-.92-.59-1.43-.59-.52 0-1.04.2-1.43.59L10.3 9.45l-7.72 7.72c-.78.78-.78 2.05 0 2.83L4 21.41c.39.39.9.59 1.41.59.51 0 1.02-.2 1.41-.59l7.78-7.78 2.81-2.81c.8-.78.8-2.07 0-2.86zM5.41 20L4 18.59l7.72-7.72 1.47 1.35L5.41 20z\"/>\n",
       "  </svg>\n",
       "      </button>\n",
       "      \n",
       "  <style>\n",
       "    .colab-df-container {\n",
       "      display:flex;\n",
       "      flex-wrap:wrap;\n",
       "      gap: 12px;\n",
       "    }\n",
       "\n",
       "    .colab-df-convert {\n",
       "      background-color: #E8F0FE;\n",
       "      border: none;\n",
       "      border-radius: 50%;\n",
       "      cursor: pointer;\n",
       "      display: none;\n",
       "      fill: #1967D2;\n",
       "      height: 32px;\n",
       "      padding: 0 0 0 0;\n",
       "      width: 32px;\n",
       "    }\n",
       "\n",
       "    .colab-df-convert:hover {\n",
       "      background-color: #E2EBFA;\n",
       "      box-shadow: 0px 1px 2px rgba(60, 64, 67, 0.3), 0px 1px 3px 1px rgba(60, 64, 67, 0.15);\n",
       "      fill: #174EA6;\n",
       "    }\n",
       "\n",
       "    [theme=dark] .colab-df-convert {\n",
       "      background-color: #3B4455;\n",
       "      fill: #D2E3FC;\n",
       "    }\n",
       "\n",
       "    [theme=dark] .colab-df-convert:hover {\n",
       "      background-color: #434B5C;\n",
       "      box-shadow: 0px 1px 3px 1px rgba(0, 0, 0, 0.15);\n",
       "      filter: drop-shadow(0px 1px 2px rgba(0, 0, 0, 0.3));\n",
       "      fill: #FFFFFF;\n",
       "    }\n",
       "  </style>\n",
       "\n",
       "      <script>\n",
       "        const buttonEl =\n",
       "          document.querySelector('#df-3d99d7d3-70d9-4e44-a2d3-5322e855a1f0 button.colab-df-convert');\n",
       "        buttonEl.style.display =\n",
       "          google.colab.kernel.accessAllowed ? 'block' : 'none';\n",
       "\n",
       "        async function convertToInteractive(key) {\n",
       "          const element = document.querySelector('#df-3d99d7d3-70d9-4e44-a2d3-5322e855a1f0');\n",
       "          const dataTable =\n",
       "            await google.colab.kernel.invokeFunction('convertToInteractive',\n",
       "                                                     [key], {});\n",
       "          if (!dataTable) return;\n",
       "\n",
       "          const docLinkHtml = 'Like what you see? Visit the ' +\n",
       "            '<a target=\"_blank\" href=https://colab.research.google.com/notebooks/data_table.ipynb>data table notebook</a>'\n",
       "            + ' to learn more about interactive tables.';\n",
       "          element.innerHTML = '';\n",
       "          dataTable['output_type'] = 'display_data';\n",
       "          await google.colab.output.renderOutput(dataTable, element);\n",
       "          const docLink = document.createElement('div');\n",
       "          docLink.innerHTML = docLinkHtml;\n",
       "          element.appendChild(docLink);\n",
       "        }\n",
       "      </script>\n",
       "    </div>\n",
       "  </div>\n",
       "  "
      ],
      "text/plain": [
       "    facility service_line sub_service                 resource  Capacity\n",
       "0        ALL          ALL         ALL              Ventilators        25\n",
       "5  facility2          ALL         ALL           Bariatric Beds         2\n",
       "6  facility2          ALL         ALL  Cardiac Short Stay Beds         8\n",
       "7  facility2          ALL         ALL  Cardiac Transplant Beds         8\n",
       "8  facility2          ALL         ALL         Cardiac VIP Beds         8"
      ]
     },
     "execution_count": 49,
     "metadata": {},
     "output_type": "execute_result"
    }
   ],
   "source": [
    "# Edit Capacity Data Frame\n",
    "df_capacity = pd.read_csv('input_capacity.csv', index_col = False)\n",
    "#Remove Facility One data from the Frame\n",
    "df_capacity = df_capacity.loc[df_capacity[\"facility\"] != \"facility1\"]\n",
    "df_capacity.head(5)"
   ]
  },
  {
   "cell_type": "code",
   "execution_count": 50,
   "metadata": {
    "colab": {
     "base_uri": "https://localhost:8080/",
     "height": 206
    },
    "id": "3K3L2N-_bMC2",
    "outputId": "3cf300ed-26e5-40da-aa5b-b8e9cde365f8"
   },
   "outputs": [
    {
     "data": {
      "text/html": [
       "\n",
       "  <div id=\"df-de7e1a23-5d3f-4878-90dc-2b0e606fb3aa\">\n",
       "    <div class=\"colab-df-container\">\n",
       "      <div>\n",
       "<style scoped>\n",
       "    .dataframe tbody tr th:only-of-type {\n",
       "        vertical-align: middle;\n",
       "    }\n",
       "\n",
       "    .dataframe tbody tr th {\n",
       "        vertical-align: top;\n",
       "    }\n",
       "\n",
       "    .dataframe thead th {\n",
       "        text-align: right;\n",
       "    }\n",
       "</style>\n",
       "<table border=\"1\" class=\"dataframe\">\n",
       "  <thead>\n",
       "    <tr style=\"text-align: right;\">\n",
       "      <th></th>\n",
       "      <th>facility</th>\n",
       "      <th>service_line</th>\n",
       "      <th>sub_service</th>\n",
       "      <th>ip_op_indicator</th>\n",
       "      <th>med_surg_indicator</th>\n",
       "      <th>revenue</th>\n",
       "      <th>margin</th>\n",
       "    </tr>\n",
       "  </thead>\n",
       "  <tbody>\n",
       "    <tr>\n",
       "      <th>17</th>\n",
       "      <td>facility2</td>\n",
       "      <td>Cardiac Services</td>\n",
       "      <td>Cardiac Cath</td>\n",
       "      <td>I</td>\n",
       "      <td>SURG</td>\n",
       "      <td>32173.57</td>\n",
       "      <td>9791.10</td>\n",
       "    </tr>\n",
       "    <tr>\n",
       "      <th>18</th>\n",
       "      <td>facility2</td>\n",
       "      <td>Cardiac Services</td>\n",
       "      <td>Cardiac EP</td>\n",
       "      <td>I</td>\n",
       "      <td>SURG</td>\n",
       "      <td>55859.77</td>\n",
       "      <td>25878.12</td>\n",
       "    </tr>\n",
       "    <tr>\n",
       "      <th>19</th>\n",
       "      <td>facility2</td>\n",
       "      <td>Cardiac Services</td>\n",
       "      <td>Cardiac Surgery</td>\n",
       "      <td>I</td>\n",
       "      <td>SURG</td>\n",
       "      <td>123335.32</td>\n",
       "      <td>64148.76</td>\n",
       "    </tr>\n",
       "    <tr>\n",
       "      <th>26</th>\n",
       "      <td>facility2</td>\n",
       "      <td>Gynecology</td>\n",
       "      <td>General Surgical Gynecology</td>\n",
       "      <td>I</td>\n",
       "      <td>SURG</td>\n",
       "      <td>18376.49</td>\n",
       "      <td>10111.27</td>\n",
       "    </tr>\n",
       "    <tr>\n",
       "      <th>27</th>\n",
       "      <td>facility2</td>\n",
       "      <td>Gynecology</td>\n",
       "      <td>Gyn Surgical Oncology</td>\n",
       "      <td>I</td>\n",
       "      <td>SURG</td>\n",
       "      <td>26827.67</td>\n",
       "      <td>12451.33</td>\n",
       "    </tr>\n",
       "  </tbody>\n",
       "</table>\n",
       "</div>\n",
       "      <button class=\"colab-df-convert\" onclick=\"convertToInteractive('df-de7e1a23-5d3f-4878-90dc-2b0e606fb3aa')\"\n",
       "              title=\"Convert this dataframe to an interactive table.\"\n",
       "              style=\"display:none;\">\n",
       "        \n",
       "  <svg xmlns=\"http://www.w3.org/2000/svg\" height=\"24px\"viewBox=\"0 0 24 24\"\n",
       "       width=\"24px\">\n",
       "    <path d=\"M0 0h24v24H0V0z\" fill=\"none\"/>\n",
       "    <path d=\"M18.56 5.44l.94 2.06.94-2.06 2.06-.94-2.06-.94-.94-2.06-.94 2.06-2.06.94zm-11 1L8.5 8.5l.94-2.06 2.06-.94-2.06-.94L8.5 2.5l-.94 2.06-2.06.94zm10 10l.94 2.06.94-2.06 2.06-.94-2.06-.94-.94-2.06-.94 2.06-2.06.94z\"/><path d=\"M17.41 7.96l-1.37-1.37c-.4-.4-.92-.59-1.43-.59-.52 0-1.04.2-1.43.59L10.3 9.45l-7.72 7.72c-.78.78-.78 2.05 0 2.83L4 21.41c.39.39.9.59 1.41.59.51 0 1.02-.2 1.41-.59l7.78-7.78 2.81-2.81c.8-.78.8-2.07 0-2.86zM5.41 20L4 18.59l7.72-7.72 1.47 1.35L5.41 20z\"/>\n",
       "  </svg>\n",
       "      </button>\n",
       "      \n",
       "  <style>\n",
       "    .colab-df-container {\n",
       "      display:flex;\n",
       "      flex-wrap:wrap;\n",
       "      gap: 12px;\n",
       "    }\n",
       "\n",
       "    .colab-df-convert {\n",
       "      background-color: #E8F0FE;\n",
       "      border: none;\n",
       "      border-radius: 50%;\n",
       "      cursor: pointer;\n",
       "      display: none;\n",
       "      fill: #1967D2;\n",
       "      height: 32px;\n",
       "      padding: 0 0 0 0;\n",
       "      width: 32px;\n",
       "    }\n",
       "\n",
       "    .colab-df-convert:hover {\n",
       "      background-color: #E2EBFA;\n",
       "      box-shadow: 0px 1px 2px rgba(60, 64, 67, 0.3), 0px 1px 3px 1px rgba(60, 64, 67, 0.15);\n",
       "      fill: #174EA6;\n",
       "    }\n",
       "\n",
       "    [theme=dark] .colab-df-convert {\n",
       "      background-color: #3B4455;\n",
       "      fill: #D2E3FC;\n",
       "    }\n",
       "\n",
       "    [theme=dark] .colab-df-convert:hover {\n",
       "      background-color: #434B5C;\n",
       "      box-shadow: 0px 1px 3px 1px rgba(0, 0, 0, 0.15);\n",
       "      filter: drop-shadow(0px 1px 2px rgba(0, 0, 0, 0.3));\n",
       "      fill: #FFFFFF;\n",
       "    }\n",
       "  </style>\n",
       "\n",
       "      <script>\n",
       "        const buttonEl =\n",
       "          document.querySelector('#df-de7e1a23-5d3f-4878-90dc-2b0e606fb3aa button.colab-df-convert');\n",
       "        buttonEl.style.display =\n",
       "          google.colab.kernel.accessAllowed ? 'block' : 'none';\n",
       "\n",
       "        async function convertToInteractive(key) {\n",
       "          const element = document.querySelector('#df-de7e1a23-5d3f-4878-90dc-2b0e606fb3aa');\n",
       "          const dataTable =\n",
       "            await google.colab.kernel.invokeFunction('convertToInteractive',\n",
       "                                                     [key], {});\n",
       "          if (!dataTable) return;\n",
       "\n",
       "          const docLinkHtml = 'Like what you see? Visit the ' +\n",
       "            '<a target=\"_blank\" href=https://colab.research.google.com/notebooks/data_table.ipynb>data table notebook</a>'\n",
       "            + ' to learn more about interactive tables.';\n",
       "          element.innerHTML = '';\n",
       "          dataTable['output_type'] = 'display_data';\n",
       "          await google.colab.output.renderOutput(dataTable, element);\n",
       "          const docLink = document.createElement('div');\n",
       "          docLink.innerHTML = docLinkHtml;\n",
       "          element.appendChild(docLink);\n",
       "        }\n",
       "      </script>\n",
       "    </div>\n",
       "  </div>\n",
       "  "
      ],
      "text/plain": [
       "     facility      service_line                  sub_service ip_op_indicator  \\\n",
       "17  facility2  Cardiac Services                 Cardiac Cath               I   \n",
       "18  facility2  Cardiac Services                   Cardiac EP               I   \n",
       "19  facility2  Cardiac Services              Cardiac Surgery               I   \n",
       "26  facility2        Gynecology  General Surgical Gynecology               I   \n",
       "27  facility2        Gynecology        Gyn Surgical Oncology               I   \n",
       "\n",
       "   med_surg_indicator    revenue    margin  \n",
       "17               SURG   32173.57   9791.10  \n",
       "18               SURG   55859.77  25878.12  \n",
       "19               SURG  123335.32  64148.76  \n",
       "26               SURG   18376.49  10111.27  \n",
       "27               SURG   26827.67  12451.33  "
      ]
     },
     "execution_count": 50,
     "metadata": {},
     "output_type": "execute_result"
    }
   ],
   "source": [
    "# Edit Financials Data Frame\n",
    "df_rev = pd.read_csv('input_financials.csv', index_col = False)\n",
    "#Remove Facility One and Outpatient data from the Frame\n",
    "df_rev = df_rev.loc[df_rev[\"facility\"] != \"facility1\"]\n",
    "df_rev = df_rev.loc[df_rev[\"ip_op_indicator\"] != \"O\"]\n",
    "#Sort Values by Sub-Service\n",
    "df_rev= df_rev.sort_values(by= ['sub_service'])\n",
    "df_rev.head(5)\n"
   ]
  },
  {
   "cell_type": "code",
   "execution_count": 51,
   "metadata": {
    "colab": {
     "base_uri": "https://localhost:8080/",
     "height": 206
    },
    "id": "GGIrl8upcN2C",
    "outputId": "a6b03c59-1e79-4349-ea8f-c5750fceaa35"
   },
   "outputs": [
    {
     "data": {
      "text/html": [
       "\n",
       "  <div id=\"df-5cd24ab7-2d81-4e75-b97d-22604c7514a5\">\n",
       "    <div class=\"colab-df-container\">\n",
       "      <div>\n",
       "<style scoped>\n",
       "    .dataframe tbody tr th:only-of-type {\n",
       "        vertical-align: middle;\n",
       "    }\n",
       "\n",
       "    .dataframe tbody tr th {\n",
       "        vertical-align: top;\n",
       "    }\n",
       "\n",
       "    .dataframe thead th {\n",
       "        text-align: right;\n",
       "    }\n",
       "</style>\n",
       "<table border=\"1\" class=\"dataframe\">\n",
       "  <thead>\n",
       "    <tr style=\"text-align: right;\">\n",
       "      <th></th>\n",
       "      <th>facility</th>\n",
       "      <th>service_line</th>\n",
       "      <th>sub_service</th>\n",
       "      <th>ip_op_indicator</th>\n",
       "      <th>med_surg_indicator</th>\n",
       "      <th>resource</th>\n",
       "      <th>utilization_mean</th>\n",
       "    </tr>\n",
       "  </thead>\n",
       "  <tbody>\n",
       "    <tr>\n",
       "      <th>35</th>\n",
       "      <td>facility2</td>\n",
       "      <td>Cardiac Services</td>\n",
       "      <td>Cardiac Cath</td>\n",
       "      <td>I</td>\n",
       "      <td>SURG</td>\n",
       "      <td>Cardiac Short Stay Beds</td>\n",
       "      <td>0.135</td>\n",
       "    </tr>\n",
       "    <tr>\n",
       "      <th>36</th>\n",
       "      <td>facility2</td>\n",
       "      <td>Cardiac Services</td>\n",
       "      <td>Cardiac Cath</td>\n",
       "      <td>I</td>\n",
       "      <td>SURG</td>\n",
       "      <td>Cardiac Transplant Beds</td>\n",
       "      <td>0.012</td>\n",
       "    </tr>\n",
       "    <tr>\n",
       "      <th>37</th>\n",
       "      <td>facility2</td>\n",
       "      <td>Cardiac Services</td>\n",
       "      <td>Cardiac Cath</td>\n",
       "      <td>I</td>\n",
       "      <td>SURG</td>\n",
       "      <td>Cardiac VIP Beds</td>\n",
       "      <td>0.012</td>\n",
       "    </tr>\n",
       "    <tr>\n",
       "      <th>38</th>\n",
       "      <td>facility2</td>\n",
       "      <td>Cardiac Services</td>\n",
       "      <td>Cardiac Cath</td>\n",
       "      <td>I</td>\n",
       "      <td>SURG</td>\n",
       "      <td>Cardiology Stepdown Beds</td>\n",
       "      <td>0.466</td>\n",
       "    </tr>\n",
       "    <tr>\n",
       "      <th>39</th>\n",
       "      <td>facility2</td>\n",
       "      <td>Cardiac Services</td>\n",
       "      <td>Cardiac Cath</td>\n",
       "      <td>I</td>\n",
       "      <td>SURG</td>\n",
       "      <td>Cardiovascular Surgery ICU Beds</td>\n",
       "      <td>0.017</td>\n",
       "    </tr>\n",
       "  </tbody>\n",
       "</table>\n",
       "</div>\n",
       "      <button class=\"colab-df-convert\" onclick=\"convertToInteractive('df-5cd24ab7-2d81-4e75-b97d-22604c7514a5')\"\n",
       "              title=\"Convert this dataframe to an interactive table.\"\n",
       "              style=\"display:none;\">\n",
       "        \n",
       "  <svg xmlns=\"http://www.w3.org/2000/svg\" height=\"24px\"viewBox=\"0 0 24 24\"\n",
       "       width=\"24px\">\n",
       "    <path d=\"M0 0h24v24H0V0z\" fill=\"none\"/>\n",
       "    <path d=\"M18.56 5.44l.94 2.06.94-2.06 2.06-.94-2.06-.94-.94-2.06-.94 2.06-2.06.94zm-11 1L8.5 8.5l.94-2.06 2.06-.94-2.06-.94L8.5 2.5l-.94 2.06-2.06.94zm10 10l.94 2.06.94-2.06 2.06-.94-2.06-.94-.94-2.06-.94 2.06-2.06.94z\"/><path d=\"M17.41 7.96l-1.37-1.37c-.4-.4-.92-.59-1.43-.59-.52 0-1.04.2-1.43.59L10.3 9.45l-7.72 7.72c-.78.78-.78 2.05 0 2.83L4 21.41c.39.39.9.59 1.41.59.51 0 1.02-.2 1.41-.59l7.78-7.78 2.81-2.81c.8-.78.8-2.07 0-2.86zM5.41 20L4 18.59l7.72-7.72 1.47 1.35L5.41 20z\"/>\n",
       "  </svg>\n",
       "      </button>\n",
       "      \n",
       "  <style>\n",
       "    .colab-df-container {\n",
       "      display:flex;\n",
       "      flex-wrap:wrap;\n",
       "      gap: 12px;\n",
       "    }\n",
       "\n",
       "    .colab-df-convert {\n",
       "      background-color: #E8F0FE;\n",
       "      border: none;\n",
       "      border-radius: 50%;\n",
       "      cursor: pointer;\n",
       "      display: none;\n",
       "      fill: #1967D2;\n",
       "      height: 32px;\n",
       "      padding: 0 0 0 0;\n",
       "      width: 32px;\n",
       "    }\n",
       "\n",
       "    .colab-df-convert:hover {\n",
       "      background-color: #E2EBFA;\n",
       "      box-shadow: 0px 1px 2px rgba(60, 64, 67, 0.3), 0px 1px 3px 1px rgba(60, 64, 67, 0.15);\n",
       "      fill: #174EA6;\n",
       "    }\n",
       "\n",
       "    [theme=dark] .colab-df-convert {\n",
       "      background-color: #3B4455;\n",
       "      fill: #D2E3FC;\n",
       "    }\n",
       "\n",
       "    [theme=dark] .colab-df-convert:hover {\n",
       "      background-color: #434B5C;\n",
       "      box-shadow: 0px 1px 3px 1px rgba(0, 0, 0, 0.15);\n",
       "      filter: drop-shadow(0px 1px 2px rgba(0, 0, 0, 0.3));\n",
       "      fill: #FFFFFF;\n",
       "    }\n",
       "  </style>\n",
       "\n",
       "      <script>\n",
       "        const buttonEl =\n",
       "          document.querySelector('#df-5cd24ab7-2d81-4e75-b97d-22604c7514a5 button.colab-df-convert');\n",
       "        buttonEl.style.display =\n",
       "          google.colab.kernel.accessAllowed ? 'block' : 'none';\n",
       "\n",
       "        async function convertToInteractive(key) {\n",
       "          const element = document.querySelector('#df-5cd24ab7-2d81-4e75-b97d-22604c7514a5');\n",
       "          const dataTable =\n",
       "            await google.colab.kernel.invokeFunction('convertToInteractive',\n",
       "                                                     [key], {});\n",
       "          if (!dataTable) return;\n",
       "\n",
       "          const docLinkHtml = 'Like what you see? Visit the ' +\n",
       "            '<a target=\"_blank\" href=https://colab.research.google.com/notebooks/data_table.ipynb>data table notebook</a>'\n",
       "            + ' to learn more about interactive tables.';\n",
       "          element.innerHTML = '';\n",
       "          dataTable['output_type'] = 'display_data';\n",
       "          await google.colab.output.renderOutput(dataTable, element);\n",
       "          const docLink = document.createElement('div');\n",
       "          docLink.innerHTML = docLinkHtml;\n",
       "          element.appendChild(docLink);\n",
       "        }\n",
       "      </script>\n",
       "    </div>\n",
       "  </div>\n",
       "  "
      ],
      "text/plain": [
       "     facility      service_line   sub_service ip_op_indicator  \\\n",
       "35  facility2  Cardiac Services  Cardiac Cath               I   \n",
       "36  facility2  Cardiac Services  Cardiac Cath               I   \n",
       "37  facility2  Cardiac Services  Cardiac Cath               I   \n",
       "38  facility2  Cardiac Services  Cardiac Cath               I   \n",
       "39  facility2  Cardiac Services  Cardiac Cath               I   \n",
       "\n",
       "   med_surg_indicator                         resource  utilization_mean  \n",
       "35               SURG          Cardiac Short Stay Beds             0.135  \n",
       "36               SURG          Cardiac Transplant Beds             0.012  \n",
       "37               SURG                 Cardiac VIP Beds             0.012  \n",
       "38               SURG         Cardiology Stepdown Beds             0.466  \n",
       "39               SURG  Cardiovascular Surgery ICU Beds             0.017  "
      ]
     },
     "execution_count": 51,
     "metadata": {},
     "output_type": "execute_result"
    }
   ],
   "source": [
    "# Edit Utilization Data Frame\n",
    "df_utilize = pd.read_csv('input_utilization.csv', index_col = False)\n",
    "#Remove Facility One and Outpatient data from the Frame\n",
    "df_utilize = df_utilize.loc[df_utilize[\"facility\"] != \"facility1\"]\n",
    "df_utilize = df_utilize.loc[df_utilize[\"ip_op_indicator\"] != \"O\"]\n",
    "#Drop all columns with only null Values\n",
    "df_utilize = df_utilize.dropna(axis=1)\n",
    "df_utilize.head(5)"
   ]
  },
  {
   "cell_type": "code",
   "execution_count": 52,
   "metadata": {
    "colab": {
     "base_uri": "https://localhost:8080/",
     "height": 206
    },
    "id": "wEsz-_n2dizG",
    "outputId": "203f89e6-b27b-41fd-9a7d-9bb929032dc0"
   },
   "outputs": [
    {
     "data": {
      "text/html": [
       "\n",
       "  <div id=\"df-03655935-8101-4dcb-bf5b-14b54e6bb3dd\">\n",
       "    <div class=\"colab-df-container\">\n",
       "      <div>\n",
       "<style scoped>\n",
       "    .dataframe tbody tr th:only-of-type {\n",
       "        vertical-align: middle;\n",
       "    }\n",
       "\n",
       "    .dataframe tbody tr th {\n",
       "        vertical-align: top;\n",
       "    }\n",
       "\n",
       "    .dataframe thead th {\n",
       "        text-align: right;\n",
       "    }\n",
       "</style>\n",
       "<table border=\"1\" class=\"dataframe\">\n",
       "  <thead>\n",
       "    <tr style=\"text-align: right;\">\n",
       "      <th></th>\n",
       "      <th>facility</th>\n",
       "      <th>service_line</th>\n",
       "      <th>sub_service</th>\n",
       "      <th>ip_op_indicator</th>\n",
       "      <th>med_surg_indicator</th>\n",
       "      <th>demand</th>\n",
       "      <th>date</th>\n",
       "    </tr>\n",
       "  </thead>\n",
       "  <tbody>\n",
       "    <tr>\n",
       "      <th>3441</th>\n",
       "      <td>facility2</td>\n",
       "      <td>Cardiac Services</td>\n",
       "      <td>Cardiac Cath</td>\n",
       "      <td>I</td>\n",
       "      <td>SURG</td>\n",
       "      <td>4</td>\n",
       "      <td>3/1/2018</td>\n",
       "    </tr>\n",
       "    <tr>\n",
       "      <th>3442</th>\n",
       "      <td>facility2</td>\n",
       "      <td>Cardiac Services</td>\n",
       "      <td>Cardiac Cath</td>\n",
       "      <td>I</td>\n",
       "      <td>SURG</td>\n",
       "      <td>7</td>\n",
       "      <td>3/2/2018</td>\n",
       "    </tr>\n",
       "    <tr>\n",
       "      <th>3443</th>\n",
       "      <td>facility2</td>\n",
       "      <td>Cardiac Services</td>\n",
       "      <td>Cardiac Cath</td>\n",
       "      <td>I</td>\n",
       "      <td>SURG</td>\n",
       "      <td>2</td>\n",
       "      <td>3/3/2018</td>\n",
       "    </tr>\n",
       "    <tr>\n",
       "      <th>3444</th>\n",
       "      <td>facility2</td>\n",
       "      <td>Cardiac Services</td>\n",
       "      <td>Cardiac Cath</td>\n",
       "      <td>I</td>\n",
       "      <td>SURG</td>\n",
       "      <td>3</td>\n",
       "      <td>3/4/2018</td>\n",
       "    </tr>\n",
       "    <tr>\n",
       "      <th>3445</th>\n",
       "      <td>facility2</td>\n",
       "      <td>Cardiac Services</td>\n",
       "      <td>Cardiac Cath</td>\n",
       "      <td>I</td>\n",
       "      <td>SURG</td>\n",
       "      <td>2</td>\n",
       "      <td>3/5/2018</td>\n",
       "    </tr>\n",
       "  </tbody>\n",
       "</table>\n",
       "</div>\n",
       "      <button class=\"colab-df-convert\" onclick=\"convertToInteractive('df-03655935-8101-4dcb-bf5b-14b54e6bb3dd')\"\n",
       "              title=\"Convert this dataframe to an interactive table.\"\n",
       "              style=\"display:none;\">\n",
       "        \n",
       "  <svg xmlns=\"http://www.w3.org/2000/svg\" height=\"24px\"viewBox=\"0 0 24 24\"\n",
       "       width=\"24px\">\n",
       "    <path d=\"M0 0h24v24H0V0z\" fill=\"none\"/>\n",
       "    <path d=\"M18.56 5.44l.94 2.06.94-2.06 2.06-.94-2.06-.94-.94-2.06-.94 2.06-2.06.94zm-11 1L8.5 8.5l.94-2.06 2.06-.94-2.06-.94L8.5 2.5l-.94 2.06-2.06.94zm10 10l.94 2.06.94-2.06 2.06-.94-2.06-.94-.94-2.06-.94 2.06-2.06.94z\"/><path d=\"M17.41 7.96l-1.37-1.37c-.4-.4-.92-.59-1.43-.59-.52 0-1.04.2-1.43.59L10.3 9.45l-7.72 7.72c-.78.78-.78 2.05 0 2.83L4 21.41c.39.39.9.59 1.41.59.51 0 1.02-.2 1.41-.59l7.78-7.78 2.81-2.81c.8-.78.8-2.07 0-2.86zM5.41 20L4 18.59l7.72-7.72 1.47 1.35L5.41 20z\"/>\n",
       "  </svg>\n",
       "      </button>\n",
       "      \n",
       "  <style>\n",
       "    .colab-df-container {\n",
       "      display:flex;\n",
       "      flex-wrap:wrap;\n",
       "      gap: 12px;\n",
       "    }\n",
       "\n",
       "    .colab-df-convert {\n",
       "      background-color: #E8F0FE;\n",
       "      border: none;\n",
       "      border-radius: 50%;\n",
       "      cursor: pointer;\n",
       "      display: none;\n",
       "      fill: #1967D2;\n",
       "      height: 32px;\n",
       "      padding: 0 0 0 0;\n",
       "      width: 32px;\n",
       "    }\n",
       "\n",
       "    .colab-df-convert:hover {\n",
       "      background-color: #E2EBFA;\n",
       "      box-shadow: 0px 1px 2px rgba(60, 64, 67, 0.3), 0px 1px 3px 1px rgba(60, 64, 67, 0.15);\n",
       "      fill: #174EA6;\n",
       "    }\n",
       "\n",
       "    [theme=dark] .colab-df-convert {\n",
       "      background-color: #3B4455;\n",
       "      fill: #D2E3FC;\n",
       "    }\n",
       "\n",
       "    [theme=dark] .colab-df-convert:hover {\n",
       "      background-color: #434B5C;\n",
       "      box-shadow: 0px 1px 3px 1px rgba(0, 0, 0, 0.15);\n",
       "      filter: drop-shadow(0px 1px 2px rgba(0, 0, 0, 0.3));\n",
       "      fill: #FFFFFF;\n",
       "    }\n",
       "  </style>\n",
       "\n",
       "      <script>\n",
       "        const buttonEl =\n",
       "          document.querySelector('#df-03655935-8101-4dcb-bf5b-14b54e6bb3dd button.colab-df-convert');\n",
       "        buttonEl.style.display =\n",
       "          google.colab.kernel.accessAllowed ? 'block' : 'none';\n",
       "\n",
       "        async function convertToInteractive(key) {\n",
       "          const element = document.querySelector('#df-03655935-8101-4dcb-bf5b-14b54e6bb3dd');\n",
       "          const dataTable =\n",
       "            await google.colab.kernel.invokeFunction('convertToInteractive',\n",
       "                                                     [key], {});\n",
       "          if (!dataTable) return;\n",
       "\n",
       "          const docLinkHtml = 'Like what you see? Visit the ' +\n",
       "            '<a target=\"_blank\" href=https://colab.research.google.com/notebooks/data_table.ipynb>data table notebook</a>'\n",
       "            + ' to learn more about interactive tables.';\n",
       "          element.innerHTML = '';\n",
       "          dataTable['output_type'] = 'display_data';\n",
       "          await google.colab.output.renderOutput(dataTable, element);\n",
       "          const docLink = document.createElement('div');\n",
       "          docLink.innerHTML = docLinkHtml;\n",
       "          element.appendChild(docLink);\n",
       "        }\n",
       "      </script>\n",
       "    </div>\n",
       "  </div>\n",
       "  "
      ],
      "text/plain": [
       "       facility      service_line   sub_service ip_op_indicator  \\\n",
       "3441  facility2  Cardiac Services  Cardiac Cath               I   \n",
       "3442  facility2  Cardiac Services  Cardiac Cath               I   \n",
       "3443  facility2  Cardiac Services  Cardiac Cath               I   \n",
       "3444  facility2  Cardiac Services  Cardiac Cath               I   \n",
       "3445  facility2  Cardiac Services  Cardiac Cath               I   \n",
       "\n",
       "     med_surg_indicator  demand      date  \n",
       "3441               SURG       4  3/1/2018  \n",
       "3442               SURG       7  3/2/2018  \n",
       "3443               SURG       2  3/3/2018  \n",
       "3444               SURG       3  3/4/2018  \n",
       "3445               SURG       2  3/5/2018  "
      ]
     },
     "execution_count": 52,
     "metadata": {},
     "output_type": "execute_result"
    }
   ],
   "source": [
    "# Edit Demand Data Frame\n",
    "df_demand = pd.read_csv('input_demand.csv', index_col = False)\n",
    "#Remove Facility One and Outpatient data from the Frame\n",
    "df_demand = df_demand.loc[df_demand[\"facility\"] != \"facility1\"]\n",
    "df_demand = df_demand.loc[df_demand[\"ip_op_indicator\"] != \"O\"]\n",
    "df_demand.head(5)"
   ]
  },
  {
   "cell_type": "markdown",
   "metadata": {
    "id": "I-y--TagHEzl"
   },
   "source": [
    "*Transform Utilization and Demand Data Frames*"
   ]
  },
  {
   "cell_type": "code",
   "execution_count": 53,
   "metadata": {
    "colab": {
     "base_uri": "https://localhost:8080/",
     "height": 421
    },
    "id": "zk2lrLlT4syn",
    "outputId": "e1e69641-8156-4c7e-e0bc-ba2edaf74616"
   },
   "outputs": [
    {
     "data": {
      "text/html": [
       "\n",
       "  <div id=\"df-70b8d8e5-5ea1-4fad-a153-e9744e8d179d\">\n",
       "    <div class=\"colab-df-container\">\n",
       "      <div>\n",
       "<style scoped>\n",
       "    .dataframe tbody tr th:only-of-type {\n",
       "        vertical-align: middle;\n",
       "    }\n",
       "\n",
       "    .dataframe tbody tr th {\n",
       "        vertical-align: top;\n",
       "    }\n",
       "\n",
       "    .dataframe thead th {\n",
       "        text-align: right;\n",
       "    }\n",
       "</style>\n",
       "<table border=\"1\" class=\"dataframe\">\n",
       "  <thead>\n",
       "    <tr style=\"text-align: right;\">\n",
       "      <th>resource</th>\n",
       "      <th>sub_service</th>\n",
       "      <th>Bariatric Beds</th>\n",
       "      <th>Cardiac Short Stay Beds</th>\n",
       "      <th>Cardiac Transplant Beds</th>\n",
       "      <th>Cardiac VIP Beds</th>\n",
       "      <th>Cardiology Stepdown Beds</th>\n",
       "      <th>Cardiovascular Surgery ICU Beds</th>\n",
       "      <th>Cardiovascular Surgery Stepdown Beds</th>\n",
       "      <th>Colorectal Surgery Beds</th>\n",
       "      <th>Coronary ICU Beds</th>\n",
       "      <th>...</th>\n",
       "      <th>Pediatric Intermediate Care Beds</th>\n",
       "      <th>Short Stay Beds</th>\n",
       "      <th>Surgery ICU Beds</th>\n",
       "      <th>Surgical Telemetry Beds</th>\n",
       "      <th>Thoracic Surgery Stepdown Beds</th>\n",
       "      <th>Transplant Beds</th>\n",
       "      <th>Urology Beds</th>\n",
       "      <th>Vascular Surgery ICU Beds</th>\n",
       "      <th>Vascular Surgery Stepdown Beds</th>\n",
       "      <th>Ventilators</th>\n",
       "    </tr>\n",
       "  </thead>\n",
       "  <tbody>\n",
       "    <tr>\n",
       "      <th>0</th>\n",
       "      <td>Cardiac Cath</td>\n",
       "      <td>0.000</td>\n",
       "      <td>0.135</td>\n",
       "      <td>0.012</td>\n",
       "      <td>0.012</td>\n",
       "      <td>0.466</td>\n",
       "      <td>0.017</td>\n",
       "      <td>0.111</td>\n",
       "      <td>0.000</td>\n",
       "      <td>0.088</td>\n",
       "      <td>...</td>\n",
       "      <td>0.000</td>\n",
       "      <td>0.000</td>\n",
       "      <td>0.001</td>\n",
       "      <td>0.000</td>\n",
       "      <td>0.019</td>\n",
       "      <td>0.002</td>\n",
       "      <td>0.001</td>\n",
       "      <td>0.001</td>\n",
       "      <td>0.018</td>\n",
       "      <td>0.024</td>\n",
       "    </tr>\n",
       "    <tr>\n",
       "      <th>1</th>\n",
       "      <td>Cardiac EP</td>\n",
       "      <td>0.000</td>\n",
       "      <td>0.001</td>\n",
       "      <td>0.011</td>\n",
       "      <td>0.037</td>\n",
       "      <td>0.290</td>\n",
       "      <td>0.026</td>\n",
       "      <td>0.288</td>\n",
       "      <td>0.000</td>\n",
       "      <td>0.103</td>\n",
       "      <td>...</td>\n",
       "      <td>0.000</td>\n",
       "      <td>0.000</td>\n",
       "      <td>0.002</td>\n",
       "      <td>0.001</td>\n",
       "      <td>0.045</td>\n",
       "      <td>0.002</td>\n",
       "      <td>0.005</td>\n",
       "      <td>0.003</td>\n",
       "      <td>0.050</td>\n",
       "      <td>0.030</td>\n",
       "    </tr>\n",
       "    <tr>\n",
       "      <th>2</th>\n",
       "      <td>Cardiac Surgery</td>\n",
       "      <td>0.000</td>\n",
       "      <td>0.003</td>\n",
       "      <td>0.013</td>\n",
       "      <td>0.008</td>\n",
       "      <td>0.082</td>\n",
       "      <td>0.249</td>\n",
       "      <td>0.456</td>\n",
       "      <td>0.001</td>\n",
       "      <td>0.029</td>\n",
       "      <td>...</td>\n",
       "      <td>0.000</td>\n",
       "      <td>0.000</td>\n",
       "      <td>0.000</td>\n",
       "      <td>0.000</td>\n",
       "      <td>0.013</td>\n",
       "      <td>0.000</td>\n",
       "      <td>0.000</td>\n",
       "      <td>0.025</td>\n",
       "      <td>0.018</td>\n",
       "      <td>0.147</td>\n",
       "    </tr>\n",
       "    <tr>\n",
       "      <th>3</th>\n",
       "      <td>General Surgical Gynecology</td>\n",
       "      <td>0.003</td>\n",
       "      <td>0.000</td>\n",
       "      <td>0.000</td>\n",
       "      <td>0.005</td>\n",
       "      <td>0.000</td>\n",
       "      <td>0.002</td>\n",
       "      <td>0.013</td>\n",
       "      <td>0.068</td>\n",
       "      <td>0.000</td>\n",
       "      <td>...</td>\n",
       "      <td>0.014</td>\n",
       "      <td>0.006</td>\n",
       "      <td>0.044</td>\n",
       "      <td>0.024</td>\n",
       "      <td>0.000</td>\n",
       "      <td>0.003</td>\n",
       "      <td>0.045</td>\n",
       "      <td>0.000</td>\n",
       "      <td>0.000</td>\n",
       "      <td>0.024</td>\n",
       "    </tr>\n",
       "    <tr>\n",
       "      <th>4</th>\n",
       "      <td>Gyn Surgical Oncology</td>\n",
       "      <td>0.000</td>\n",
       "      <td>0.000</td>\n",
       "      <td>0.005</td>\n",
       "      <td>0.000</td>\n",
       "      <td>0.000</td>\n",
       "      <td>0.000</td>\n",
       "      <td>0.000</td>\n",
       "      <td>0.011</td>\n",
       "      <td>0.000</td>\n",
       "      <td>...</td>\n",
       "      <td>0.000</td>\n",
       "      <td>0.001</td>\n",
       "      <td>0.048</td>\n",
       "      <td>0.033</td>\n",
       "      <td>0.000</td>\n",
       "      <td>0.000</td>\n",
       "      <td>0.021</td>\n",
       "      <td>0.000</td>\n",
       "      <td>0.000</td>\n",
       "      <td>0.033</td>\n",
       "    </tr>\n",
       "  </tbody>\n",
       "</table>\n",
       "<p>5 rows × 32 columns</p>\n",
       "</div>\n",
       "      <button class=\"colab-df-convert\" onclick=\"convertToInteractive('df-70b8d8e5-5ea1-4fad-a153-e9744e8d179d')\"\n",
       "              title=\"Convert this dataframe to an interactive table.\"\n",
       "              style=\"display:none;\">\n",
       "        \n",
       "  <svg xmlns=\"http://www.w3.org/2000/svg\" height=\"24px\"viewBox=\"0 0 24 24\"\n",
       "       width=\"24px\">\n",
       "    <path d=\"M0 0h24v24H0V0z\" fill=\"none\"/>\n",
       "    <path d=\"M18.56 5.44l.94 2.06.94-2.06 2.06-.94-2.06-.94-.94-2.06-.94 2.06-2.06.94zm-11 1L8.5 8.5l.94-2.06 2.06-.94-2.06-.94L8.5 2.5l-.94 2.06-2.06.94zm10 10l.94 2.06.94-2.06 2.06-.94-2.06-.94-.94-2.06-.94 2.06-2.06.94z\"/><path d=\"M17.41 7.96l-1.37-1.37c-.4-.4-.92-.59-1.43-.59-.52 0-1.04.2-1.43.59L10.3 9.45l-7.72 7.72c-.78.78-.78 2.05 0 2.83L4 21.41c.39.39.9.59 1.41.59.51 0 1.02-.2 1.41-.59l7.78-7.78 2.81-2.81c.8-.78.8-2.07 0-2.86zM5.41 20L4 18.59l7.72-7.72 1.47 1.35L5.41 20z\"/>\n",
       "  </svg>\n",
       "      </button>\n",
       "      \n",
       "  <style>\n",
       "    .colab-df-container {\n",
       "      display:flex;\n",
       "      flex-wrap:wrap;\n",
       "      gap: 12px;\n",
       "    }\n",
       "\n",
       "    .colab-df-convert {\n",
       "      background-color: #E8F0FE;\n",
       "      border: none;\n",
       "      border-radius: 50%;\n",
       "      cursor: pointer;\n",
       "      display: none;\n",
       "      fill: #1967D2;\n",
       "      height: 32px;\n",
       "      padding: 0 0 0 0;\n",
       "      width: 32px;\n",
       "    }\n",
       "\n",
       "    .colab-df-convert:hover {\n",
       "      background-color: #E2EBFA;\n",
       "      box-shadow: 0px 1px 2px rgba(60, 64, 67, 0.3), 0px 1px 3px 1px rgba(60, 64, 67, 0.15);\n",
       "      fill: #174EA6;\n",
       "    }\n",
       "\n",
       "    [theme=dark] .colab-df-convert {\n",
       "      background-color: #3B4455;\n",
       "      fill: #D2E3FC;\n",
       "    }\n",
       "\n",
       "    [theme=dark] .colab-df-convert:hover {\n",
       "      background-color: #434B5C;\n",
       "      box-shadow: 0px 1px 3px 1px rgba(0, 0, 0, 0.15);\n",
       "      filter: drop-shadow(0px 1px 2px rgba(0, 0, 0, 0.3));\n",
       "      fill: #FFFFFF;\n",
       "    }\n",
       "  </style>\n",
       "\n",
       "      <script>\n",
       "        const buttonEl =\n",
       "          document.querySelector('#df-70b8d8e5-5ea1-4fad-a153-e9744e8d179d button.colab-df-convert');\n",
       "        buttonEl.style.display =\n",
       "          google.colab.kernel.accessAllowed ? 'block' : 'none';\n",
       "\n",
       "        async function convertToInteractive(key) {\n",
       "          const element = document.querySelector('#df-70b8d8e5-5ea1-4fad-a153-e9744e8d179d');\n",
       "          const dataTable =\n",
       "            await google.colab.kernel.invokeFunction('convertToInteractive',\n",
       "                                                     [key], {});\n",
       "          if (!dataTable) return;\n",
       "\n",
       "          const docLinkHtml = 'Like what you see? Visit the ' +\n",
       "            '<a target=\"_blank\" href=https://colab.research.google.com/notebooks/data_table.ipynb>data table notebook</a>'\n",
       "            + ' to learn more about interactive tables.';\n",
       "          element.innerHTML = '';\n",
       "          dataTable['output_type'] = 'display_data';\n",
       "          await google.colab.output.renderOutput(dataTable, element);\n",
       "          const docLink = document.createElement('div');\n",
       "          docLink.innerHTML = docLinkHtml;\n",
       "          element.appendChild(docLink);\n",
       "        }\n",
       "      </script>\n",
       "    </div>\n",
       "  </div>\n",
       "  "
      ],
      "text/plain": [
       "resource                  sub_service  Bariatric Beds  \\\n",
       "0                        Cardiac Cath           0.000   \n",
       "1                          Cardiac EP           0.000   \n",
       "2                     Cardiac Surgery           0.000   \n",
       "3         General Surgical Gynecology           0.003   \n",
       "4               Gyn Surgical Oncology           0.000   \n",
       "\n",
       "resource  Cardiac Short Stay Beds  Cardiac Transplant Beds  Cardiac VIP Beds  \\\n",
       "0                           0.135                    0.012             0.012   \n",
       "1                           0.001                    0.011             0.037   \n",
       "2                           0.003                    0.013             0.008   \n",
       "3                           0.000                    0.000             0.005   \n",
       "4                           0.000                    0.005             0.000   \n",
       "\n",
       "resource  Cardiology Stepdown Beds  Cardiovascular Surgery ICU Beds  \\\n",
       "0                            0.466                            0.017   \n",
       "1                            0.290                            0.026   \n",
       "2                            0.082                            0.249   \n",
       "3                            0.000                            0.002   \n",
       "4                            0.000                            0.000   \n",
       "\n",
       "resource  Cardiovascular Surgery Stepdown Beds  Colorectal Surgery Beds  \\\n",
       "0                                        0.111                    0.000   \n",
       "1                                        0.288                    0.000   \n",
       "2                                        0.456                    0.001   \n",
       "3                                        0.013                    0.068   \n",
       "4                                        0.000                    0.011   \n",
       "\n",
       "resource  Coronary ICU Beds  ...  Pediatric Intermediate Care Beds  \\\n",
       "0                     0.088  ...                             0.000   \n",
       "1                     0.103  ...                             0.000   \n",
       "2                     0.029  ...                             0.000   \n",
       "3                     0.000  ...                             0.014   \n",
       "4                     0.000  ...                             0.000   \n",
       "\n",
       "resource  Short Stay Beds  Surgery ICU Beds  Surgical Telemetry Beds  \\\n",
       "0                   0.000             0.001                    0.000   \n",
       "1                   0.000             0.002                    0.001   \n",
       "2                   0.000             0.000                    0.000   \n",
       "3                   0.006             0.044                    0.024   \n",
       "4                   0.001             0.048                    0.033   \n",
       "\n",
       "resource  Thoracic Surgery Stepdown Beds  Transplant Beds  Urology Beds  \\\n",
       "0                                  0.019            0.002         0.001   \n",
       "1                                  0.045            0.002         0.005   \n",
       "2                                  0.013            0.000         0.000   \n",
       "3                                  0.000            0.003         0.045   \n",
       "4                                  0.000            0.000         0.021   \n",
       "\n",
       "resource  Vascular Surgery ICU Beds  Vascular Surgery Stepdown Beds  \\\n",
       "0                             0.001                           0.018   \n",
       "1                             0.003                           0.050   \n",
       "2                             0.025                           0.018   \n",
       "3                             0.000                           0.000   \n",
       "4                             0.000                           0.000   \n",
       "\n",
       "resource  Ventilators  \n",
       "0               0.024  \n",
       "1               0.030  \n",
       "2               0.147  \n",
       "3               0.024  \n",
       "4               0.033  \n",
       "\n",
       "[5 rows x 32 columns]"
      ]
     },
     "execution_count": 53,
     "metadata": {},
     "output_type": "execute_result"
    }
   ],
   "source": [
    "#Sumarizing Resource Utlization- The Number of Resources Required by Each Sub-Service per Day\n",
    "#Drop Facility, Service Line, Ip_OP, and Med_Surg Columns\n",
    "df_utilize_sum= df_utilize.drop(['facility', 'service_line', 'ip_op_indicator', 'med_surg_indicator'], axis=1)\n",
    "#Pivot Utilization Data Frame by Sub-Service\n",
    "df_utilize_sum = df_utilize_sum.pivot(index='sub_service', columns='resource', values='utilization_mean')\n",
    "df_utilize_sum= df_utilize_sum.reset_index()\n",
    "#Fill in Resource Null Values with 0\n",
    "df_utilize_sum= df_utilize_sum.fillna(0)\n",
    "df_utilize_sum.head(5)\n"
   ]
  },
  {
   "cell_type": "markdown",
   "metadata": {
    "id": "2P1Q9EddDa7A"
   },
   "source": [
    "*Calculate Total Average Daily Demand*"
   ]
  },
  {
   "cell_type": "code",
   "execution_count": 54,
   "metadata": {
    "colab": {
     "base_uri": "https://localhost:8080/"
    },
    "id": "ziLrj6PC22rY",
    "outputId": "42ac1c52-56c9-47a8-c6af-7e86052196b9"
   },
   "outputs": [
    {
     "data": {
      "text/plain": [
       "facility                1\n",
       "service_line            2\n",
       "sub_service             7\n",
       "ip_op_indicator         1\n",
       "med_surg_indicator      2\n",
       "demand                 39\n",
       "date                  731\n",
       "dtype: int64"
      ]
     },
     "execution_count": 54,
     "metadata": {},
     "output_type": "execute_result"
    }
   ],
   "source": [
    "#Count the number of unique values in each column of the Demand Data Frame\n",
    "df_demand.nunique()"
   ]
  },
  {
   "cell_type": "code",
   "execution_count": 55,
   "metadata": {
    "colab": {
     "base_uri": "https://localhost:8080/",
     "height": 206
    },
    "id": "_1LEm3M7z5Zl",
    "outputId": "dabf0de5-c543-4df4-88f6-e7d20e458045"
   },
   "outputs": [
    {
     "data": {
      "text/html": [
       "\n",
       "  <div id=\"df-c1ad9c0d-8155-406c-abe7-26511115454c\">\n",
       "    <div class=\"colab-df-container\">\n",
       "      <div>\n",
       "<style scoped>\n",
       "    .dataframe tbody tr th:only-of-type {\n",
       "        vertical-align: middle;\n",
       "    }\n",
       "\n",
       "    .dataframe tbody tr th {\n",
       "        vertical-align: top;\n",
       "    }\n",
       "\n",
       "    .dataframe thead th {\n",
       "        text-align: right;\n",
       "    }\n",
       "</style>\n",
       "<table border=\"1\" class=\"dataframe\">\n",
       "  <thead>\n",
       "    <tr style=\"text-align: right;\">\n",
       "      <th></th>\n",
       "      <th>sub_service</th>\n",
       "      <th>med_surg_indicator</th>\n",
       "      <th>demand</th>\n",
       "    </tr>\n",
       "  </thead>\n",
       "  <tbody>\n",
       "    <tr>\n",
       "      <th>0</th>\n",
       "      <td>Cardiac Cath</td>\n",
       "      <td>SURG</td>\n",
       "      <td>2681</td>\n",
       "    </tr>\n",
       "    <tr>\n",
       "      <th>1</th>\n",
       "      <td>Cardiac EP</td>\n",
       "      <td>SURG</td>\n",
       "      <td>993</td>\n",
       "    </tr>\n",
       "    <tr>\n",
       "      <th>2</th>\n",
       "      <td>Cardiac Surgery</td>\n",
       "      <td>SURG</td>\n",
       "      <td>8102</td>\n",
       "    </tr>\n",
       "    <tr>\n",
       "      <th>3</th>\n",
       "      <td>General Surgical Gynecology</td>\n",
       "      <td>SURG</td>\n",
       "      <td>338</td>\n",
       "    </tr>\n",
       "    <tr>\n",
       "      <th>4</th>\n",
       "      <td>Gyn Surgical Oncology</td>\n",
       "      <td>SURG</td>\n",
       "      <td>272</td>\n",
       "    </tr>\n",
       "  </tbody>\n",
       "</table>\n",
       "</div>\n",
       "      <button class=\"colab-df-convert\" onclick=\"convertToInteractive('df-c1ad9c0d-8155-406c-abe7-26511115454c')\"\n",
       "              title=\"Convert this dataframe to an interactive table.\"\n",
       "              style=\"display:none;\">\n",
       "        \n",
       "  <svg xmlns=\"http://www.w3.org/2000/svg\" height=\"24px\"viewBox=\"0 0 24 24\"\n",
       "       width=\"24px\">\n",
       "    <path d=\"M0 0h24v24H0V0z\" fill=\"none\"/>\n",
       "    <path d=\"M18.56 5.44l.94 2.06.94-2.06 2.06-.94-2.06-.94-.94-2.06-.94 2.06-2.06.94zm-11 1L8.5 8.5l.94-2.06 2.06-.94-2.06-.94L8.5 2.5l-.94 2.06-2.06.94zm10 10l.94 2.06.94-2.06 2.06-.94-2.06-.94-.94-2.06-.94 2.06-2.06.94z\"/><path d=\"M17.41 7.96l-1.37-1.37c-.4-.4-.92-.59-1.43-.59-.52 0-1.04.2-1.43.59L10.3 9.45l-7.72 7.72c-.78.78-.78 2.05 0 2.83L4 21.41c.39.39.9.59 1.41.59.51 0 1.02-.2 1.41-.59l7.78-7.78 2.81-2.81c.8-.78.8-2.07 0-2.86zM5.41 20L4 18.59l7.72-7.72 1.47 1.35L5.41 20z\"/>\n",
       "  </svg>\n",
       "      </button>\n",
       "      \n",
       "  <style>\n",
       "    .colab-df-container {\n",
       "      display:flex;\n",
       "      flex-wrap:wrap;\n",
       "      gap: 12px;\n",
       "    }\n",
       "\n",
       "    .colab-df-convert {\n",
       "      background-color: #E8F0FE;\n",
       "      border: none;\n",
       "      border-radius: 50%;\n",
       "      cursor: pointer;\n",
       "      display: none;\n",
       "      fill: #1967D2;\n",
       "      height: 32px;\n",
       "      padding: 0 0 0 0;\n",
       "      width: 32px;\n",
       "    }\n",
       "\n",
       "    .colab-df-convert:hover {\n",
       "      background-color: #E2EBFA;\n",
       "      box-shadow: 0px 1px 2px rgba(60, 64, 67, 0.3), 0px 1px 3px 1px rgba(60, 64, 67, 0.15);\n",
       "      fill: #174EA6;\n",
       "    }\n",
       "\n",
       "    [theme=dark] .colab-df-convert {\n",
       "      background-color: #3B4455;\n",
       "      fill: #D2E3FC;\n",
       "    }\n",
       "\n",
       "    [theme=dark] .colab-df-convert:hover {\n",
       "      background-color: #434B5C;\n",
       "      box-shadow: 0px 1px 3px 1px rgba(0, 0, 0, 0.15);\n",
       "      filter: drop-shadow(0px 1px 2px rgba(0, 0, 0, 0.3));\n",
       "      fill: #FFFFFF;\n",
       "    }\n",
       "  </style>\n",
       "\n",
       "      <script>\n",
       "        const buttonEl =\n",
       "          document.querySelector('#df-c1ad9c0d-8155-406c-abe7-26511115454c button.colab-df-convert');\n",
       "        buttonEl.style.display =\n",
       "          google.colab.kernel.accessAllowed ? 'block' : 'none';\n",
       "\n",
       "        async function convertToInteractive(key) {\n",
       "          const element = document.querySelector('#df-c1ad9c0d-8155-406c-abe7-26511115454c');\n",
       "          const dataTable =\n",
       "            await google.colab.kernel.invokeFunction('convertToInteractive',\n",
       "                                                     [key], {});\n",
       "          if (!dataTable) return;\n",
       "\n",
       "          const docLinkHtml = 'Like what you see? Visit the ' +\n",
       "            '<a target=\"_blank\" href=https://colab.research.google.com/notebooks/data_table.ipynb>data table notebook</a>'\n",
       "            + ' to learn more about interactive tables.';\n",
       "          element.innerHTML = '';\n",
       "          dataTable['output_type'] = 'display_data';\n",
       "          await google.colab.output.renderOutput(dataTable, element);\n",
       "          const docLink = document.createElement('div');\n",
       "          docLink.innerHTML = docLinkHtml;\n",
       "          element.appendChild(docLink);\n",
       "        }\n",
       "      </script>\n",
       "    </div>\n",
       "  </div>\n",
       "  "
      ],
      "text/plain": [
       "                   sub_service med_surg_indicator  demand\n",
       "0                 Cardiac Cath               SURG    2681\n",
       "1                   Cardiac EP               SURG     993\n",
       "2              Cardiac Surgery               SURG    8102\n",
       "3  General Surgical Gynecology               SURG     338\n",
       "4        Gyn Surgical Oncology               SURG     272"
      ]
     },
     "execution_count": 55,
     "metadata": {},
     "output_type": "execute_result"
    }
   ],
   "source": [
    "#Sumarizing Demand- The total number of services demanded by each Sub-Service\n",
    "df_demand1= df_demand.groupby(by=['sub_service', 'med_surg_indicator']).sum('demand')\n",
    "df_demand1= df_demand1.reset_index()\n",
    "df_demand1.head(5)\n"
   ]
  },
  {
   "cell_type": "code",
   "execution_count": 56,
   "metadata": {
    "colab": {
     "base_uri": "https://localhost:8080/",
     "height": 269
    },
    "id": "aOlygBjU7A9D",
    "outputId": "fa4deac2-de67-4fc1-d553-a281d0ac0f67"
   },
   "outputs": [
    {
     "data": {
      "text/html": [
       "\n",
       "  <div id=\"df-6638b748-7518-42d3-b667-9b6f2dd471b5\">\n",
       "    <div class=\"colab-df-container\">\n",
       "      <div>\n",
       "<style scoped>\n",
       "    .dataframe tbody tr th:only-of-type {\n",
       "        vertical-align: middle;\n",
       "    }\n",
       "\n",
       "    .dataframe tbody tr th {\n",
       "        vertical-align: top;\n",
       "    }\n",
       "\n",
       "    .dataframe thead th {\n",
       "        text-align: right;\n",
       "    }\n",
       "</style>\n",
       "<table border=\"1\" class=\"dataframe\">\n",
       "  <thead>\n",
       "    <tr style=\"text-align: right;\">\n",
       "      <th></th>\n",
       "      <th>sub_service</th>\n",
       "      <th>med_surg_indicator</th>\n",
       "      <th>demand</th>\n",
       "    </tr>\n",
       "  </thead>\n",
       "  <tbody>\n",
       "    <tr>\n",
       "      <th>0</th>\n",
       "      <td>Cardiac Cath</td>\n",
       "      <td>SURG</td>\n",
       "      <td>4.0</td>\n",
       "    </tr>\n",
       "    <tr>\n",
       "      <th>1</th>\n",
       "      <td>Cardiac EP</td>\n",
       "      <td>SURG</td>\n",
       "      <td>1.0</td>\n",
       "    </tr>\n",
       "    <tr>\n",
       "      <th>2</th>\n",
       "      <td>Cardiac Surgery</td>\n",
       "      <td>SURG</td>\n",
       "      <td>11.0</td>\n",
       "    </tr>\n",
       "    <tr>\n",
       "      <th>3</th>\n",
       "      <td>General Surgical Gynecology</td>\n",
       "      <td>SURG</td>\n",
       "      <td>0.0</td>\n",
       "    </tr>\n",
       "    <tr>\n",
       "      <th>4</th>\n",
       "      <td>Gyn Surgical Oncology</td>\n",
       "      <td>SURG</td>\n",
       "      <td>0.0</td>\n",
       "    </tr>\n",
       "    <tr>\n",
       "      <th>5</th>\n",
       "      <td>Medical Cardiology</td>\n",
       "      <td>MED</td>\n",
       "      <td>16.0</td>\n",
       "    </tr>\n",
       "    <tr>\n",
       "      <th>6</th>\n",
       "      <td>Medical Gynecology</td>\n",
       "      <td>MED</td>\n",
       "      <td>0.0</td>\n",
       "    </tr>\n",
       "  </tbody>\n",
       "</table>\n",
       "</div>\n",
       "      <button class=\"colab-df-convert\" onclick=\"convertToInteractive('df-6638b748-7518-42d3-b667-9b6f2dd471b5')\"\n",
       "              title=\"Convert this dataframe to an interactive table.\"\n",
       "              style=\"display:none;\">\n",
       "        \n",
       "  <svg xmlns=\"http://www.w3.org/2000/svg\" height=\"24px\"viewBox=\"0 0 24 24\"\n",
       "       width=\"24px\">\n",
       "    <path d=\"M0 0h24v24H0V0z\" fill=\"none\"/>\n",
       "    <path d=\"M18.56 5.44l.94 2.06.94-2.06 2.06-.94-2.06-.94-.94-2.06-.94 2.06-2.06.94zm-11 1L8.5 8.5l.94-2.06 2.06-.94-2.06-.94L8.5 2.5l-.94 2.06-2.06.94zm10 10l.94 2.06.94-2.06 2.06-.94-2.06-.94-.94-2.06-.94 2.06-2.06.94z\"/><path d=\"M17.41 7.96l-1.37-1.37c-.4-.4-.92-.59-1.43-.59-.52 0-1.04.2-1.43.59L10.3 9.45l-7.72 7.72c-.78.78-.78 2.05 0 2.83L4 21.41c.39.39.9.59 1.41.59.51 0 1.02-.2 1.41-.59l7.78-7.78 2.81-2.81c.8-.78.8-2.07 0-2.86zM5.41 20L4 18.59l7.72-7.72 1.47 1.35L5.41 20z\"/>\n",
       "  </svg>\n",
       "      </button>\n",
       "      \n",
       "  <style>\n",
       "    .colab-df-container {\n",
       "      display:flex;\n",
       "      flex-wrap:wrap;\n",
       "      gap: 12px;\n",
       "    }\n",
       "\n",
       "    .colab-df-convert {\n",
       "      background-color: #E8F0FE;\n",
       "      border: none;\n",
       "      border-radius: 50%;\n",
       "      cursor: pointer;\n",
       "      display: none;\n",
       "      fill: #1967D2;\n",
       "      height: 32px;\n",
       "      padding: 0 0 0 0;\n",
       "      width: 32px;\n",
       "    }\n",
       "\n",
       "    .colab-df-convert:hover {\n",
       "      background-color: #E2EBFA;\n",
       "      box-shadow: 0px 1px 2px rgba(60, 64, 67, 0.3), 0px 1px 3px 1px rgba(60, 64, 67, 0.15);\n",
       "      fill: #174EA6;\n",
       "    }\n",
       "\n",
       "    [theme=dark] .colab-df-convert {\n",
       "      background-color: #3B4455;\n",
       "      fill: #D2E3FC;\n",
       "    }\n",
       "\n",
       "    [theme=dark] .colab-df-convert:hover {\n",
       "      background-color: #434B5C;\n",
       "      box-shadow: 0px 1px 3px 1px rgba(0, 0, 0, 0.15);\n",
       "      filter: drop-shadow(0px 1px 2px rgba(0, 0, 0, 0.3));\n",
       "      fill: #FFFFFF;\n",
       "    }\n",
       "  </style>\n",
       "\n",
       "      <script>\n",
       "        const buttonEl =\n",
       "          document.querySelector('#df-6638b748-7518-42d3-b667-9b6f2dd471b5 button.colab-df-convert');\n",
       "        buttonEl.style.display =\n",
       "          google.colab.kernel.accessAllowed ? 'block' : 'none';\n",
       "\n",
       "        async function convertToInteractive(key) {\n",
       "          const element = document.querySelector('#df-6638b748-7518-42d3-b667-9b6f2dd471b5');\n",
       "          const dataTable =\n",
       "            await google.colab.kernel.invokeFunction('convertToInteractive',\n",
       "                                                     [key], {});\n",
       "          if (!dataTable) return;\n",
       "\n",
       "          const docLinkHtml = 'Like what you see? Visit the ' +\n",
       "            '<a target=\"_blank\" href=https://colab.research.google.com/notebooks/data_table.ipynb>data table notebook</a>'\n",
       "            + ' to learn more about interactive tables.';\n",
       "          element.innerHTML = '';\n",
       "          dataTable['output_type'] = 'display_data';\n",
       "          await google.colab.output.renderOutput(dataTable, element);\n",
       "          const docLink = document.createElement('div');\n",
       "          docLink.innerHTML = docLinkHtml;\n",
       "          element.appendChild(docLink);\n",
       "        }\n",
       "      </script>\n",
       "    </div>\n",
       "  </div>\n",
       "  "
      ],
      "text/plain": [
       "                   sub_service med_surg_indicator  demand\n",
       "0                 Cardiac Cath               SURG     4.0\n",
       "1                   Cardiac EP               SURG     1.0\n",
       "2              Cardiac Surgery               SURG    11.0\n",
       "3  General Surgical Gynecology               SURG     0.0\n",
       "4        Gyn Surgical Oncology               SURG     0.0\n",
       "5           Medical Cardiology                MED    16.0\n",
       "6           Medical Gynecology                MED     0.0"
      ]
     },
     "execution_count": 56,
     "metadata": {},
     "output_type": "execute_result"
    }
   ],
   "source": [
    "#Calculate the Total Average Demand by Subservice\n",
    "df_demand1['demand'] = df_demand1['demand'].div(731).round()\n",
    "df_demand1"
   ]
  },
  {
   "cell_type": "markdown",
   "metadata": {
    "id": "tGOHwTWTKcza"
   },
   "source": [
    "*Calculate the Triangle Distribution Average Daily Demand for each Sub-Service: Using Min, Max, and Mode*"
   ]
  },
  {
   "cell_type": "markdown",
   "metadata": {
    "id": "rdytwmZVvXso"
   },
   "source": [
    "*   Title: Python Scenario Analysis: Modeling Expert Estimates with the beta-PERT Distribution\n",
    "*   Author: Heiko Onnen\n",
    "*   Date: October 25, 2021\n",
    "*   Available from: https://towardsdatascience.com/python-scenario-analysis-modeling-expert-estimates-with-the-beta-pert-distribution-22a5e90cfa79 "
   ]
  },
  {
   "cell_type": "code",
   "execution_count": 57,
   "metadata": {
    "id": "4rPD3O49t35h"
   },
   "outputs": [],
   "source": [
    "#Drop the Facility, Service Line, Ip_OP, and Med_Surg Columns\n",
    "df_demand= df_demand.drop(columns= ['facility', 'service_line', 'ip_op_indicator', 'med_surg_indicator'])"
   ]
  },
  {
   "cell_type": "code",
   "execution_count": 58,
   "metadata": {
    "colab": {
     "base_uri": "https://localhost:8080/",
     "height": 206
    },
    "id": "hjg59hQYwW0I",
    "outputId": "08803310-5001-495d-b8b9-ca934edc2a26"
   },
   "outputs": [
    {
     "data": {
      "text/html": [
       "\n",
       "  <div id=\"df-bbf8aef1-2f92-4901-b3e9-47b05a3fecd1\">\n",
       "    <div class=\"colab-df-container\">\n",
       "      <div>\n",
       "<style scoped>\n",
       "    .dataframe tbody tr th:only-of-type {\n",
       "        vertical-align: middle;\n",
       "    }\n",
       "\n",
       "    .dataframe tbody tr th {\n",
       "        vertical-align: top;\n",
       "    }\n",
       "\n",
       "    .dataframe thead th {\n",
       "        text-align: right;\n",
       "    }\n",
       "</style>\n",
       "<table border=\"1\" class=\"dataframe\">\n",
       "  <thead>\n",
       "    <tr style=\"text-align: right;\">\n",
       "      <th></th>\n",
       "      <th>sub_service</th>\n",
       "      <th>date</th>\n",
       "      <th>demand</th>\n",
       "    </tr>\n",
       "  </thead>\n",
       "  <tbody>\n",
       "    <tr>\n",
       "      <th>5088</th>\n",
       "      <td>Medical Gynecology</td>\n",
       "      <td>2020-02-25</td>\n",
       "      <td>0.0</td>\n",
       "    </tr>\n",
       "    <tr>\n",
       "      <th>5095</th>\n",
       "      <td>Medical Gynecology</td>\n",
       "      <td>2020-02-26</td>\n",
       "      <td>0.0</td>\n",
       "    </tr>\n",
       "    <tr>\n",
       "      <th>5102</th>\n",
       "      <td>Medical Gynecology</td>\n",
       "      <td>2020-02-27</td>\n",
       "      <td>0.0</td>\n",
       "    </tr>\n",
       "    <tr>\n",
       "      <th>5109</th>\n",
       "      <td>Medical Gynecology</td>\n",
       "      <td>2020-02-28</td>\n",
       "      <td>0.0</td>\n",
       "    </tr>\n",
       "    <tr>\n",
       "      <th>5116</th>\n",
       "      <td>Medical Gynecology</td>\n",
       "      <td>2020-02-29</td>\n",
       "      <td>1.0</td>\n",
       "    </tr>\n",
       "  </tbody>\n",
       "</table>\n",
       "</div>\n",
       "      <button class=\"colab-df-convert\" onclick=\"convertToInteractive('df-bbf8aef1-2f92-4901-b3e9-47b05a3fecd1')\"\n",
       "              title=\"Convert this dataframe to an interactive table.\"\n",
       "              style=\"display:none;\">\n",
       "        \n",
       "  <svg xmlns=\"http://www.w3.org/2000/svg\" height=\"24px\"viewBox=\"0 0 24 24\"\n",
       "       width=\"24px\">\n",
       "    <path d=\"M0 0h24v24H0V0z\" fill=\"none\"/>\n",
       "    <path d=\"M18.56 5.44l.94 2.06.94-2.06 2.06-.94-2.06-.94-.94-2.06-.94 2.06-2.06.94zm-11 1L8.5 8.5l.94-2.06 2.06-.94-2.06-.94L8.5 2.5l-.94 2.06-2.06.94zm10 10l.94 2.06.94-2.06 2.06-.94-2.06-.94-.94-2.06-.94 2.06-2.06.94z\"/><path d=\"M17.41 7.96l-1.37-1.37c-.4-.4-.92-.59-1.43-.59-.52 0-1.04.2-1.43.59L10.3 9.45l-7.72 7.72c-.78.78-.78 2.05 0 2.83L4 21.41c.39.39.9.59 1.41.59.51 0 1.02-.2 1.41-.59l7.78-7.78 2.81-2.81c.8-.78.8-2.07 0-2.86zM5.41 20L4 18.59l7.72-7.72 1.47 1.35L5.41 20z\"/>\n",
       "  </svg>\n",
       "      </button>\n",
       "      \n",
       "  <style>\n",
       "    .colab-df-container {\n",
       "      display:flex;\n",
       "      flex-wrap:wrap;\n",
       "      gap: 12px;\n",
       "    }\n",
       "\n",
       "    .colab-df-convert {\n",
       "      background-color: #E8F0FE;\n",
       "      border: none;\n",
       "      border-radius: 50%;\n",
       "      cursor: pointer;\n",
       "      display: none;\n",
       "      fill: #1967D2;\n",
       "      height: 32px;\n",
       "      padding: 0 0 0 0;\n",
       "      width: 32px;\n",
       "    }\n",
       "\n",
       "    .colab-df-convert:hover {\n",
       "      background-color: #E2EBFA;\n",
       "      box-shadow: 0px 1px 2px rgba(60, 64, 67, 0.3), 0px 1px 3px 1px rgba(60, 64, 67, 0.15);\n",
       "      fill: #174EA6;\n",
       "    }\n",
       "\n",
       "    [theme=dark] .colab-df-convert {\n",
       "      background-color: #3B4455;\n",
       "      fill: #D2E3FC;\n",
       "    }\n",
       "\n",
       "    [theme=dark] .colab-df-convert:hover {\n",
       "      background-color: #434B5C;\n",
       "      box-shadow: 0px 1px 3px 1px rgba(0, 0, 0, 0.15);\n",
       "      filter: drop-shadow(0px 1px 2px rgba(0, 0, 0, 0.3));\n",
       "      fill: #FFFFFF;\n",
       "    }\n",
       "  </style>\n",
       "\n",
       "      <script>\n",
       "        const buttonEl =\n",
       "          document.querySelector('#df-bbf8aef1-2f92-4901-b3e9-47b05a3fecd1 button.colab-df-convert');\n",
       "        buttonEl.style.display =\n",
       "          google.colab.kernel.accessAllowed ? 'block' : 'none';\n",
       "\n",
       "        async function convertToInteractive(key) {\n",
       "          const element = document.querySelector('#df-bbf8aef1-2f92-4901-b3e9-47b05a3fecd1');\n",
       "          const dataTable =\n",
       "            await google.colab.kernel.invokeFunction('convertToInteractive',\n",
       "                                                     [key], {});\n",
       "          if (!dataTable) return;\n",
       "\n",
       "          const docLinkHtml = 'Like what you see? Visit the ' +\n",
       "            '<a target=\"_blank\" href=https://colab.research.google.com/notebooks/data_table.ipynb>data table notebook</a>'\n",
       "            + ' to learn more about interactive tables.';\n",
       "          element.innerHTML = '';\n",
       "          dataTable['output_type'] = 'display_data';\n",
       "          await google.colab.output.renderOutput(dataTable, element);\n",
       "          const docLink = document.createElement('div');\n",
       "          docLink.innerHTML = docLinkHtml;\n",
       "          element.appendChild(docLink);\n",
       "        }\n",
       "      </script>\n",
       "    </div>\n",
       "  </div>\n",
       "  "
      ],
      "text/plain": [
       "             sub_service       date  demand\n",
       "5088  Medical Gynecology 2020-02-25     0.0\n",
       "5095  Medical Gynecology 2020-02-26     0.0\n",
       "5102  Medical Gynecology 2020-02-27     0.0\n",
       "5109  Medical Gynecology 2020-02-28     0.0\n",
       "5116  Medical Gynecology 2020-02-29     1.0"
      ]
     },
     "execution_count": 58,
     "metadata": {},
     "output_type": "execute_result"
    }
   ],
   "source": [
    "#Transform the Demand Data Frame to list all unique dates for each Sub-Service\n",
    "#Pivot Demand Data Frame by Date\n",
    "df_demand['date'] = pd.to_datetime(df_demand['date'])\n",
    "df_demand = df_demand.pivot(index='date', columns='sub_service', values='demand')\n",
    "df_demand = df_demand.sort_values('date')\n",
    "#Fill in Date Null Values with 0\n",
    "df_demand= df_demand.fillna(0)\n",
    "#Pivot Demand Data Frame back to Sub-Service\n",
    "df_demand = df_demand.stack().reset_index().sort_values(by=['sub_service', 'date'], axis=0)\n",
    "df_demand.reset_index()\n",
    "df_demand.rename(columns = {0: 'demand'}, inplace=True)\n",
    "df_demand = df_demand[['sub_service', 'date', 'demand']]\n",
    "df_demand.tail(5)"
   ]
  },
  {
   "cell_type": "code",
   "execution_count": 59,
   "metadata": {
    "colab": {
     "base_uri": "https://localhost:8080/",
     "height": 282
    },
    "id": "SV37xcL0JksU",
    "outputId": "8208966a-b93c-42b5-913c-042c53f70b1a"
   },
   "outputs": [
    {
     "data": {
      "text/plain": [
       "5.0"
      ]
     },
     "execution_count": 59,
     "metadata": {},
     "output_type": "execute_result"
    },
    {
     "data": {
      "image/png": "[encoded data removed]",
      "text/plain": [
       "<Figure size 432x288 with 1 Axes>"
      ]
     },
     "metadata": {
      "needs_background": "light"
     },
     "output_type": "display_data"
    }
   ],
   "source": [
    "#Triangle Distribution for Cardiac Cath\n",
    "#Calculate Cardiac Cath Mode, Min, and Max only\n",
    "c_cath = df_demand[df_demand['sub_service']=='Cardiac Cath']\n",
    "cath_m =c_cath.mode()['demand'][0]\n",
    "cath_min =c_cath['demand'].min()\n",
    "cath_max =c_cath['demand'].max()\n",
    "#Scale Cardiac Cath Mode, Min, and Max and Plot on a Graph\n",
    "cath_scale= (cath_m-cath_min)/(cath_max-cath_min)\n",
    "cath_rvT =triang(cath_scale)\n",
    "x = np.linspace(0, 1, 100)\n",
    "fig, ax = plt.subplots(1, 1)\n",
    "ax.plot(x, cath_rvT.pdf(x), 'r-', lw=5, alpha=0.6, label='Triangular pdf')\n",
    "#Calculate Triangle Distribution Average Daily Demand for Cardiac Cath\n",
    "cath_mean= cath_rvT.mean() *(cath_max-cath_min) + cath_min\n",
    "cath_mean.round()"
   ]
  },
  {
   "cell_type": "code",
   "execution_count": 60,
   "metadata": {
    "colab": {
     "base_uri": "https://localhost:8080/",
     "height": 282
    },
    "id": "IMRGM4HDQ75O",
    "outputId": "739dc7f3-3b0e-42ac-ec79-65741ff971d8"
   },
   "outputs": [
    {
     "data": {
      "text/plain": [
       "3.0"
      ]
     },
     "execution_count": 60,
     "metadata": {},
     "output_type": "execute_result"
    },
    {
     "data": {
      "image/png": "[encoded data removed]",
      "text/plain": [
       "<Figure size 432x288 with 1 Axes>"
      ]
     },
     "metadata": {
      "needs_background": "light"
     },
     "output_type": "display_data"
    }
   ],
   "source": [
    "#Triangle Distribution for Cardiac EP\n",
    "#Calculate Cardiac EP Mode, Min, and Max only\n",
    "c_cep = df_demand[df_demand['sub_service']=='Cardiac EP']\n",
    "cep_m =c_cep.mode()['demand'][0]\n",
    "cep_min =c_cep['demand'].min()\n",
    "cep_max =c_cep['demand'].max()\n",
    "#Scale Cardiac EP Mode, Min, and Max and Plot on a Graph\n",
    "cep_scale= (cep_m-cep_min)/(cep_max-cep_min)\n",
    "cep_rvT =triang(cep_scale)\n",
    "x = np.linspace(0, 1, 100)\n",
    "fig, ax = plt.subplots(1, 1)\n",
    "ax.plot(x, cep_rvT.pdf(x), 'r-', lw=5, alpha=0.6, label='Triangular pdf')\n",
    "#Calculate Triangle Distribution Average Daily Demand for Cardiac Ep\n",
    "cep_mean= cep_rvT.mean() *(cep_max-cep_min) + cep_min\n",
    "cep_mean.round()"
   ]
  },
  {
   "cell_type": "code",
   "execution_count": 61,
   "metadata": {
    "colab": {
     "base_uri": "https://localhost:8080/",
     "height": 282
    },
    "id": "ysAt6IOqKRVG",
    "outputId": "e6efde2c-da3c-440e-a46d-c50b3bcd40c4"
   },
   "outputs": [
    {
     "data": {
      "text/plain": [
       "13.0"
      ]
     },
     "execution_count": 61,
     "metadata": {},
     "output_type": "execute_result"
    },
    {
     "data": {
      "image/png": "[encoded data removed]",
      "text/plain": [
       "<Figure size 432x288 with 1 Axes>"
      ]
     },
     "metadata": {
      "needs_background": "light"
     },
     "output_type": "display_data"
    }
   ],
   "source": [
    "#Triangle Distribution for Cardiac Surgery\n",
    "#Calculate Cardiac Surgery Mode, Min, and Max only\n",
    "c_cs = df_demand[df_demand['sub_service']=='Cardiac Surgery']\n",
    "cs_m =c_cs.mode()['demand'][0]\n",
    "cs_min =c_cs['demand'].min()\n",
    "cs_max =c_cs['demand'].max()\n",
    "#Scale Cardiac Surgery Mode, Min, and Max and Plot on a Graph\n",
    "cs_scale= (cs_m-cs_min)/(cs_max-cs_min)\n",
    "cs_rvT =triang(cs_scale)\n",
    "x = np.linspace(0, 1, 100)\n",
    "fig, ax = plt.subplots(1, 1)\n",
    "ax.plot(x, cs_rvT.pdf(x), 'r-', lw=5, alpha=0.6, label='Triangular pdf')\n",
    "#Calculate Triangle Distribution Average Daily Demand for Cardiac Surgery\n",
    "cs_mean= cs_rvT.mean() *(cs_max-cs_min) + cs_min\n",
    "cs_mean.round()"
   ]
  },
  {
   "cell_type": "code",
   "execution_count": 62,
   "metadata": {
    "colab": {
     "base_uri": "https://localhost:8080/",
     "height": 282
    },
    "id": "FAF3KOHpWY7W",
    "outputId": "7790fdf9-f998-4218-907a-c6723bfd0930"
   },
   "outputs": [
    {
     "data": {
      "text/plain": [
       "1.0"
      ]
     },
     "execution_count": 62,
     "metadata": {},
     "output_type": "execute_result"
    },
    {
     "data": {
      "image/png": "[encoded data removed]",
      "text/plain": [
       "<Figure size 432x288 with 1 Axes>"
      ]
     },
     "metadata": {
      "needs_background": "light"
     },
     "output_type": "display_data"
    }
   ],
   "source": [
    "#Triangle Distribution for General Surgical Gynecology\n",
    "#Calculate General Surgical Gynecology Mode, Min, and Max only\n",
    "c_gsg = df_demand[df_demand['sub_service']=='General Surgical Gynecology']\n",
    "gsg_m =c_gsg.mode()['demand'][0]\n",
    "gsg_min =c_gsg['demand'].min()\n",
    "gsg_max =c_gsg['demand'].max()\n",
    "#Scale General Surgical Gynecology Mode, Min, and Max and Plot on a Graph\n",
    "#min and mode are the same so it will be a \"ramp shape\"\n",
    "gsg_scale= (gsg_m-gsg_min)/(gsg_max-gsg_min)\n",
    "gsg_rvT =triang(gsg_scale)\n",
    "x = np.linspace(0, 1, 100)\n",
    "fig, ax = plt.subplots(1, 1)\n",
    "ax.plot(x, gsg_rvT.pdf(x), 'r-', lw=5, alpha=0.6, label='Triangular pdf')\n",
    "#Calculate Triangle Distribution Average Daily Demand for General Surgical Gynecology\n",
    "gsg_mean= gsg_rvT.mean() *(gsg_max-gsg_min) + gsg_min\n",
    "gsg_mean.round()"
   ]
  },
  {
   "cell_type": "code",
   "execution_count": 63,
   "metadata": {
    "colab": {
     "base_uri": "https://localhost:8080/",
     "height": 282
    },
    "id": "e1AFToCgXkwQ",
    "outputId": "f1534ce6-cab2-4edd-8094-c665043003dc"
   },
   "outputs": [
    {
     "data": {
      "text/plain": [
       "1.0"
      ]
     },
     "execution_count": 63,
     "metadata": {},
     "output_type": "execute_result"
    },
    {
     "data": {
      "image/png": "[encoded data removed]",
      "text/plain": [
       "<Figure size 432x288 with 1 Axes>"
      ]
     },
     "metadata": {
      "needs_background": "light"
     },
     "output_type": "display_data"
    }
   ],
   "source": [
    "#Triangle Distribution for Gyn Surgical Oncology\n",
    "#Calculate Gyn Surgical Oncology Mode, Min, and Max only\n",
    "c_gso = df_demand[df_demand['sub_service']=='Gyn Surgical Oncology']\n",
    "gso_m =c_gso.mode()['demand'][0]\n",
    "gso_min =c_gso['demand'].min()\n",
    "gso_max =c_gso['demand'].max()\n",
    "#Scale Gyn Surgical Oncology Mode, Min, and Max and Plot on a Graph\n",
    "#min and mode are the same so it will be a \"ramp shape\"\n",
    "gso_scale= (gso_m-gso_min)/(gso_max-gso_min)\n",
    "gso_rvT =triang(gso_scale)\n",
    "x = np.linspace(0, 1, 100)\n",
    "fig, ax = plt.subplots(1, 1)\n",
    "ax.plot(x, gso_rvT.pdf(x), 'r-', lw=5, alpha=0.6, label='Triangular pdf')\n",
    "#Calculate Triangle Distribution Average Daily Demand for Gyn Surgical Oncology\n",
    "gso_mean= gso_rvT.mean() *(gso_max-gso_min) + gso_min\n",
    "gso_mean.round()"
   ]
  },
  {
   "cell_type": "code",
   "execution_count": 64,
   "metadata": {
    "colab": {
     "base_uri": "https://localhost:8080/",
     "height": 282
    },
    "id": "MdQgrn4QaP-Q",
    "outputId": "490a2c65-a43e-488f-a7e5-6dcbfdb444b0"
   },
   "outputs": [
    {
     "data": {
      "text/plain": [
       "19.0"
      ]
     },
     "execution_count": 64,
     "metadata": {},
     "output_type": "execute_result"
    },
    {
     "data": {
      "image/png": "[encoded data removed]",
      "text/plain": [
       "<Figure size 432x288 with 1 Axes>"
      ]
     },
     "metadata": {
      "needs_background": "light"
     },
     "output_type": "display_data"
    }
   ],
   "source": [
    "#Triangle Distribution for Medical Cardiology\n",
    "#Calculate Medical Cardiology Mode, Min, and Max only\n",
    "c_mc = df_demand[df_demand['sub_service']=='Medical Cardiology']\n",
    "mc_m =c_mc.mode()['demand'][0]\n",
    "mc_min =c_mc['demand'].min()\n",
    "mc_max =c_mc['demand'].max()\n",
    "#Scale Medical Cardiology Mode, Min, and Max and Plot on a Graph\n",
    "mc_scale= (mc_m-mc_min)/(mc_max-mc_min)\n",
    "mc_rvT =triang(mc_scale)\n",
    "x = np.linspace(0, 1, 100)\n",
    "fig, ax = plt.subplots(1, 1)\n",
    "ax.plot(x, mc_rvT.pdf(x), 'r-', lw=5, alpha=0.6, label='Triangular pdf')\n",
    "#Calculate Triangle Distribution Average Daily Demand for Medical Cardiology\n",
    "mc_mean= mc_rvT.mean() *(mc_max-mc_min) + mc_min\n",
    "mc_mean.round()"
   ]
  },
  {
   "cell_type": "code",
   "execution_count": 66,
   "metadata": {
    "colab": {
     "base_uri": "https://localhost:8080/",
     "height": 282
    },
    "id": "QEOK4brHcCiF",
    "outputId": "62fe316a-101c-4aba-a505-ea3fc3fe9bf4"
   },
   "outputs": [
    {
     "data": {
      "text/plain": [
       "1.0"
      ]
     },
     "execution_count": 66,
     "metadata": {},
     "output_type": "execute_result"
    },
    {
     "data": {
      "image/png": "[encoded data removed]",
      "text/plain": [
       "<Figure size 432x288 with 1 Axes>"
      ]
     },
     "metadata": {
      "needs_background": "light"
     },
     "output_type": "display_data"
    }
   ],
   "source": [
    "#Triangle Distribution for Medical Gynecology\n",
    "#Calculate Medical Gynecology Mode, Min, and Max only\n",
    "c_mg = df_demand[df_demand['sub_service']=='Medical Gynecology']\n",
    "mg_m =c_mg.mode()['demand'][0]\n",
    "mg_min =c_mg['demand'].min()\n",
    "mg_max =c_mg['demand'].max()\n",
    "#Scale Medical Gynecology Mode, Min, and Max and Plot on a Graph\n",
    "#min and mode are the same so it will be a \"ramp shape\"\n",
    "mg_scale= (mg_m-mg_min)/(mg_max-mg_min)\n",
    "mg_rvT =triang(mg_scale)\n",
    "x = np.linspace(0, 1, 100)\n",
    "fig, ax = plt.subplots(1, 1)\n",
    "ax.plot(x, mg_rvT.pdf(x), 'r-', lw=5, alpha=0.6, label='Triangular pdf')\n",
    "#Calculate Triangle Distribution Average Daily Demand for Medical Gynecology\n",
    "mg_mean= mg_rvT.mean() *(mg_max-mg_min) + mg_min\n",
    "mg_mean.round()"
   ]
  },
  {
   "cell_type": "markdown",
   "metadata": {
    "id": "3WF-37bndizL"
   },
   "source": [
    "**Define Decision Variables and Constraints**"
   ]
  },
  {
   "cell_type": "markdown",
   "metadata": {
    "id": "u5tDCC1oxEC2"
   },
   "source": [
    "*   Title: Optimization Python\n",
    "*   Author: Tirthajyoti Sarkar\n",
    "*   Date: 2020\n",
    "*   Code Version: Python 3+\n",
    "*   Available from: https://github.com/tirthajyoti/Optimization-Python/commit/708a3a61e6d0a7aabb3294a8b8b5d79edc816a4d\n",
    "\n",
    "\n",
    "\n",
    "\n",
    "\n",
    "\n"
   ]
  },
  {
   "cell_type": "markdown",
   "metadata": {
    "id": "3pgAxC9kUCmk"
   },
   "source": [
    "*Decision Variable- The Number of Sub-Services to offer each day*"
   ]
  },
  {
   "cell_type": "code",
   "execution_count": 67,
   "metadata": {
    "id": "cZgMOwoXyYP_"
   },
   "outputs": [],
   "source": [
    "#The Demand Data Frame will determine the available Sub-Services\n",
    "dem_list= list(df_demand['sub_service'])\n",
    "sub_serve= list(dict.fromkeys(dem_list))\n",
    "sub_serve.sort()\n",
    "\n",
    "#Define the Sub-Service Decision Variable\n",
    "sub_vars= LpVariable.dicts('x',sub_serve, 0, cat=\"Integer\")"
   ]
  },
  {
   "cell_type": "markdown",
   "metadata": {
    "id": "G0f7ZQ3XUjn4"
   },
   "source": [
    "Constraints- Margin, Demand, Resource Capacity, and Resource Utilization"
   ]
  },
  {
   "cell_type": "code",
   "execution_count": 68,
   "metadata": {
    "colab": {
     "base_uri": "https://localhost:8080/"
    },
    "id": "kPIjwY_qv0r2",
    "outputId": "06765619-4d1c-4ddb-cbff-b92b2e0a66d8"
   },
   "outputs": [
    {
     "data": {
      "text/plain": [
       "{'Cardiac Cath': 9791.1,\n",
       " 'Cardiac EP': 25878.12,\n",
       " 'Cardiac Surgery': 64148.76,\n",
       " 'General Surgical Gynecology': 10111.27,\n",
       " 'Gyn Surgical Oncology': 12451.33,\n",
       " 'Medical Cardiology': 3629.9,\n",
       " 'Medical Gynecology': 1976.44}"
      ]
     },
     "execution_count": 68,
     "metadata": {},
     "output_type": "execute_result"
    }
   ],
   "source": [
    "#The Margin of each Sub-Service\n",
    "margin= dict(zip(sub_serve, df_rev['margin']))\n",
    "margin\n"
   ]
  },
  {
   "cell_type": "code",
   "execution_count": 69,
   "metadata": {
    "colab": {
     "base_uri": "https://localhost:8080/"
    },
    "id": "XD8eEn_tVvzu",
    "outputId": "9c9a8a32-04d5-4b1b-b173-8679299b2050"
   },
   "outputs": [
    {
     "data": {
      "text/plain": [
       "{'Cardiac Cath': 4.0,\n",
       " 'Cardiac EP': 1.0,\n",
       " 'Cardiac Surgery': 11.0,\n",
       " 'General Surgical Gynecology': 0.0,\n",
       " 'Gyn Surgical Oncology': 0.0,\n",
       " 'Medical Cardiology': 16.0,\n",
       " 'Medical Gynecology': 0.0}"
      ]
     },
     "execution_count": 69,
     "metadata": {},
     "output_type": "execute_result"
    }
   ],
   "source": [
    "#The Total Average Daily Demand of each Sub-Service\n",
    "demand= dict(zip(sub_serve, df_demand1['demand']))\n",
    "demand"
   ]
  },
  {
   "cell_type": "code",
   "execution_count": 70,
   "metadata": {
    "colab": {
     "base_uri": "https://localhost:8080/",
     "height": 206
    },
    "id": "7kpCZXaXWbtw",
    "outputId": "632e10fe-462f-4c90-9904-7c8c1232344b"
   },
   "outputs": [
    {
     "data": {
      "text/html": [
       "\n",
       "  <div id=\"df-e57a1494-9712-49fd-904f-6837a524d935\">\n",
       "    <div class=\"colab-df-container\">\n",
       "      <div>\n",
       "<style scoped>\n",
       "    .dataframe tbody tr th:only-of-type {\n",
       "        vertical-align: middle;\n",
       "    }\n",
       "\n",
       "    .dataframe tbody tr th {\n",
       "        vertical-align: top;\n",
       "    }\n",
       "\n",
       "    .dataframe thead th {\n",
       "        text-align: right;\n",
       "    }\n",
       "</style>\n",
       "<table border=\"1\" class=\"dataframe\">\n",
       "  <thead>\n",
       "    <tr style=\"text-align: right;\">\n",
       "      <th></th>\n",
       "      <th>resource</th>\n",
       "      <th>Capacity</th>\n",
       "    </tr>\n",
       "  </thead>\n",
       "  <tbody>\n",
       "    <tr>\n",
       "      <th>0</th>\n",
       "      <td>Ventilators</td>\n",
       "      <td>25</td>\n",
       "    </tr>\n",
       "    <tr>\n",
       "      <th>5</th>\n",
       "      <td>Bariatric Beds</td>\n",
       "      <td>2</td>\n",
       "    </tr>\n",
       "    <tr>\n",
       "      <th>6</th>\n",
       "      <td>Cardiac Short Stay Beds</td>\n",
       "      <td>8</td>\n",
       "    </tr>\n",
       "    <tr>\n",
       "      <th>7</th>\n",
       "      <td>Cardiac Transplant Beds</td>\n",
       "      <td>8</td>\n",
       "    </tr>\n",
       "    <tr>\n",
       "      <th>8</th>\n",
       "      <td>Cardiac VIP Beds</td>\n",
       "      <td>8</td>\n",
       "    </tr>\n",
       "  </tbody>\n",
       "</table>\n",
       "</div>\n",
       "      <button class=\"colab-df-convert\" onclick=\"convertToInteractive('df-e57a1494-9712-49fd-904f-6837a524d935')\"\n",
       "              title=\"Convert this dataframe to an interactive table.\"\n",
       "              style=\"display:none;\">\n",
       "        \n",
       "  <svg xmlns=\"http://www.w3.org/2000/svg\" height=\"24px\"viewBox=\"0 0 24 24\"\n",
       "       width=\"24px\">\n",
       "    <path d=\"M0 0h24v24H0V0z\" fill=\"none\"/>\n",
       "    <path d=\"M18.56 5.44l.94 2.06.94-2.06 2.06-.94-2.06-.94-.94-2.06-.94 2.06-2.06.94zm-11 1L8.5 8.5l.94-2.06 2.06-.94-2.06-.94L8.5 2.5l-.94 2.06-2.06.94zm10 10l.94 2.06.94-2.06 2.06-.94-2.06-.94-.94-2.06-.94 2.06-2.06.94z\"/><path d=\"M17.41 7.96l-1.37-1.37c-.4-.4-.92-.59-1.43-.59-.52 0-1.04.2-1.43.59L10.3 9.45l-7.72 7.72c-.78.78-.78 2.05 0 2.83L4 21.41c.39.39.9.59 1.41.59.51 0 1.02-.2 1.41-.59l7.78-7.78 2.81-2.81c.8-.78.8-2.07 0-2.86zM5.41 20L4 18.59l7.72-7.72 1.47 1.35L5.41 20z\"/>\n",
       "  </svg>\n",
       "      </button>\n",
       "      \n",
       "  <style>\n",
       "    .colab-df-container {\n",
       "      display:flex;\n",
       "      flex-wrap:wrap;\n",
       "      gap: 12px;\n",
       "    }\n",
       "\n",
       "    .colab-df-convert {\n",
       "      background-color: #E8F0FE;\n",
       "      border: none;\n",
       "      border-radius: 50%;\n",
       "      cursor: pointer;\n",
       "      display: none;\n",
       "      fill: #1967D2;\n",
       "      height: 32px;\n",
       "      padding: 0 0 0 0;\n",
       "      width: 32px;\n",
       "    }\n",
       "\n",
       "    .colab-df-convert:hover {\n",
       "      background-color: #E2EBFA;\n",
       "      box-shadow: 0px 1px 2px rgba(60, 64, 67, 0.3), 0px 1px 3px 1px rgba(60, 64, 67, 0.15);\n",
       "      fill: #174EA6;\n",
       "    }\n",
       "\n",
       "    [theme=dark] .colab-df-convert {\n",
       "      background-color: #3B4455;\n",
       "      fill: #D2E3FC;\n",
       "    }\n",
       "\n",
       "    [theme=dark] .colab-df-convert:hover {\n",
       "      background-color: #434B5C;\n",
       "      box-shadow: 0px 1px 3px 1px rgba(0, 0, 0, 0.15);\n",
       "      filter: drop-shadow(0px 1px 2px rgba(0, 0, 0, 0.3));\n",
       "      fill: #FFFFFF;\n",
       "    }\n",
       "  </style>\n",
       "\n",
       "      <script>\n",
       "        const buttonEl =\n",
       "          document.querySelector('#df-e57a1494-9712-49fd-904f-6837a524d935 button.colab-df-convert');\n",
       "        buttonEl.style.display =\n",
       "          google.colab.kernel.accessAllowed ? 'block' : 'none';\n",
       "\n",
       "        async function convertToInteractive(key) {\n",
       "          const element = document.querySelector('#df-e57a1494-9712-49fd-904f-6837a524d935');\n",
       "          const dataTable =\n",
       "            await google.colab.kernel.invokeFunction('convertToInteractive',\n",
       "                                                     [key], {});\n",
       "          if (!dataTable) return;\n",
       "\n",
       "          const docLinkHtml = 'Like what you see? Visit the ' +\n",
       "            '<a target=\"_blank\" href=https://colab.research.google.com/notebooks/data_table.ipynb>data table notebook</a>'\n",
       "            + ' to learn more about interactive tables.';\n",
       "          element.innerHTML = '';\n",
       "          dataTable['output_type'] = 'display_data';\n",
       "          await google.colab.output.renderOutput(dataTable, element);\n",
       "          const docLink = document.createElement('div');\n",
       "          docLink.innerHTML = docLinkHtml;\n",
       "          element.appendChild(docLink);\n",
       "        }\n",
       "      </script>\n",
       "    </div>\n",
       "  </div>\n",
       "  "
      ],
      "text/plain": [
       "                  resource  Capacity\n",
       "0              Ventilators        25\n",
       "5           Bariatric Beds         2\n",
       "6  Cardiac Short Stay Beds         8\n",
       "7  Cardiac Transplant Beds         8\n",
       "8         Cardiac VIP Beds         8"
      ]
     },
     "execution_count": 70,
     "metadata": {},
     "output_type": "execute_result"
    }
   ],
   "source": [
    "#The Resource Capacity for Facility 2\n",
    "df_capacity[['resource', 'Capacity']].head(5)"
   ]
  },
  {
   "cell_type": "code",
   "execution_count": 71,
   "metadata": {
    "colab": {
     "base_uri": "https://localhost:8080/"
    },
    "id": "zeFAtgiuwOrE",
    "outputId": "cc165c5c-dcc1-4e51-aac1-043c728eac06"
   },
   "outputs": [
    {
     "data": {
      "text/plain": [
       "{'Cardiac Cath': 0.0,\n",
       " 'Cardiac EP': 0.0,\n",
       " 'Cardiac Surgery': 0.0,\n",
       " 'General Surgical Gynecology': 0.006,\n",
       " 'Gyn Surgical Oncology': 0.001,\n",
       " 'Medical Cardiology': 0.0,\n",
       " 'Medical Gynecology': 0.0}"
      ]
     },
     "execution_count": 71,
     "metadata": {},
     "output_type": "execute_result"
    }
   ],
   "source": [
    "#The Average number of each resource required by each Sub-service\n",
    "cass_bed = dict(zip(sub_serve,df_utilize_sum['Cardiac Short Stay Beds']))\n",
    "cat_bed = dict(zip(sub_serve,df_utilize_sum['Cardiac Transplant Beds']))\n",
    "cav_bed = dict(zip(sub_serve,df_utilize_sum['Cardiac VIP Beds']))\n",
    "cas_bed = dict(zip(sub_serve,df_utilize_sum['Cardiology Stepdown Beds']))\n",
    "cvsi_bed = dict(zip(sub_serve,df_utilize_sum['Cardiovascular Surgery ICU Beds']))\n",
    "cvss_bed = dict(zip(sub_serve,df_utilize_sum['Cardiovascular Surgery Stepdown Beds']))\n",
    "cos_bed = dict(zip(sub_serve,df_utilize_sum['Colorectal Surgery Beds']))\n",
    "cori_bed = dict(zip(sub_serve,df_utilize_sum['Coronary ICU Beds']))\n",
    "edo_bed = dict(zip(sub_serve,df_utilize_sum['ED Observation Beds']))\n",
    "hfi_bed = dict(zip(sub_serve,df_utilize_sum['Heart Failure ICU Beds']))\n",
    "mi_bed = dict(zip(sub_serve,df_utilize_sum['Medical ICU Beds']))\n",
    "medi_bed = dict(zip(sub_serve,df_utilize_sum['Medicine Beds']))\n",
    "ni_bed = dict(zip(sub_serve,df_utilize_sum['Neuro ICU Beds']))\n",
    "nmed_bed = dict(zip(sub_serve,df_utilize_sum['Neuro MedSurg Beds']))\n",
    "op_rm = dict(zip(sub_serve,df_utilize_sum['Operating Rooms']))\n",
    "orth_bed = dict(zip(sub_serve,df_utilize_sum['Ortho Beds']))\n",
    "ped_bed = dict(zip(sub_serve,df_utilize_sum['Pediatric Intensive Care Unit Beds']))\n",
    "si_bed = dict(zip(sub_serve,df_utilize_sum['Surgery ICU Beds']))\n",
    "tss_bed = dict(zip(sub_serve,df_utilize_sum['Thoracic Surgery Stepdown Beds']))\n",
    "tr_bed = dict(zip(sub_serve,df_utilize_sum['Transplant Beds']))\n",
    "u_bed = dict(zip(sub_serve,df_utilize_sum['Urology Beds']))\n",
    "vsi_bed = dict(zip(sub_serve,df_utilize_sum['Vascular Surgery ICU Beds']))\n",
    "vss_bed = dict(zip(sub_serve,df_utilize_sum['Vascular Surgery Stepdown Beds']))\n",
    "ven = dict(zip(sub_serve,df_utilize_sum['Ventilators']))\n",
    "hc_bed = dict(zip(sub_serve,df_utilize_sum['Hemonc/Cancer Beds']))\n",
    "st_bed = dict(zip(sub_serve,df_utilize_sum['Surgical Telemetry Beds']))\n",
    "nni_bed = dict(zip(sub_serve,df_utilize_sum['Neonatal ICU Beds']))\n",
    "pedi_bed = dict(zip(sub_serve,df_utilize_sum['Pediatric Intermediate Care Beds']))\n",
    "ba_bed = dict(zip(sub_serve,df_utilize_sum['Bariatric Beds']))\n",
    "ob_bed = dict(zip(sub_serve,df_utilize_sum['OBGYN Beds']))\n",
    "ss_bed = dict(zip(sub_serve,df_utilize_sum['Short Stay Beds']))\n",
    "#The average number of ss_bed required by each Sub-service\n",
    "ss_bed"
   ]
  },
  {
   "cell_type": "markdown",
   "metadata": {
    "id": "mz1cbVwFBNj_"
   },
   "source": [
    "**Build the Optimization Model**"
   ]
  },
  {
   "cell_type": "markdown",
   "metadata": {
    "id": "KnqeqLgnx3lk"
   },
   "source": [
    "*   Title: Optimization Python\n",
    "*   Author: Tirthajyoti Sarkar\n",
    "*   Date: 2020\n",
    "*   Code Version: Python 3+\n",
    "*   Available from: https://github.com/tirthajyoti/Optimization-Python/commit/708a3a61e6d0a7aabb3294a8b8b5d79edc816a4d\n",
    "\n",
    "\n",
    "\n",
    "\n",
    "\n",
    "\n"
   ]
  },
  {
   "cell_type": "code",
   "execution_count": 79,
   "metadata": {
    "id": "iuOZmFRMqEYe"
   },
   "outputs": [],
   "source": [
    "#Maximize the Total Profit (Margin) for the Sum of all Sub Services\n",
    "prob= LpProblem(\"Sub-Service\", LpMaximize)\n",
    "prob += lpSum([margin[i]*sub_vars [i] for i in sub_serve])"
   ]
  },
  {
   "cell_type": "code",
   "execution_count": 80,
   "metadata": {
    "id": "ejpdRxpx2sS7"
   },
   "outputs": [],
   "source": [
    "#Adding Facility 2 Resource Capacity Constraints\n",
    "prob += lpSum([cass_bed[f] * sub_vars[f] for f in sub_serve]) <= 8\n",
    "prob += lpSum([cat_bed[f] * sub_vars[f] for f in sub_serve]) <= 8\n",
    "prob += lpSum([cav_bed[f] * sub_vars[f] for f in sub_serve]) <= 8\n",
    "prob += lpSum([cas_bed[f] * sub_vars[f] for f in sub_serve]) <= 14\n",
    "prob += lpSum([cvsi_bed[f] * sub_vars[f] for f in sub_serve]) <= 19\n",
    "prob += lpSum([cvss_bed[f] * sub_vars[f] for f in sub_serve]) <= 20\n",
    "prob += lpSum([cos_bed[f] * sub_vars[f] for f in sub_serve]) <= 8\n",
    "prob += lpSum([cori_bed[f] * sub_vars[f] for f in sub_serve]) <= 6\n",
    "prob += lpSum([edo_bed[f] * sub_vars[f] for f in sub_serve]) <= 3\n",
    "prob += lpSum([hfi_bed[f] * sub_vars[f] for f in sub_serve]) <= 2\n",
    "prob += lpSum([mi_bed[f] * sub_vars[f] for f in sub_serve]) <= 8\n",
    "prob += lpSum([medi_bed[f] * sub_vars[f] for f in sub_serve]) <= 12\n",
    "prob += lpSum([ni_bed[f] * sub_vars[f] for f in sub_serve]) <= 6\n",
    "prob += lpSum([nmed_bed[f] * sub_vars[f] for f in sub_serve]) <= 22\n",
    "prob += lpSum([op_rm[f] * sub_vars[f] for f in sub_serve]) <= 48\n",
    "prob += lpSum([orth_bed[f] * sub_vars[f] for f in sub_serve]) <= 7\n",
    "prob += lpSum([ped_bed[f] * sub_vars[f] for f in sub_serve]) <= 6\n",
    "prob += lpSum([si_bed[f] * sub_vars[f] for f in sub_serve]) <= 5\n",
    "prob += lpSum([tss_bed[f] * sub_vars[f] for f in sub_serve]) <= 5\n",
    "prob += lpSum([tr_bed[f] * sub_vars[f] for f in sub_serve]) <= 6\n",
    "prob += lpSum([u_bed[f] * sub_vars[f] for f in sub_serve]) <= 8\n",
    "prob += lpSum([vsi_bed[f] * sub_vars[f] for f in sub_serve]) <= 3\n",
    "prob += lpSum([vss_bed[f] * sub_vars[f] for f in sub_serve]) <= 6\n",
    "prob += lpSum([ven[f] * sub_vars[f] for f in sub_serve]) <= 25\n",
    "prob += lpSum([hc_bed[f] * sub_vars[f] for f in sub_serve]) <= 8\n",
    "prob += lpSum([st_bed[f] * sub_vars[f] for f in sub_serve]) <= 7\n",
    "prob += lpSum([nni_bed[f] * sub_vars[f] for f in sub_serve]) <= 4\n",
    "prob += lpSum([pedi_bed[f] * sub_vars[f] for f in sub_serve]) <= 3\n",
    "prob += lpSum([ba_bed[f] * sub_vars[f] for f in sub_serve]) <= 2\n",
    "prob += lpSum([ob_bed[f] * sub_vars[f] for f in sub_serve]) <= 3\n",
    "prob += lpSum([ss_bed[f] * sub_vars[f] for f in sub_serve]) <= 5"
   ]
  },
  {
   "cell_type": "code",
   "execution_count": 81,
   "metadata": {
    "id": "EPSUo_xrFMXQ"
   },
   "outputs": [],
   "source": [
    "#Adding the Triangle Distribution Average Daily Demand Constraint for each Sub-Service\n",
    "\n",
    "prob += sub_vars['Cardiac Cath'] >= 5\n",
    "prob += sub_vars['Cardiac EP'] >=  3\n",
    "prob += sub_vars['Cardiac Surgery'] >= 13\n",
    "prob += sub_vars['General Surgical Gynecology'] >= 1\n",
    "prob += sub_vars['Gyn Surgical Oncology'] >= 1\n",
    "prob += sub_vars['Medical Cardiology'] >= 19\n",
    "prob += sub_vars['Medical Gynecology'] >= 1\n"
   ]
  },
  {
   "cell_type": "code",
   "execution_count": 82,
   "metadata": {
    "colab": {
     "base_uri": "https://localhost:8080/"
    },
    "id": "rQtgvhQc8OBa",
    "outputId": "114cd8f2-6aac-4bd8-a7b0-f8f425da9dc0"
   },
   "outputs": [
    {
     "name": "stdout",
     "output_type": "stream",
     "text": [
      "Status: Optimal\n"
     ]
    }
   ],
   "source": [
    "#Determining if the Model is Feasible\n",
    "prob.solve()\n",
    "print(\"Status:\", LpStatus[prob.status])"
   ]
  },
  {
   "cell_type": "code",
   "execution_count": 83,
   "metadata": {
    "colab": {
     "base_uri": "https://localhost:8080/"
    },
    "id": "3Q4LZwLeL0lr",
    "outputId": "621a0695-fed9-4530-ccff-13599fa07ffe"
   },
   "outputs": [
    {
     "name": "stdout",
     "output_type": "stream",
     "text": [
      "Objective: z* = 2310547.6500000004\n"
     ]
    }
   ],
   "source": [
    "#Determing the Objective Margin\n",
    "print(\"Objective: z* = {}\".format(\n",
    "value(prob.objective)))\n"
   ]
  },
  {
   "cell_type": "code",
   "execution_count": 84,
   "metadata": {
    "colab": {
     "base_uri": "https://localhost:8080/"
    },
    "id": "JLKalEdrMG3q",
    "outputId": "f90ef9d5-8441-48e4-87c3-01728e2def0a"
   },
   "outputs": [
    {
     "name": "stdout",
     "output_type": "stream",
     "text": [
      "x_Cardiac_Cath = 6.0\n",
      "x_Cardiac_EP = 3.0\n",
      "x_Cardiac_Surgery = 32.0\n",
      "x_General_Surgical_Gynecology = 2.0\n",
      "x_Gyn_Surgical_Oncology = 1.0\n",
      "x_Medical_Cardiology = 19.0\n",
      "x_Medical_Gynecology = 10.0\n"
     ]
    }
   ],
   "source": [
    "#Determining the Ideal Number of Sub-Services to Offer\n",
    "for v in prob.variables():\n",
    "    if v.varValue>0:\n",
    "        print(v.name, \"=\", v.varValue)\n"
   ]
  },
  {
   "cell_type": "markdown",
   "metadata": {
    "id": "e5ga0cVBdizM"
   },
   "source": [
    "### Results"
   ]
  },
  {
   "cell_type": "code",
   "execution_count": 85,
   "metadata": {
    "colab": {
     "base_uri": "https://localhost:8080/",
     "height": 452
    },
    "collapsed": true,
    "id": "9s_72ssQdizN",
    "outputId": "3237d204-3dcd-4776-9f96-dc8e283f2277"
   },
   "outputs": [
    {
     "name": "stdout",
     "output_type": "stream",
     "text": [
      "File ‘colab_pdf.py’ already there; not retrieving.\n",
      "\n",
      "\n",
      "WARNING: apt does not have a stable CLI interface. Use with caution in scripts.\n",
      "\n",
      "\n",
      "WARNING: apt does not have a stable CLI interface. Use with caution in scripts.\n",
      "\n",
      "[NbConvertApp] Converting notebook /content/drive/MyDrive/Colab Notebooks/Team_Japan_Original_Code.ipynb to pdf\n",
      "[NbConvertApp] Support files will be in Team_Japan_Original_Code_files/\n",
      "[NbConvertApp] Making directory ./Team_Japan_Original_Code_files\n",
      "[NbConvertApp] Making directory ./Team_Japan_Original_Code_files\n",
      "[NbConvertApp] Making directory ./Team_Japan_Original_Code_files\n",
      "[NbConvertApp] Making directory ./Team_Japan_Original_Code_files\n",
      "[NbConvertApp] Making directory ./Team_Japan_Original_Code_files\n",
      "[NbConvertApp] Making directory ./Team_Japan_Original_Code_files\n",
      "[NbConvertApp] Making directory ./Team_Japan_Original_Code_files\n",
      "[NbConvertApp] Writing 95755 bytes to ./notebook.tex\n",
      "[NbConvertApp] Building PDF\n",
      "[NbConvertApp] Running xelatex 3 times: ['xelatex', './notebook.tex', '-quiet']\n",
      "[NbConvertApp] Running bibtex 1 time: ['bibtex', './notebook']\n",
      "[NbConvertApp] WARNING | bibtex had problems, most likely because there were no citations\n",
      "[NbConvertApp] PDF successfully created\n",
      "[NbConvertApp] Writing 152479 bytes to /content/drive/My Drive/Team_Japan_Original_Code.pdf\n"
     ]
    },
    {
     "data": {
      "application/javascript": [
       "\n",
       "    async function download(id, filename, size) {\n",
       "      if (!google.colab.kernel.accessAllowed) {\n",
       "        return;\n",
       "      }\n",
       "      const div = document.createElement('div');\n",
       "      const label = document.createElement('label');\n",
       "      label.textContent = `Downloading \"${filename}\": `;\n",
       "      div.appendChild(label);\n",
       "      const progress = document.createElement('progress');\n",
       "      progress.max = size;\n",
       "      div.appendChild(progress);\n",
       "      document.body.appendChild(div);\n",
       "\n",
       "      const buffers = [];\n",
       "      let downloaded = 0;\n",
       "\n",
       "      const channel = await google.colab.kernel.comms.open(id);\n",
       "      // Send a message to notify the kernel that we're ready.\n",
       "      channel.send({})\n",
       "\n",
       "      for await (const message of channel.messages) {\n",
       "        // Send a message to notify the kernel that we're ready.\n",
       "        channel.send({})\n",
       "        if (message.buffers) {\n",
       "          for (const buffer of message.buffers) {\n",
       "            buffers.push(buffer);\n",
       "            downloaded += buffer.byteLength;\n",
       "            progress.value = downloaded;\n",
       "          }\n",
       "        }\n",
       "      }\n",
       "      const blob = new Blob(buffers, {type: 'application/binary'});\n",
       "      const a = document.createElement('a');\n",
       "      a.href = window.URL.createObjectURL(blob);\n",
       "      a.download = filename;\n",
       "      div.appendChild(a);\n",
       "      a.click();\n",
       "      div.remove();\n",
       "    }\n",
       "  "
      ],
      "text/plain": [
       "<IPython.core.display.Javascript object>"
      ]
     },
     "metadata": {},
     "output_type": "display_data"
    },
    {
     "data": {
      "application/javascript": [
       "download(\"download_5324c96e-b528-4b08-8505-97dc28340412\", \"Team_Japan_Original_Code.pdf\", 152479)"
      ],
      "text/plain": [
       "<IPython.core.display.Javascript object>"
      ]
     },
     "metadata": {},
     "output_type": "display_data"
    },
    {
     "data": {
      "application/vnd.google.colaboratory.intrinsic+json": {
       "type": "string"
      },
      "text/plain": [
       "'File ready to be Downloaded and Saved to Drive'"
      ]
     },
     "execution_count": 85,
     "metadata": {},
     "output_type": "execute_result"
    }
   ],
   "source": [
    "!wget -nc https://raw.githubusercontent.com/brpy/colab-pdf/master/colab_pdf.py\n",
    "from colab_pdf import colab_pdf\n",
    "colab_pdf('Original_Code.ipynb')"
   ]
  }
 ],
 "metadata": {
  "colab": {
   "collapsed_sections": [],
   "name": "Team_Japan_Original_Code.ipynb",
   "provenance": []
  },
  "kernelspec": {
   "display_name": "Python 3",
   "language": "python",
   "name": "python3"
  },
  "language_info": {
   "codemirror_mode": {
    "name": "ipython",
    "version": 3
   },
   "file_extension": ".py",
   "mimetype": "text/x-python",
   "name": "python",
   "nbconvert_exporter": "python",
   "pygments_lexer": "ipython3",
   "version": "3.8.8"
  }
 },
 "nbformat": 4,
 "nbformat_minor": 1
}
