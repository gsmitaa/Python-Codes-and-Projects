{
 "cells": [
  {
   "cell_type": "markdown",
   "id": "23f1b046",
   "metadata": {},
   "source": [
    "# Housing Trends in London"
   ]
  },
  {
   "cell_type": "markdown",
   "id": "99bfc021",
   "metadata": {},
   "source": [
    "## Introduction"
   ]
  },
  {
   "cell_type": "markdown",
   "id": "498e723e",
   "metadata": {},
   "source": [
    "London is the capital of England. It is an appealing destination for many; whether it is for tourism purposes or for relocation. There are a lot of opportunities in various fields such as business, fashion, arts, tourism, and higher education. London is very diverse, both in terms of culture and economic background. London has 32 boroughs and the City of London district. The boroughs are very different from one other. They all have different qualities that they are famous for. Some have a better nightlife, some have better historical architures, some have better touristic spots and so on. \n",
    "\n",
    "For people wanting to live in London, deciding which borough to live in is an important decision. In this project, I will explore factors such as home prices, crimes in neighborhoods, homesales, and use visualizations and analysis to discover interesting findings about the London boroughs. \n"
   ]
  },
  {
   "cell_type": "code",
   "execution_count": 1,
   "id": "dd12aa88",
   "metadata": {},
   "outputs": [],
   "source": [
    "# Importing packages required for analysis\n",
    "\n",
    "import pandas as pd\n",
    "import numpy as np\n",
    "import matplotlib.pyplot as plt\n",
    "import seaborn as sns\n",
    " \n",
    "%matplotlib inline"
   ]
  },
  {
   "cell_type": "markdown",
   "id": "38bb8ff2",
   "metadata": {},
   "source": [
    "I will next read the datafiles into a dataframe using pandas. There is one main file that that I will be using is housing_in_london_monthly_variables: I will read this to a dataframe called monthly.\n",
    "\n",
    "I will try to do some additional analysis with this file: housing_in_london_yearly_variables: I will read this to a dataframe called yearly.\n"
   ]
  },
  {
   "cell_type": "code",
   "execution_count": 2,
   "id": "92cdc77b",
   "metadata": {},
   "outputs": [],
   "source": [
    "monthly = pd.read_csv('../Downloads/econ 803 datafiles/housing_in_london_monthly_variables.csv')\n",
    "yearly = pd.read_csv('../Downloads/econ 803 datafiles/housing_in_london_yearly_variables.csv')"
   ]
  },
  {
   "cell_type": "markdown",
   "id": "4949271f",
   "metadata": {},
   "source": [
    "I will first begin working with the monthly dataframe. The monthly dataset has 13549 rows and 7 columns"
   ]
  },
  {
   "cell_type": "code",
   "execution_count": 3,
   "id": "92620db0",
   "metadata": {},
   "outputs": [
    {
     "name": "stdout",
     "output_type": "stream",
     "text": [
      "<class 'pandas.core.frame.DataFrame'>\n",
      "RangeIndex: 13549 entries, 0 to 13548\n",
      "Data columns (total 7 columns):\n",
      " #   Column         Non-Null Count  Dtype  \n",
      "---  ------         --------------  -----  \n",
      " 0   date           13549 non-null  object \n",
      " 1   area           13549 non-null  object \n",
      " 2   average_price  13549 non-null  int64  \n",
      " 3   code           13549 non-null  object \n",
      " 4   houses_sold    13455 non-null  float64\n",
      " 5   no_of_crimes   7439 non-null   float64\n",
      " 6   borough_flag   13549 non-null  int64  \n",
      "dtypes: float64(2), int64(2), object(3)\n",
      "memory usage: 741.1+ KB\n"
     ]
    },
    {
     "data": {
      "text/html": [
       "<div>\n",
       "<style scoped>\n",
       "    .dataframe tbody tr th:only-of-type {\n",
       "        vertical-align: middle;\n",
       "    }\n",
       "\n",
       "    .dataframe tbody tr th {\n",
       "        vertical-align: top;\n",
       "    }\n",
       "\n",
       "    .dataframe thead th {\n",
       "        text-align: right;\n",
       "    }\n",
       "</style>\n",
       "<table border=\"1\" class=\"dataframe\">\n",
       "  <thead>\n",
       "    <tr style=\"text-align: right;\">\n",
       "      <th></th>\n",
       "      <th>date</th>\n",
       "      <th>area</th>\n",
       "      <th>average_price</th>\n",
       "      <th>code</th>\n",
       "      <th>houses_sold</th>\n",
       "      <th>no_of_crimes</th>\n",
       "      <th>borough_flag</th>\n",
       "    </tr>\n",
       "  </thead>\n",
       "  <tbody>\n",
       "    <tr>\n",
       "      <th>0</th>\n",
       "      <td>1995-01-01</td>\n",
       "      <td>city of london</td>\n",
       "      <td>91449</td>\n",
       "      <td>E09000001</td>\n",
       "      <td>17.0</td>\n",
       "      <td>NaN</td>\n",
       "      <td>1</td>\n",
       "    </tr>\n",
       "    <tr>\n",
       "      <th>1</th>\n",
       "      <td>1995-02-01</td>\n",
       "      <td>city of london</td>\n",
       "      <td>82203</td>\n",
       "      <td>E09000001</td>\n",
       "      <td>7.0</td>\n",
       "      <td>NaN</td>\n",
       "      <td>1</td>\n",
       "    </tr>\n",
       "    <tr>\n",
       "      <th>2</th>\n",
       "      <td>1995-03-01</td>\n",
       "      <td>city of london</td>\n",
       "      <td>79121</td>\n",
       "      <td>E09000001</td>\n",
       "      <td>14.0</td>\n",
       "      <td>NaN</td>\n",
       "      <td>1</td>\n",
       "    </tr>\n",
       "    <tr>\n",
       "      <th>3</th>\n",
       "      <td>1995-04-01</td>\n",
       "      <td>city of london</td>\n",
       "      <td>77101</td>\n",
       "      <td>E09000001</td>\n",
       "      <td>7.0</td>\n",
       "      <td>NaN</td>\n",
       "      <td>1</td>\n",
       "    </tr>\n",
       "    <tr>\n",
       "      <th>4</th>\n",
       "      <td>1995-05-01</td>\n",
       "      <td>city of london</td>\n",
       "      <td>84409</td>\n",
       "      <td>E09000001</td>\n",
       "      <td>10.0</td>\n",
       "      <td>NaN</td>\n",
       "      <td>1</td>\n",
       "    </tr>\n",
       "    <tr>\n",
       "      <th>...</th>\n",
       "      <td>...</td>\n",
       "      <td>...</td>\n",
       "      <td>...</td>\n",
       "      <td>...</td>\n",
       "      <td>...</td>\n",
       "      <td>...</td>\n",
       "      <td>...</td>\n",
       "    </tr>\n",
       "    <tr>\n",
       "      <th>13544</th>\n",
       "      <td>2019-09-01</td>\n",
       "      <td>england</td>\n",
       "      <td>249942</td>\n",
       "      <td>E92000001</td>\n",
       "      <td>64605.0</td>\n",
       "      <td>NaN</td>\n",
       "      <td>0</td>\n",
       "    </tr>\n",
       "    <tr>\n",
       "      <th>13545</th>\n",
       "      <td>2019-10-01</td>\n",
       "      <td>england</td>\n",
       "      <td>249376</td>\n",
       "      <td>E92000001</td>\n",
       "      <td>68677.0</td>\n",
       "      <td>NaN</td>\n",
       "      <td>0</td>\n",
       "    </tr>\n",
       "    <tr>\n",
       "      <th>13546</th>\n",
       "      <td>2019-11-01</td>\n",
       "      <td>england</td>\n",
       "      <td>248515</td>\n",
       "      <td>E92000001</td>\n",
       "      <td>67814.0</td>\n",
       "      <td>NaN</td>\n",
       "      <td>0</td>\n",
       "    </tr>\n",
       "    <tr>\n",
       "      <th>13547</th>\n",
       "      <td>2019-12-01</td>\n",
       "      <td>england</td>\n",
       "      <td>250410</td>\n",
       "      <td>E92000001</td>\n",
       "      <td>NaN</td>\n",
       "      <td>NaN</td>\n",
       "      <td>0</td>\n",
       "    </tr>\n",
       "    <tr>\n",
       "      <th>13548</th>\n",
       "      <td>2020-01-01</td>\n",
       "      <td>england</td>\n",
       "      <td>247355</td>\n",
       "      <td>E92000001</td>\n",
       "      <td>NaN</td>\n",
       "      <td>NaN</td>\n",
       "      <td>0</td>\n",
       "    </tr>\n",
       "  </tbody>\n",
       "</table>\n",
       "<p>13549 rows × 7 columns</p>\n",
       "</div>"
      ],
      "text/plain": [
       "             date            area  average_price       code  houses_sold  \\\n",
       "0      1995-01-01  city of london          91449  E09000001         17.0   \n",
       "1      1995-02-01  city of london          82203  E09000001          7.0   \n",
       "2      1995-03-01  city of london          79121  E09000001         14.0   \n",
       "3      1995-04-01  city of london          77101  E09000001          7.0   \n",
       "4      1995-05-01  city of london          84409  E09000001         10.0   \n",
       "...           ...             ...            ...        ...          ...   \n",
       "13544  2019-09-01         england         249942  E92000001      64605.0   \n",
       "13545  2019-10-01         england         249376  E92000001      68677.0   \n",
       "13546  2019-11-01         england         248515  E92000001      67814.0   \n",
       "13547  2019-12-01         england         250410  E92000001          NaN   \n",
       "13548  2020-01-01         england         247355  E92000001          NaN   \n",
       "\n",
       "       no_of_crimes  borough_flag  \n",
       "0               NaN             1  \n",
       "1               NaN             1  \n",
       "2               NaN             1  \n",
       "3               NaN             1  \n",
       "4               NaN             1  \n",
       "...             ...           ...  \n",
       "13544           NaN             0  \n",
       "13545           NaN             0  \n",
       "13546           NaN             0  \n",
       "13547           NaN             0  \n",
       "13548           NaN             0  \n",
       "\n",
       "[13549 rows x 7 columns]"
      ]
     },
     "execution_count": 3,
     "metadata": {},
     "output_type": "execute_result"
    }
   ],
   "source": [
    "# getting more info about dataframe.\n",
    "monthly.info()\n",
    "monthly"
   ]
  },
  {
   "cell_type": "markdown",
   "id": "0d989ffd",
   "metadata": {},
   "source": [
    "We can see that the date has been stored as an object. I will convert it to a pandas datetime object and split the year and month into a separate column to get better details."
   ]
  },
  {
   "cell_type": "code",
   "execution_count": 4,
   "id": "6a7dd920",
   "metadata": {},
   "outputs": [
    {
     "data": {
      "text/html": [
       "<div>\n",
       "<style scoped>\n",
       "    .dataframe tbody tr th:only-of-type {\n",
       "        vertical-align: middle;\n",
       "    }\n",
       "\n",
       "    .dataframe tbody tr th {\n",
       "        vertical-align: top;\n",
       "    }\n",
       "\n",
       "    .dataframe thead th {\n",
       "        text-align: right;\n",
       "    }\n",
       "</style>\n",
       "<table border=\"1\" class=\"dataframe\">\n",
       "  <thead>\n",
       "    <tr style=\"text-align: right;\">\n",
       "      <th></th>\n",
       "      <th>date</th>\n",
       "      <th>area</th>\n",
       "      <th>average_price</th>\n",
       "      <th>code</th>\n",
       "      <th>houses_sold</th>\n",
       "      <th>no_of_crimes</th>\n",
       "      <th>borough_flag</th>\n",
       "      <th>month</th>\n",
       "      <th>year</th>\n",
       "    </tr>\n",
       "  </thead>\n",
       "  <tbody>\n",
       "    <tr>\n",
       "      <th>0</th>\n",
       "      <td>1995-01-01</td>\n",
       "      <td>city of london</td>\n",
       "      <td>91449</td>\n",
       "      <td>E09000001</td>\n",
       "      <td>17.0</td>\n",
       "      <td>NaN</td>\n",
       "      <td>1</td>\n",
       "      <td>1</td>\n",
       "      <td>1995</td>\n",
       "    </tr>\n",
       "    <tr>\n",
       "      <th>1</th>\n",
       "      <td>1995-02-01</td>\n",
       "      <td>city of london</td>\n",
       "      <td>82203</td>\n",
       "      <td>E09000001</td>\n",
       "      <td>7.0</td>\n",
       "      <td>NaN</td>\n",
       "      <td>1</td>\n",
       "      <td>2</td>\n",
       "      <td>1995</td>\n",
       "    </tr>\n",
       "    <tr>\n",
       "      <th>2</th>\n",
       "      <td>1995-03-01</td>\n",
       "      <td>city of london</td>\n",
       "      <td>79121</td>\n",
       "      <td>E09000001</td>\n",
       "      <td>14.0</td>\n",
       "      <td>NaN</td>\n",
       "      <td>1</td>\n",
       "      <td>3</td>\n",
       "      <td>1995</td>\n",
       "    </tr>\n",
       "    <tr>\n",
       "      <th>3</th>\n",
       "      <td>1995-04-01</td>\n",
       "      <td>city of london</td>\n",
       "      <td>77101</td>\n",
       "      <td>E09000001</td>\n",
       "      <td>7.0</td>\n",
       "      <td>NaN</td>\n",
       "      <td>1</td>\n",
       "      <td>4</td>\n",
       "      <td>1995</td>\n",
       "    </tr>\n",
       "    <tr>\n",
       "      <th>4</th>\n",
       "      <td>1995-05-01</td>\n",
       "      <td>city of london</td>\n",
       "      <td>84409</td>\n",
       "      <td>E09000001</td>\n",
       "      <td>10.0</td>\n",
       "      <td>NaN</td>\n",
       "      <td>1</td>\n",
       "      <td>5</td>\n",
       "      <td>1995</td>\n",
       "    </tr>\n",
       "  </tbody>\n",
       "</table>\n",
       "</div>"
      ],
      "text/plain": [
       "        date            area  average_price       code  houses_sold  \\\n",
       "0 1995-01-01  city of london          91449  E09000001         17.0   \n",
       "1 1995-02-01  city of london          82203  E09000001          7.0   \n",
       "2 1995-03-01  city of london          79121  E09000001         14.0   \n",
       "3 1995-04-01  city of london          77101  E09000001          7.0   \n",
       "4 1995-05-01  city of london          84409  E09000001         10.0   \n",
       "\n",
       "   no_of_crimes  borough_flag  month  year  \n",
       "0           NaN             1      1  1995  \n",
       "1           NaN             1      2  1995  \n",
       "2           NaN             1      3  1995  \n",
       "3           NaN             1      4  1995  \n",
       "4           NaN             1      5  1995  "
      ]
     },
     "execution_count": 4,
     "metadata": {},
     "output_type": "execute_result"
    }
   ],
   "source": [
    "monthly['date'] = pd.to_datetime(monthly['date'], format= '%Y-%m-%d')\n",
    "\n",
    "monthly['month'] = pd.to_datetime(monthly['date']).dt.month\n",
    "monthly['year'] = pd.to_datetime(monthly['date']).dt.year\n",
    "\n",
    "monthly.head()"
   ]
  },
  {
   "cell_type": "code",
   "execution_count": 5,
   "id": "61622402",
   "metadata": {},
   "outputs": [
    {
     "data": {
      "text/plain": [
       "date                0\n",
       "area                0\n",
       "average_price       0\n",
       "code                0\n",
       "houses_sold        94\n",
       "no_of_crimes     6110\n",
       "borough_flag        0\n",
       "month               0\n",
       "year                0\n",
       "dtype: int64"
      ]
     },
     "execution_count": 5,
     "metadata": {},
     "output_type": "execute_result"
    }
   ],
   "source": [
    "# Finding null values\n",
    "monthly.isnull().sum()"
   ]
  },
  {
   "cell_type": "code",
   "execution_count": 6,
   "id": "e3d020e8",
   "metadata": {},
   "outputs": [
    {
     "data": {
      "text/plain": [
       "date              0.00\n",
       "area              0.00\n",
       "average_price     0.00\n",
       "code              0.00\n",
       "houses_sold       0.69\n",
       "no_of_crimes     45.10\n",
       "borough_flag      0.00\n",
       "month             0.00\n",
       "year              0.00\n",
       "dtype: float64"
      ]
     },
     "execution_count": 6,
     "metadata": {},
     "output_type": "execute_result"
    }
   ],
   "source": [
    "# We can see that there are 94 null values in the houses_sold column and no_of_crimes column. \n",
    "# Let's see what percentage of null values we have.\n",
    "round(monthly.isnull().mean()*100,2)"
   ]
  },
  {
   "cell_type": "markdown",
   "id": "9bdc59d2",
   "metadata": {},
   "source": [
    "While 45.1% of null values is a very high percentage, I will keep the no_of_crimes column as I want to analyze and see if we what information we can get about the crime rates in the boroughs."
   ]
  },
  {
   "cell_type": "code",
   "execution_count": 7,
   "id": "1af94eab",
   "metadata": {},
   "outputs": [
    {
     "data": {
      "text/html": [
       "<div>\n",
       "<style scoped>\n",
       "    .dataframe tbody tr th:only-of-type {\n",
       "        vertical-align: middle;\n",
       "    }\n",
       "\n",
       "    .dataframe tbody tr th {\n",
       "        vertical-align: top;\n",
       "    }\n",
       "\n",
       "    .dataframe thead th {\n",
       "        text-align: right;\n",
       "    }\n",
       "</style>\n",
       "<table border=\"1\" class=\"dataframe\">\n",
       "  <thead>\n",
       "    <tr style=\"text-align: right;\">\n",
       "      <th></th>\n",
       "      <th>average_price</th>\n",
       "      <th>houses_sold</th>\n",
       "      <th>no_of_crimes</th>\n",
       "      <th>borough_flag</th>\n",
       "      <th>month</th>\n",
       "      <th>year</th>\n",
       "    </tr>\n",
       "  </thead>\n",
       "  <tbody>\n",
       "    <tr>\n",
       "      <th>count</th>\n",
       "      <td>1.354900e+04</td>\n",
       "      <td>13455.000000</td>\n",
       "      <td>7439.000000</td>\n",
       "      <td>13549.000000</td>\n",
       "      <td>13549.000000</td>\n",
       "      <td>13549.000000</td>\n",
       "    </tr>\n",
       "    <tr>\n",
       "      <th>mean</th>\n",
       "      <td>2.635197e+05</td>\n",
       "      <td>3893.994129</td>\n",
       "      <td>2158.352063</td>\n",
       "      <td>0.733338</td>\n",
       "      <td>6.480700</td>\n",
       "      <td>2007.040224</td>\n",
       "    </tr>\n",
       "    <tr>\n",
       "      <th>std</th>\n",
       "      <td>1.876175e+05</td>\n",
       "      <td>12114.402476</td>\n",
       "      <td>902.087742</td>\n",
       "      <td>0.442230</td>\n",
       "      <td>3.460991</td>\n",
       "      <td>7.239151</td>\n",
       "    </tr>\n",
       "    <tr>\n",
       "      <th>min</th>\n",
       "      <td>4.072200e+04</td>\n",
       "      <td>2.000000</td>\n",
       "      <td>0.000000</td>\n",
       "      <td>0.000000</td>\n",
       "      <td>1.000000</td>\n",
       "      <td>1995.000000</td>\n",
       "    </tr>\n",
       "    <tr>\n",
       "      <th>25%</th>\n",
       "      <td>1.323800e+05</td>\n",
       "      <td>247.000000</td>\n",
       "      <td>1623.000000</td>\n",
       "      <td>0.000000</td>\n",
       "      <td>3.000000</td>\n",
       "      <td>2001.000000</td>\n",
       "    </tr>\n",
       "    <tr>\n",
       "      <th>50%</th>\n",
       "      <td>2.229190e+05</td>\n",
       "      <td>371.000000</td>\n",
       "      <td>2132.000000</td>\n",
       "      <td>1.000000</td>\n",
       "      <td>6.000000</td>\n",
       "      <td>2007.000000</td>\n",
       "    </tr>\n",
       "    <tr>\n",
       "      <th>75%</th>\n",
       "      <td>3.368430e+05</td>\n",
       "      <td>3146.000000</td>\n",
       "      <td>2582.000000</td>\n",
       "      <td>1.000000</td>\n",
       "      <td>9.000000</td>\n",
       "      <td>2013.000000</td>\n",
       "    </tr>\n",
       "    <tr>\n",
       "      <th>max</th>\n",
       "      <td>1.463378e+06</td>\n",
       "      <td>132163.000000</td>\n",
       "      <td>7461.000000</td>\n",
       "      <td>1.000000</td>\n",
       "      <td>12.000000</td>\n",
       "      <td>2020.000000</td>\n",
       "    </tr>\n",
       "  </tbody>\n",
       "</table>\n",
       "</div>"
      ],
      "text/plain": [
       "       average_price    houses_sold  no_of_crimes  borough_flag         month  \\\n",
       "count   1.354900e+04   13455.000000   7439.000000  13549.000000  13549.000000   \n",
       "mean    2.635197e+05    3893.994129   2158.352063      0.733338      6.480700   \n",
       "std     1.876175e+05   12114.402476    902.087742      0.442230      3.460991   \n",
       "min     4.072200e+04       2.000000      0.000000      0.000000      1.000000   \n",
       "25%     1.323800e+05     247.000000   1623.000000      0.000000      3.000000   \n",
       "50%     2.229190e+05     371.000000   2132.000000      1.000000      6.000000   \n",
       "75%     3.368430e+05    3146.000000   2582.000000      1.000000      9.000000   \n",
       "max     1.463378e+06  132163.000000   7461.000000      1.000000     12.000000   \n",
       "\n",
       "               year  \n",
       "count  13549.000000  \n",
       "mean    2007.040224  \n",
       "std        7.239151  \n",
       "min     1995.000000  \n",
       "25%     2001.000000  \n",
       "50%     2007.000000  \n",
       "75%     2013.000000  \n",
       "max     2020.000000  "
      ]
     },
     "execution_count": 7,
     "metadata": {},
     "output_type": "execute_result"
    }
   ],
   "source": [
    "monthly.describe()"
   ]
  },
  {
   "cell_type": "code",
   "execution_count": 8,
   "id": "a8af7310",
   "metadata": {},
   "outputs": [],
   "source": [
    "# Filling null values with the mean.\n",
    "crimes_mean = monthly['no_of_crimes'].mean()\n",
    "monthly.fillna(value = crimes_mean, inplace=True)\n",
    "\n",
    "houses_sold_mean = monthly['houses_sold'].mean()\n",
    "monthly.fillna(value = houses_sold_mean, inplace=True)\n"
   ]
  },
  {
   "cell_type": "code",
   "execution_count": 9,
   "id": "cfa8ffc0",
   "metadata": {},
   "outputs": [],
   "source": [
    "# dropping irrelevant column\n",
    "monthly = monthly.drop(columns='code')"
   ]
  },
  {
   "cell_type": "markdown",
   "id": "3086f8fa",
   "metadata": {},
   "source": [
    "Now let's see what information we can get from the data about the boroughs. We have the area column which seems to have the boroughs. Let's look at what values we have in the column."
   ]
  },
  {
   "cell_type": "code",
   "execution_count": 10,
   "id": "fe5db6e3",
   "metadata": {},
   "outputs": [
    {
     "data": {
      "text/plain": [
       "array(['city of london', 'barking and dagenham', 'barnet', 'bexley',\n",
       "       'brent', 'bromley', 'camden', 'croydon', 'ealing', 'enfield',\n",
       "       'tower hamlets', 'greenwich', 'hackney', 'south east',\n",
       "       'hammersmith and fulham', 'haringey', 'harrow', 'havering',\n",
       "       'hillingdon', 'hounslow', 'islington', 'kensington and chelsea',\n",
       "       'kingston upon thames', 'lambeth', 'lewisham', 'merton', 'newham',\n",
       "       'redbridge', 'richmond upon thames', 'southwark', 'sutton',\n",
       "       'waltham forest', 'wandsworth', 'westminster', 'inner london',\n",
       "       'outer london', 'north east', 'north west', 'yorks and the humber',\n",
       "       'east midlands', 'west midlands', 'east of england', 'london',\n",
       "       'south west', 'england'], dtype=object)"
      ]
     },
     "execution_count": 10,
     "metadata": {},
     "output_type": "execute_result"
    }
   ],
   "source": [
    "#Finding unique values from the area column\n",
    "monthly.area.unique()"
   ]
  },
  {
   "cell_type": "code",
   "execution_count": 11,
   "id": "cbc2d5fe",
   "metadata": {},
   "outputs": [
    {
     "data": {
      "text/plain": [
       "45"
      ]
     },
     "execution_count": 11,
     "metadata": {},
     "output_type": "execute_result"
    }
   ],
   "source": [
    "#Number of unique values in area column\n",
    "len(pd.unique(monthly['area']))"
   ]
  },
  {
   "cell_type": "markdown",
   "id": "c3c88121",
   "metadata": {},
   "source": [
    "It seems that this column contains more locations than just the boroughs. There are 45 unique values when there should be 33. We see that there are values like \"east of england\" that are not boroughs. We need to separate out the boroughs from the column as the main goal of this project is to analyze the housing market in only the boroughs of London, and not the rest of England. We can see that there is a borough_flag column containing values 0 or 1. The value 1 corresponds to a borough while a 0 corresponds to areas outside of London. I will now split the data for the boroughs and the 12 areas outside London using this column."
   ]
  },
  {
   "cell_type": "code",
   "execution_count": 12,
   "id": "2d90599f",
   "metadata": {},
   "outputs": [
    {
     "data": {
      "text/plain": [
       "array([1, 0], dtype=int64)"
      ]
     },
     "execution_count": 12,
     "metadata": {},
     "output_type": "execute_result"
    }
   ],
   "source": [
    "monthly.borough_flag.unique()"
   ]
  },
  {
   "cell_type": "code",
   "execution_count": 13,
   "id": "92fe56f7",
   "metadata": {},
   "outputs": [
    {
     "data": {
      "text/plain": [
       "33"
      ]
     },
     "execution_count": 13,
     "metadata": {},
     "output_type": "execute_result"
    }
   ],
   "source": [
    "# London Boroughs\n",
    "boroughs = monthly[monthly['borough_flag'] == 1]\n",
    "len(pd.unique(boroughs['area']))"
   ]
  },
  {
   "cell_type": "markdown",
   "id": "5caec5f5",
   "metadata": {},
   "source": [
    "While the main focus of the project will be on London, comparing the data from the London Boroughs with the data from the areas outside London could also reveal some interesting insights. So, I will create a separate dataset for the 12 areas outside of London."
   ]
  },
  {
   "cell_type": "code",
   "execution_count": 14,
   "id": "070ba09f",
   "metadata": {},
   "outputs": [
    {
     "data": {
      "text/html": [
       "<div>\n",
       "<style scoped>\n",
       "    .dataframe tbody tr th:only-of-type {\n",
       "        vertical-align: middle;\n",
       "    }\n",
       "\n",
       "    .dataframe tbody tr th {\n",
       "        vertical-align: top;\n",
       "    }\n",
       "\n",
       "    .dataframe thead th {\n",
       "        text-align: right;\n",
       "    }\n",
       "</style>\n",
       "<table border=\"1\" class=\"dataframe\">\n",
       "  <thead>\n",
       "    <tr style=\"text-align: right;\">\n",
       "      <th></th>\n",
       "      <th>date</th>\n",
       "      <th>area</th>\n",
       "      <th>average_price</th>\n",
       "      <th>houses_sold</th>\n",
       "      <th>no_of_crimes</th>\n",
       "      <th>borough_flag</th>\n",
       "      <th>month</th>\n",
       "      <th>year</th>\n",
       "    </tr>\n",
       "  </thead>\n",
       "  <tbody>\n",
       "    <tr>\n",
       "      <th>3355</th>\n",
       "      <td>1998-04-01</td>\n",
       "      <td>south east</td>\n",
       "      <td>83176</td>\n",
       "      <td>2158.352063</td>\n",
       "      <td>2158.352063</td>\n",
       "      <td>0</td>\n",
       "      <td>4</td>\n",
       "      <td>1998</td>\n",
       "    </tr>\n",
       "    <tr>\n",
       "      <th>3356</th>\n",
       "      <td>1998-04-01</td>\n",
       "      <td>south east</td>\n",
       "      <td>83176</td>\n",
       "      <td>15354.000000</td>\n",
       "      <td>2158.352063</td>\n",
       "      <td>0</td>\n",
       "      <td>4</td>\n",
       "      <td>1998</td>\n",
       "    </tr>\n",
       "    <tr>\n",
       "      <th>9938</th>\n",
       "      <td>1995-01-01</td>\n",
       "      <td>inner london</td>\n",
       "      <td>78252</td>\n",
       "      <td>2890.000000</td>\n",
       "      <td>2158.352063</td>\n",
       "      <td>0</td>\n",
       "      <td>1</td>\n",
       "      <td>1995</td>\n",
       "    </tr>\n",
       "    <tr>\n",
       "      <th>9939</th>\n",
       "      <td>1995-02-01</td>\n",
       "      <td>inner london</td>\n",
       "      <td>75886</td>\n",
       "      <td>2583.000000</td>\n",
       "      <td>2158.352063</td>\n",
       "      <td>0</td>\n",
       "      <td>2</td>\n",
       "      <td>1995</td>\n",
       "    </tr>\n",
       "    <tr>\n",
       "      <th>9940</th>\n",
       "      <td>1995-03-01</td>\n",
       "      <td>inner london</td>\n",
       "      <td>76592</td>\n",
       "      <td>3643.000000</td>\n",
       "      <td>2158.352063</td>\n",
       "      <td>0</td>\n",
       "      <td>3</td>\n",
       "      <td>1995</td>\n",
       "    </tr>\n",
       "    <tr>\n",
       "      <th>...</th>\n",
       "      <td>...</td>\n",
       "      <td>...</td>\n",
       "      <td>...</td>\n",
       "      <td>...</td>\n",
       "      <td>...</td>\n",
       "      <td>...</td>\n",
       "      <td>...</td>\n",
       "      <td>...</td>\n",
       "    </tr>\n",
       "    <tr>\n",
       "      <th>13544</th>\n",
       "      <td>2019-09-01</td>\n",
       "      <td>england</td>\n",
       "      <td>249942</td>\n",
       "      <td>64605.000000</td>\n",
       "      <td>2158.352063</td>\n",
       "      <td>0</td>\n",
       "      <td>9</td>\n",
       "      <td>2019</td>\n",
       "    </tr>\n",
       "    <tr>\n",
       "      <th>13545</th>\n",
       "      <td>2019-10-01</td>\n",
       "      <td>england</td>\n",
       "      <td>249376</td>\n",
       "      <td>68677.000000</td>\n",
       "      <td>2158.352063</td>\n",
       "      <td>0</td>\n",
       "      <td>10</td>\n",
       "      <td>2019</td>\n",
       "    </tr>\n",
       "    <tr>\n",
       "      <th>13546</th>\n",
       "      <td>2019-11-01</td>\n",
       "      <td>england</td>\n",
       "      <td>248515</td>\n",
       "      <td>67814.000000</td>\n",
       "      <td>2158.352063</td>\n",
       "      <td>0</td>\n",
       "      <td>11</td>\n",
       "      <td>2019</td>\n",
       "    </tr>\n",
       "    <tr>\n",
       "      <th>13547</th>\n",
       "      <td>2019-12-01</td>\n",
       "      <td>england</td>\n",
       "      <td>250410</td>\n",
       "      <td>2158.352063</td>\n",
       "      <td>2158.352063</td>\n",
       "      <td>0</td>\n",
       "      <td>12</td>\n",
       "      <td>2019</td>\n",
       "    </tr>\n",
       "    <tr>\n",
       "      <th>13548</th>\n",
       "      <td>2020-01-01</td>\n",
       "      <td>england</td>\n",
       "      <td>247355</td>\n",
       "      <td>2158.352063</td>\n",
       "      <td>2158.352063</td>\n",
       "      <td>0</td>\n",
       "      <td>1</td>\n",
       "      <td>2020</td>\n",
       "    </tr>\n",
       "  </tbody>\n",
       "</table>\n",
       "<p>3613 rows × 8 columns</p>\n",
       "</div>"
      ],
      "text/plain": [
       "            date          area  average_price   houses_sold  no_of_crimes  \\\n",
       "3355  1998-04-01    south east          83176   2158.352063   2158.352063   \n",
       "3356  1998-04-01    south east          83176  15354.000000   2158.352063   \n",
       "9938  1995-01-01  inner london          78252   2890.000000   2158.352063   \n",
       "9939  1995-02-01  inner london          75886   2583.000000   2158.352063   \n",
       "9940  1995-03-01  inner london          76592   3643.000000   2158.352063   \n",
       "...          ...           ...            ...           ...           ...   \n",
       "13544 2019-09-01       england         249942  64605.000000   2158.352063   \n",
       "13545 2019-10-01       england         249376  68677.000000   2158.352063   \n",
       "13546 2019-11-01       england         248515  67814.000000   2158.352063   \n",
       "13547 2019-12-01       england         250410   2158.352063   2158.352063   \n",
       "13548 2020-01-01       england         247355   2158.352063   2158.352063   \n",
       "\n",
       "       borough_flag  month  year  \n",
       "3355              0      4  1998  \n",
       "3356              0      4  1998  \n",
       "9938              0      1  1995  \n",
       "9939              0      2  1995  \n",
       "9940              0      3  1995  \n",
       "...             ...    ...   ...  \n",
       "13544             0      9  2019  \n",
       "13545             0     10  2019  \n",
       "13546             0     11  2019  \n",
       "13547             0     12  2019  \n",
       "13548             0      1  2020  \n",
       "\n",
       "[3613 rows x 8 columns]"
      ]
     },
     "execution_count": 14,
     "metadata": {},
     "output_type": "execute_result"
    }
   ],
   "source": [
    "# Areas outside of London\n",
    "outside_london = monthly[monthly['borough_flag'] == 0]\n",
    "outside_london"
   ]
  },
  {
   "cell_type": "markdown",
   "id": "5de52b4b",
   "metadata": {},
   "source": [
    "Now that I have my data organized as how I wanted it, I am now ready to start with my analysis."
   ]
  },
  {
   "cell_type": "markdown",
   "id": "d3e7de84",
   "metadata": {},
   "source": [
    "## Home Price Trends"
   ]
  },
  {
   "cell_type": "markdown",
   "id": "b6eacf7e",
   "metadata": {},
   "source": [
    "### Average Price within Boroughs"
   ]
  },
  {
   "cell_type": "markdown",
   "id": "be355e96",
   "metadata": {},
   "source": [
    "Lets see what the Average Home Prices are for each borough."
   ]
  },
  {
   "cell_type": "code",
   "execution_count": 15,
   "id": "b5653194",
   "metadata": {},
   "outputs": [
    {
     "data": {
      "text/plain": [
       "area\n",
       "barking and dagenham      159852.93\n",
       "barnet                    304991.09\n",
       "bexley                    189570.74\n",
       "brent                     270291.25\n",
       "bromley                   254160.62\n",
       "camden                    467500.91\n",
       "city of london            423942.58\n",
       "croydon                   209349.67\n",
       "ealing                    274537.32\n",
       "enfield                   223130.63\n",
       "greenwich                 213056.47\n",
       "hackney                   284985.33\n",
       "hammersmith and fulham    443791.86\n",
       "haringey                  292969.63\n",
       "harrow                    269233.10\n",
       "havering                  205026.66\n",
       "hillingdon                233404.93\n",
       "hounslow                  235965.42\n",
       "islington                 365187.72\n",
       "kensington and chelsea    742060.37\n",
       "kingston upon thames      281688.43\n",
       "lambeth                   279398.43\n",
       "lewisham                  216601.89\n",
       "merton                    281298.77\n",
       "newham                    195646.07\n",
       "redbridge                 235093.12\n",
       "richmond upon thames      382615.96\n",
       "southwark                 275004.58\n",
       "sutton                    217273.45\n",
       "tower hamlets             257253.02\n",
       "waltham forest            220395.16\n",
       "wandsworth                342304.20\n",
       "westminster               543865.94\n",
       "Name: average_price, dtype: float64"
      ]
     },
     "execution_count": 15,
     "metadata": {},
     "output_type": "execute_result"
    }
   ],
   "source": [
    "price_borough = boroughs.groupby('area')['average_price'].mean().round(2)\n",
    "\n",
    "price_borough"
   ]
  },
  {
   "cell_type": "markdown",
   "id": "c49beca1",
   "metadata": {},
   "source": [
    "We can see that Kensington and Chelsea, Westminster, Camden were boroughs where the average prices for homes were the highest and Newham, Bexley, Barking and Dagenham had the lowest average prices."
   ]
  },
  {
   "cell_type": "code",
   "execution_count": 16,
   "id": "018eff96",
   "metadata": {},
   "outputs": [
    {
     "data": {
      "text/plain": [
       "Text(0, 0.5, 'Average Cost')"
      ]
     },
     "execution_count": 16,
     "metadata": {},
     "output_type": "execute_result"
    },
    {
     "data": {
      "image/png": "[encoded data removed]",
      "text/plain": [
       "<Figure size 720x576 with 1 Axes>"
      ]
     },
     "metadata": {
      "needs_background": "light"
     },
     "output_type": "display_data"
    }
   ],
   "source": [
    "plt.figure(figsize = (10,8))\n",
    "price_borough.plot.bar()\n",
    "ax = price_borough.plot.bar(x='area')\n",
    "plt.title('Average Cost for Homes in London Boroughs')\n",
    "plt.xlabel('Borough')\n",
    "plt.ylabel('Average Cost')"
   ]
  },
  {
   "cell_type": "code",
   "execution_count": 17,
   "id": "9e45c674",
   "metadata": {},
   "outputs": [
    {
     "data": {
      "text/html": [
       "<div>\n",
       "<style scoped>\n",
       "    .dataframe tbody tr th:only-of-type {\n",
       "        vertical-align: middle;\n",
       "    }\n",
       "\n",
       "    .dataframe tbody tr th {\n",
       "        vertical-align: top;\n",
       "    }\n",
       "\n",
       "    .dataframe thead th {\n",
       "        text-align: right;\n",
       "    }\n",
       "</style>\n",
       "<table border=\"1\" class=\"dataframe\">\n",
       "  <thead>\n",
       "    <tr style=\"text-align: right;\">\n",
       "      <th></th>\n",
       "      <th>average_price</th>\n",
       "    </tr>\n",
       "    <tr>\n",
       "      <th>area</th>\n",
       "      <th></th>\n",
       "    </tr>\n",
       "  </thead>\n",
       "  <tbody>\n",
       "    <tr>\n",
       "      <th>kensington and chelsea</th>\n",
       "      <td>742060.37</td>\n",
       "    </tr>\n",
       "    <tr>\n",
       "      <th>westminster</th>\n",
       "      <td>543865.94</td>\n",
       "    </tr>\n",
       "    <tr>\n",
       "      <th>camden</th>\n",
       "      <td>467500.91</td>\n",
       "    </tr>\n",
       "    <tr>\n",
       "      <th>hammersmith and fulham</th>\n",
       "      <td>443791.86</td>\n",
       "    </tr>\n",
       "    <tr>\n",
       "      <th>city of london</th>\n",
       "      <td>423942.58</td>\n",
       "    </tr>\n",
       "    <tr>\n",
       "      <th>richmond upon thames</th>\n",
       "      <td>382615.96</td>\n",
       "    </tr>\n",
       "    <tr>\n",
       "      <th>islington</th>\n",
       "      <td>365187.72</td>\n",
       "    </tr>\n",
       "    <tr>\n",
       "      <th>wandsworth</th>\n",
       "      <td>342304.20</td>\n",
       "    </tr>\n",
       "    <tr>\n",
       "      <th>barnet</th>\n",
       "      <td>304991.09</td>\n",
       "    </tr>\n",
       "    <tr>\n",
       "      <th>haringey</th>\n",
       "      <td>292969.63</td>\n",
       "    </tr>\n",
       "    <tr>\n",
       "      <th>hackney</th>\n",
       "      <td>284985.33</td>\n",
       "    </tr>\n",
       "    <tr>\n",
       "      <th>kingston upon thames</th>\n",
       "      <td>281688.43</td>\n",
       "    </tr>\n",
       "    <tr>\n",
       "      <th>merton</th>\n",
       "      <td>281298.77</td>\n",
       "    </tr>\n",
       "    <tr>\n",
       "      <th>lambeth</th>\n",
       "      <td>279398.43</td>\n",
       "    </tr>\n",
       "    <tr>\n",
       "      <th>southwark</th>\n",
       "      <td>275004.58</td>\n",
       "    </tr>\n",
       "    <tr>\n",
       "      <th>ealing</th>\n",
       "      <td>274537.32</td>\n",
       "    </tr>\n",
       "    <tr>\n",
       "      <th>brent</th>\n",
       "      <td>270291.25</td>\n",
       "    </tr>\n",
       "    <tr>\n",
       "      <th>harrow</th>\n",
       "      <td>269233.10</td>\n",
       "    </tr>\n",
       "    <tr>\n",
       "      <th>tower hamlets</th>\n",
       "      <td>257253.02</td>\n",
       "    </tr>\n",
       "    <tr>\n",
       "      <th>bromley</th>\n",
       "      <td>254160.62</td>\n",
       "    </tr>\n",
       "    <tr>\n",
       "      <th>hounslow</th>\n",
       "      <td>235965.42</td>\n",
       "    </tr>\n",
       "    <tr>\n",
       "      <th>redbridge</th>\n",
       "      <td>235093.12</td>\n",
       "    </tr>\n",
       "    <tr>\n",
       "      <th>hillingdon</th>\n",
       "      <td>233404.93</td>\n",
       "    </tr>\n",
       "    <tr>\n",
       "      <th>enfield</th>\n",
       "      <td>223130.63</td>\n",
       "    </tr>\n",
       "    <tr>\n",
       "      <th>waltham forest</th>\n",
       "      <td>220395.16</td>\n",
       "    </tr>\n",
       "    <tr>\n",
       "      <th>sutton</th>\n",
       "      <td>217273.45</td>\n",
       "    </tr>\n",
       "    <tr>\n",
       "      <th>lewisham</th>\n",
       "      <td>216601.89</td>\n",
       "    </tr>\n",
       "    <tr>\n",
       "      <th>greenwich</th>\n",
       "      <td>213056.47</td>\n",
       "    </tr>\n",
       "    <tr>\n",
       "      <th>croydon</th>\n",
       "      <td>209349.67</td>\n",
       "    </tr>\n",
       "    <tr>\n",
       "      <th>havering</th>\n",
       "      <td>205026.66</td>\n",
       "    </tr>\n",
       "    <tr>\n",
       "      <th>newham</th>\n",
       "      <td>195646.07</td>\n",
       "    </tr>\n",
       "    <tr>\n",
       "      <th>bexley</th>\n",
       "      <td>189570.74</td>\n",
       "    </tr>\n",
       "    <tr>\n",
       "      <th>barking and dagenham</th>\n",
       "      <td>159852.93</td>\n",
       "    </tr>\n",
       "  </tbody>\n",
       "</table>\n",
       "</div>"
      ],
      "text/plain": [
       "                        average_price\n",
       "area                                 \n",
       "kensington and chelsea      742060.37\n",
       "westminster                 543865.94\n",
       "camden                      467500.91\n",
       "hammersmith and fulham      443791.86\n",
       "city of london              423942.58\n",
       "richmond upon thames        382615.96\n",
       "islington                   365187.72\n",
       "wandsworth                  342304.20\n",
       "barnet                      304991.09\n",
       "haringey                    292969.63\n",
       "hackney                     284985.33\n",
       "kingston upon thames        281688.43\n",
       "merton                      281298.77\n",
       "lambeth                     279398.43\n",
       "southwark                   275004.58\n",
       "ealing                      274537.32\n",
       "brent                       270291.25\n",
       "harrow                      269233.10\n",
       "tower hamlets               257253.02\n",
       "bromley                     254160.62\n",
       "hounslow                    235965.42\n",
       "redbridge                   235093.12\n",
       "hillingdon                  233404.93\n",
       "enfield                     223130.63\n",
       "waltham forest              220395.16\n",
       "sutton                      217273.45\n",
       "lewisham                    216601.89\n",
       "greenwich                   213056.47\n",
       "croydon                     209349.67\n",
       "havering                    205026.66\n",
       "newham                      195646.07\n",
       "bexley                      189570.74\n",
       "barking and dagenham        159852.93"
      ]
     },
     "execution_count": 17,
     "metadata": {},
     "output_type": "execute_result"
    }
   ],
   "source": [
    "# sorting the data from largest to smallest to identify boroughs having higher and lower average prices\n",
    "prices_sorted = price_borough.sort_values(ascending = False).to_frame().round(2)\n",
    "prices_sorted"
   ]
  },
  {
   "cell_type": "markdown",
   "id": "85ae6b7b",
   "metadata": {},
   "source": [
    "### Average Home Prices In and Outside London"
   ]
  },
  {
   "cell_type": "markdown",
   "id": "3aad16cc",
   "metadata": {},
   "source": [
    "Let's see how the home prices in London compare to prices in areas outside London. London is the most expensive city in England, and it is expected that home prices on average here will be higher than the average prices outside London. Let's see if our assumption will hold true or not."
   ]
  },
  {
   "cell_type": "code",
   "execution_count": 18,
   "id": "88a6c262",
   "metadata": {},
   "outputs": [
    {
     "data": {
      "text/plain": [
       "314994.4219269103"
      ]
     },
     "execution_count": 18,
     "metadata": {},
     "output_type": "execute_result"
    }
   ],
   "source": [
    "price_outlondon = outside_london.groupby('area')['average_price'].mean()\n",
    "\n",
    "price_outlondon.max()"
   ]
  },
  {
   "cell_type": "markdown",
   "id": "81f3448e",
   "metadata": {},
   "source": [
    "The highest average price in areas outside of London is 314,994.42. The highest in London was in Kensington and Chelsea, where it was 742,060.37 as seen in the section before. I will now plot the two data and see the difference between the prices in and out of London"
   ]
  },
  {
   "cell_type": "code",
   "execution_count": 19,
   "id": "8d9d02e8",
   "metadata": {},
   "outputs": [],
   "source": [
    "#Getting mean prices for both locations throughout the years\n",
    "price_year_borough = boroughs.groupby('year')['average_price'].mean()\n",
    "price_year_outside = outside_london.groupby('year')['average_price'].mean()"
   ]
  },
  {
   "cell_type": "code",
   "execution_count": 20,
   "id": "2a65c96f",
   "metadata": {},
   "outputs": [
    {
     "data": {
      "image/png": "[encoded data removed]",
      "text/plain": [
       "<Figure size 720x576 with 1 Axes>"
      ]
     },
     "metadata": {
      "needs_background": "light"
     },
     "output_type": "display_data"
    }
   ],
   "source": [
    "plt.figure(figsize = (10,8))\n",
    "\n",
    "price_year_borough.plot(y = 'average_price', color = 'blue', label = 'London')\n",
    "price_year_outside.plot(y = 'average_price', color = 'red', label = 'Outside London')\n",
    "plt.title('Average Home Price in London vs Outside London')\n",
    "plt.ylabel('Average Price')\n",
    "plt.xlabel('Year')\n",
    "plt.legend(loc='best')\n",
    "plt.show()"
   ]
  },
  {
   "cell_type": "markdown",
   "id": "be187001",
   "metadata": {},
   "source": [
    "My assumption holds true. We can see that the Average Price in London has always been higher than outside London. We notice that the difference between the prices has been growing. While the prices outside London has been growing at a steady pace, the prices in London has been growing dramatically."
   ]
  },
  {
   "cell_type": "markdown",
   "id": "524197d7",
   "metadata": {},
   "source": [
    "### Average Price throughout the Years"
   ]
  },
  {
   "cell_type": "markdown",
   "id": "b206abf0",
   "metadata": {},
   "source": [
    "The data spans a period of 25 years. It starts with the data from 1995 and ends with 2020."
   ]
  },
  {
   "cell_type": "code",
   "execution_count": 21,
   "id": "51ecb273",
   "metadata": {},
   "outputs": [
    {
     "name": "stdout",
     "output_type": "stream",
     "text": [
      "0   1995-01-01\n",
      "Name: date, dtype: datetime64[ns]\n",
      "13548   2020-01-01\n",
      "Name: date, dtype: datetime64[ns]\n"
     ]
    }
   ],
   "source": [
    "# Seeing the first and last dates we have.\n",
    "print(monthly['date'].head(1))\n",
    "print(monthly['date'].tail(1))"
   ]
  },
  {
   "cell_type": "markdown",
   "id": "304c5dc2",
   "metadata": {},
   "source": [
    "Home prices in London have increased significantly from 1995. The average in 1995 was 82,833.18 and it has risen to 527,450.39 in 2020. The prices have raised continuously until 2017, except in 2009, when it fell to 287,613.12 as compared to the year prior when it was at 319,500.30.The prices peaked in 2017, when it was at 538,511.11. It slightly declined in 2018 and declined further in 2019 until starting to rise again in 2020. We know that the last date that we have is 1 January, 2020.The average for 2020 does not paint a true picture of what happened during that year. It'd be especially interesting to look at the data for this whole year considering this was the year the pandemic began. Data for 2020 and 2021 could reveal what housing trends look like during events such as the pandemic. The UK withdrew from the EU in January 31, 2020 so it would also be interesting to see whether it impacted, and if so, what kind of impact it had on home prices."
   ]
  },
  {
   "cell_type": "code",
   "execution_count": 22,
   "id": "eb24924c",
   "metadata": {},
   "outputs": [
    {
     "data": {
      "text/plain": [
       "year\n",
       "1995     82833.18\n",
       "1996     86407.50\n",
       "1997     98900.82\n",
       "1998    113129.25\n",
       "1999    127621.41\n",
       "2000    157719.48\n",
       "2001    176844.42\n",
       "2002    204275.63\n",
       "2003    227436.41\n",
       "2004    246573.45\n",
       "2005    254749.66\n",
       "2006    272385.96\n",
       "2007    315322.94\n",
       "2008    319500.30\n",
       "2009    287613.12\n",
       "2010    321173.43\n",
       "2011    331210.01\n",
       "2012    349505.15\n",
       "2013    380493.69\n",
       "2014    445082.82\n",
       "2015    483686.64\n",
       "2016    521855.35\n",
       "2017    538511.11\n",
       "2018    533415.53\n",
       "2019    523498.93\n",
       "2020    527450.39\n",
       "Name: average_price, dtype: float64"
      ]
     },
     "execution_count": 22,
     "metadata": {},
     "output_type": "execute_result"
    }
   ],
   "source": [
    "# London Average Prices from 1995-2020\n",
    "price_year_borough.round(2)"
   ]
  },
  {
   "cell_type": "markdown",
   "id": "d57b2a43",
   "metadata": {},
   "source": [
    "The average prices outside London increased from 56,759.64 in 1995 to 286,998.83 in 2020. As with the prices in London, we notice prices fall in 2009 which is interesting. Perhaps this happened during the great recession that occured during 2007 to 2009."
   ]
  },
  {
   "cell_type": "code",
   "execution_count": 23,
   "id": "1993e066",
   "metadata": {},
   "outputs": [
    {
     "data": {
      "text/plain": [
       "year\n",
       "1995     56759.64\n",
       "1996     58057.03\n",
       "1997     64091.56\n",
       "1998     70583.46\n",
       "1999     77501.77\n",
       "2000     91194.34\n",
       "2001    102174.17\n",
       "2002    121457.25\n",
       "2003    143673.20\n",
       "2004    164190.72\n",
       "2005    174367.85\n",
       "2006    185825.28\n",
       "2007    205152.97\n",
       "2008    199420.33\n",
       "2009    181427.28\n",
       "2010    195119.93\n",
       "2011    194744.26\n",
       "2012    199146.48\n",
       "2013    208353.22\n",
       "2014    231803.72\n",
       "2015    249947.12\n",
       "2016    270714.52\n",
       "2017    281515.47\n",
       "2018    285259.83\n",
       "2019    285590.40\n",
       "2020    286998.83\n",
       "Name: average_price, dtype: float64"
      ]
     },
     "execution_count": 23,
     "metadata": {},
     "output_type": "execute_result"
    }
   ],
   "source": [
    "# Average prices outside London from 1995-2020\n",
    "price_year_outside.round(2)"
   ]
  },
  {
   "cell_type": "markdown",
   "id": "7ef1bd3c",
   "metadata": {},
   "source": [
    "## Houses Sold"
   ]
  },
  {
   "cell_type": "markdown",
   "id": "97e1a5db",
   "metadata": {},
   "source": [
    "### In London"
   ]
  },
  {
   "cell_type": "markdown",
   "id": "4764be04",
   "metadata": {},
   "source": [
    "The total number of houses sold seems to be changing frequently. We notice frequent increases and subsequent declines. It seemss that more houses were sold in the period before 2009. The houses sold declines in 2009 and after which could potentiall be an effect on the Great Recession."
   ]
  },
  {
   "cell_type": "code",
   "execution_count": 24,
   "id": "ec8e44dd",
   "metadata": {},
   "outputs": [
    {
     "data": {
      "text/plain": [
       "year\n",
       "1995    106850.0\n",
       "1996    137270.0\n",
       "1997    154343.0\n",
       "1998    148100.0\n",
       "1999    169076.0\n",
       "2000    149269.0\n",
       "2001    162744.0\n",
       "2002    173993.0\n",
       "2003    153784.0\n",
       "2004    163797.0\n",
       "2005    136836.0\n",
       "2006    171450.0\n",
       "2007    165571.0\n",
       "2008     80921.0\n",
       "2009     75231.0\n",
       "2010     91933.0\n",
       "2011     90041.0\n",
       "2012     93859.0\n",
       "2013    111973.0\n",
       "2014    121949.0\n",
       "2015    116572.0\n",
       "2016    104758.0\n",
       "2017     96009.0\n",
       "2018     89769.0\n",
       "2019    142443.0\n",
       "2020     71226.0\n",
       "Name: houses_sold, dtype: float64"
      ]
     },
     "execution_count": 24,
     "metadata": {},
     "output_type": "execute_result"
    }
   ],
   "source": [
    "# Houses Sold throughout the years\n",
    "sale_year_borough = boroughs.groupby('year')['houses_sold'].sum().round()\n",
    "sale_year_borough"
   ]
  },
  {
   "cell_type": "code",
   "execution_count": 25,
   "id": "aa4c5e21",
   "metadata": {},
   "outputs": [
    {
     "data": {
      "image/png": "[encoded data removed]",
      "text/plain": [
       "<Figure size 720x576 with 1 Axes>"
      ]
     },
     "metadata": {
      "needs_background": "light"
     },
     "output_type": "display_data"
    }
   ],
   "source": [
    "#Plotting the data\n",
    "plt.figure(figsize = (10,8))\n",
    "\n",
    "sale_year_borough.plot(y = 'houses_sold', label = 'London')\n",
    "plt.title('Houses Sold in London')\n",
    "plt.ylabel('Average Price')\n",
    "plt.xlabel('Year')\n",
    "plt.legend(loc='best')\n",
    "plt.show()"
   ]
  },
  {
   "cell_type": "markdown",
   "id": "c42aaed6",
   "metadata": {},
   "source": [
    "Wandsworth, Bromley, and Croydon seem like a popular residential location as they have the highest number of houses sold. The most expensive locations, Kensington and Chelsea, and Camden are lower down the list, which is to be expected. It is interesting that although Westminster was the third most expensive, it still has a very high number of houses being sold.\n"
   ]
  },
  {
   "cell_type": "code",
   "execution_count": 26,
   "id": "27c65720",
   "metadata": {},
   "outputs": [
    {
     "data": {
      "text/html": [
       "<div>\n",
       "<style scoped>\n",
       "    .dataframe tbody tr th:only-of-type {\n",
       "        vertical-align: middle;\n",
       "    }\n",
       "\n",
       "    .dataframe tbody tr th {\n",
       "        vertical-align: top;\n",
       "    }\n",
       "\n",
       "    .dataframe thead th {\n",
       "        text-align: right;\n",
       "    }\n",
       "</style>\n",
       "<table border=\"1\" class=\"dataframe\">\n",
       "  <thead>\n",
       "    <tr style=\"text-align: right;\">\n",
       "      <th></th>\n",
       "      <th>houses_sold</th>\n",
       "    </tr>\n",
       "    <tr>\n",
       "      <th>area</th>\n",
       "      <th></th>\n",
       "    </tr>\n",
       "  </thead>\n",
       "  <tbody>\n",
       "    <tr>\n",
       "      <th>wandsworth</th>\n",
       "      <td>168188.0</td>\n",
       "    </tr>\n",
       "    <tr>\n",
       "      <th>bromley</th>\n",
       "      <td>152833.0</td>\n",
       "    </tr>\n",
       "    <tr>\n",
       "      <th>croydon</th>\n",
       "      <td>150223.0</td>\n",
       "    </tr>\n",
       "    <tr>\n",
       "      <th>barnet</th>\n",
       "      <td>137965.0</td>\n",
       "    </tr>\n",
       "    <tr>\n",
       "      <th>lambeth</th>\n",
       "      <td>122270.0</td>\n",
       "    </tr>\n",
       "    <tr>\n",
       "      <th>enfield</th>\n",
       "      <td>121724.0</td>\n",
       "    </tr>\n",
       "    <tr>\n",
       "      <th>ealing</th>\n",
       "      <td>114359.0</td>\n",
       "    </tr>\n",
       "    <tr>\n",
       "      <th>lewisham</th>\n",
       "      <td>112440.0</td>\n",
       "    </tr>\n",
       "    <tr>\n",
       "      <th>westminster</th>\n",
       "      <td>111011.0</td>\n",
       "    </tr>\n",
       "    <tr>\n",
       "      <th>hillingdon</th>\n",
       "      <td>109038.0</td>\n",
       "    </tr>\n",
       "    <tr>\n",
       "      <th>tower hamlets</th>\n",
       "      <td>108332.0</td>\n",
       "    </tr>\n",
       "    <tr>\n",
       "      <th>redbridge</th>\n",
       "      <td>106828.0</td>\n",
       "    </tr>\n",
       "    <tr>\n",
       "      <th>southwark</th>\n",
       "      <td>104031.0</td>\n",
       "    </tr>\n",
       "    <tr>\n",
       "      <th>bexley</th>\n",
       "      <td>101668.0</td>\n",
       "    </tr>\n",
       "    <tr>\n",
       "      <th>richmond upon thames</th>\n",
       "      <td>101391.0</td>\n",
       "    </tr>\n",
       "    <tr>\n",
       "      <th>havering</th>\n",
       "      <td>99452.0</td>\n",
       "    </tr>\n",
       "    <tr>\n",
       "      <th>greenwich</th>\n",
       "      <td>98443.0</td>\n",
       "    </tr>\n",
       "    <tr>\n",
       "      <th>waltham forest</th>\n",
       "      <td>97255.0</td>\n",
       "    </tr>\n",
       "    <tr>\n",
       "      <th>sutton</th>\n",
       "      <td>95716.0</td>\n",
       "    </tr>\n",
       "    <tr>\n",
       "      <th>merton</th>\n",
       "      <td>91579.0</td>\n",
       "    </tr>\n",
       "    <tr>\n",
       "      <th>newham</th>\n",
       "      <td>90553.0</td>\n",
       "    </tr>\n",
       "    <tr>\n",
       "      <th>hounslow</th>\n",
       "      <td>89789.0</td>\n",
       "    </tr>\n",
       "    <tr>\n",
       "      <th>brent</th>\n",
       "      <td>85930.0</td>\n",
       "    </tr>\n",
       "    <tr>\n",
       "      <th>haringey</th>\n",
       "      <td>85479.0</td>\n",
       "    </tr>\n",
       "    <tr>\n",
       "      <th>harrow</th>\n",
       "      <td>83238.0</td>\n",
       "    </tr>\n",
       "    <tr>\n",
       "      <th>kensington and chelsea</th>\n",
       "      <td>81445.0</td>\n",
       "    </tr>\n",
       "    <tr>\n",
       "      <th>kingston upon thames</th>\n",
       "      <td>79944.0</td>\n",
       "    </tr>\n",
       "    <tr>\n",
       "      <th>hammersmith and fulham</th>\n",
       "      <td>79835.0</td>\n",
       "    </tr>\n",
       "    <tr>\n",
       "      <th>camden</th>\n",
       "      <td>78679.0</td>\n",
       "    </tr>\n",
       "    <tr>\n",
       "      <th>islington</th>\n",
       "      <td>72588.0</td>\n",
       "    </tr>\n",
       "    <tr>\n",
       "      <th>hackney</th>\n",
       "      <td>71831.0</td>\n",
       "    </tr>\n",
       "    <tr>\n",
       "      <th>barking and dagenham</th>\n",
       "      <td>63815.0</td>\n",
       "    </tr>\n",
       "    <tr>\n",
       "      <th>city of london</th>\n",
       "      <td>11903.0</td>\n",
       "    </tr>\n",
       "  </tbody>\n",
       "</table>\n",
       "</div>"
      ],
      "text/plain": [
       "                        houses_sold\n",
       "area                               \n",
       "wandsworth                 168188.0\n",
       "bromley                    152833.0\n",
       "croydon                    150223.0\n",
       "barnet                     137965.0\n",
       "lambeth                    122270.0\n",
       "enfield                    121724.0\n",
       "ealing                     114359.0\n",
       "lewisham                   112440.0\n",
       "westminster                111011.0\n",
       "hillingdon                 109038.0\n",
       "tower hamlets              108332.0\n",
       "redbridge                  106828.0\n",
       "southwark                  104031.0\n",
       "bexley                     101668.0\n",
       "richmond upon thames       101391.0\n",
       "havering                    99452.0\n",
       "greenwich                   98443.0\n",
       "waltham forest              97255.0\n",
       "sutton                      95716.0\n",
       "merton                      91579.0\n",
       "newham                      90553.0\n",
       "hounslow                    89789.0\n",
       "brent                       85930.0\n",
       "haringey                    85479.0\n",
       "harrow                      83238.0\n",
       "kensington and chelsea      81445.0\n",
       "kingston upon thames        79944.0\n",
       "hammersmith and fulham      79835.0\n",
       "camden                      78679.0\n",
       "islington                   72588.0\n",
       "hackney                     71831.0\n",
       "barking and dagenham        63815.0\n",
       "city of london              11903.0"
      ]
     },
     "execution_count": 26,
     "metadata": {},
     "output_type": "execute_result"
    }
   ],
   "source": [
    "# Seeing which borough had the highest total houses sold\n",
    "sale_borough =  boroughs.groupby('area')['houses_sold'].sum().round()\n",
    "s_borough = sale_borough.sort_values(ascending = False).to_frame().round(2)\n",
    "s_borough"
   ]
  },
  {
   "cell_type": "code",
   "execution_count": 27,
   "id": "a665ffe1",
   "metadata": {},
   "outputs": [
    {
     "data": {
      "text/plain": [
       "Text(0, 0.5, 'Borough')"
      ]
     },
     "execution_count": 27,
     "metadata": {},
     "output_type": "execute_result"
    },
    {
     "data": {
      "image/png": "[encoded data removed]",
      "text/plain": [
       "<Figure size 864x720 with 1 Axes>"
      ]
     },
     "metadata": {
      "needs_background": "light"
     },
     "output_type": "display_data"
    }
   ],
   "source": [
    "# plotting the houses sold according to the borough\n",
    "plt.figure(figsize = (12,10))\n",
    "sale_borough.plot.barh()\n",
    "plt.title('Houses Sold by London Borough')\n",
    "plt.xlabel('Number of Houses Sold')\n",
    "plt.ylabel('Borough')"
   ]
  },
  {
   "cell_type": "code",
   "execution_count": 28,
   "id": "64641d88",
   "metadata": {},
   "outputs": [
    {
     "data": {
      "text/plain": [
       "<AxesSubplot:title={'center':'Relationship between Houses Sold and Average Price'}, xlabel='houses_sold', ylabel='average_price'>"
      ]
     },
     "execution_count": 28,
     "metadata": {},
     "output_type": "execute_result"
    },
    {
     "data": {
      "image/png": "[encoded data removed]",
      "text/plain": [
       "<Figure size 432x288 with 1 Axes>"
      ]
     },
     "metadata": {
      "needs_background": "light"
     },
     "output_type": "display_data"
    }
   ],
   "source": [
    "# Plotting the relationship between houses sold and average price in London Boroughs\n",
    "boroughs.plot(kind= \"scatter\",\n",
    "y= \"average_price\", x= \"houses_sold\", color = 'orange',\n",
    "title = \"Relationship between Houses Sold and Average Price\",\n",
    "grid= True)"
   ]
  },
  {
   "cell_type": "markdown",
   "id": "f1859b4d",
   "metadata": {},
   "source": [
    "### Outside London"
   ]
  },
  {
   "cell_type": "markdown",
   "id": "a08f182a",
   "metadata": {},
   "source": [
    "As expected, the number of houses sold is a lot higher outside London than within London. It is not surprising that a city's total home sales was lower than the rest of country. According to Statista, the total number of housing dwellings in London was around 3.6 million while the whole country's was 24.7 million as of 2020."
   ]
  },
  {
   "cell_type": "code",
   "execution_count": 29,
   "id": "665a4c1a",
   "metadata": {},
   "outputs": [
    {
     "data": {
      "text/plain": [
       "year\n",
       "1995    1610104.0\n",
       "1996    1953425.0\n",
       "1997    2215713.0\n",
       "1998    2129574.0\n",
       "1999    2427932.0\n",
       "2000    2265911.0\n",
       "2001    2499078.0\n",
       "2002    2701307.0\n",
       "2003    2500094.0\n",
       "2004    2548419.0\n",
       "2005    2132500.0\n",
       "2006    2669610.0\n",
       "2007    2561935.0\n",
       "2008    1296097.0\n",
       "2009    1252857.0\n",
       "2010    1344937.0\n",
       "2011    1340695.0\n",
       "2012    1362931.0\n",
       "2013    1632107.0\n",
       "2014    1924377.0\n",
       "2015    1906738.0\n",
       "2016    1884080.0\n",
       "2017    1848947.0\n",
       "2018    1754480.0\n",
       "2019    1527061.0\n",
       "2020      25900.0\n",
       "Name: houses_sold, dtype: float64"
      ]
     },
     "execution_count": 29,
     "metadata": {},
     "output_type": "execute_result"
    }
   ],
   "source": [
    "#Getting total houses sold outside London from 1995-2020\n",
    "sale_year_england = outside_london.groupby('year')['houses_sold'].sum().round()\n",
    "sale_year_england"
   ]
  },
  {
   "cell_type": "code",
   "execution_count": 30,
   "id": "ca516200",
   "metadata": {},
   "outputs": [
    {
     "data": {
      "image/png": "[encoded data removed]",
      "text/plain": [
       "<Figure size 720x576 with 1 Axes>"
      ]
     },
     "metadata": {
      "needs_background": "light"
     },
     "output_type": "display_data"
    }
   ],
   "source": [
    "#plotting the data\n",
    "plt.figure(figsize = (10,8))\n",
    "\n",
    "sale_year_england.plot(y = 'houses_sold', label = 'London')\n",
    "plt.title('Houses Sold Outside of London')\n",
    "plt.ylabel('Average Price')\n",
    "plt.xlabel('Year')\n",
    "plt.legend(loc='best')\n",
    "plt.show()"
   ]
  },
  {
   "cell_type": "markdown",
   "id": "5b46197a",
   "metadata": {},
   "source": [
    "## Number of  Crimes in London Boroughs"
   ]
  },
  {
   "cell_type": "markdown",
   "id": "3b6f2d5f",
   "metadata": {},
   "source": [
    "Let's take a look at the number of crimes in London Boroughs. The highest average number of crimes are in Westminster while the least are in Kingston upon Thames. Westminter ranked 2nd highest in terms of price. Despite the high crime rate, it seems that Westminster continues to be an area favored as a residential location, and the crimes don't seem to impact the cost of houses. Camden had the third highest crime rate and it ranked 3rd in terms of average prices as well. This suggests that there the crimes committed are higher where homes cost more. I will plot the relationship to check whether this is true or not. \n",
    "\n",
    "It also seems that the number of houses sold increases as number of crimes go down. I will create a plot to check this as well"
   ]
  },
  {
   "cell_type": "code",
   "execution_count": 31,
   "id": "12ca17e4",
   "metadata": {},
   "outputs": [
    {
     "data": {
      "text/html": [
       "<div>\n",
       "<style scoped>\n",
       "    .dataframe tbody tr th:only-of-type {\n",
       "        vertical-align: middle;\n",
       "    }\n",
       "\n",
       "    .dataframe tbody tr th {\n",
       "        vertical-align: top;\n",
       "    }\n",
       "\n",
       "    .dataframe thead th {\n",
       "        text-align: right;\n",
       "    }\n",
       "</style>\n",
       "<table border=\"1\" class=\"dataframe\">\n",
       "  <thead>\n",
       "    <tr style=\"text-align: right;\">\n",
       "      <th></th>\n",
       "      <th>no_of_crimes</th>\n",
       "    </tr>\n",
       "    <tr>\n",
       "      <th>area</th>\n",
       "      <th></th>\n",
       "    </tr>\n",
       "  </thead>\n",
       "  <tbody>\n",
       "    <tr>\n",
       "      <th>westminster</th>\n",
       "      <td>4542.01</td>\n",
       "    </tr>\n",
       "    <tr>\n",
       "      <th>lambeth</th>\n",
       "      <td>2906.50</td>\n",
       "    </tr>\n",
       "    <tr>\n",
       "      <th>camden</th>\n",
       "      <td>2841.72</td>\n",
       "    </tr>\n",
       "    <tr>\n",
       "      <th>southwark</th>\n",
       "      <td>2820.41</td>\n",
       "    </tr>\n",
       "    <tr>\n",
       "      <th>newham</th>\n",
       "      <td>2685.65</td>\n",
       "    </tr>\n",
       "    <tr>\n",
       "      <th>croydon</th>\n",
       "      <td>2534.64</td>\n",
       "    </tr>\n",
       "    <tr>\n",
       "      <th>ealing</th>\n",
       "      <td>2499.73</td>\n",
       "    </tr>\n",
       "    <tr>\n",
       "      <th>hackney</th>\n",
       "      <td>2474.86</td>\n",
       "    </tr>\n",
       "    <tr>\n",
       "      <th>tower hamlets</th>\n",
       "      <td>2449.46</td>\n",
       "    </tr>\n",
       "    <tr>\n",
       "      <th>islington</th>\n",
       "      <td>2430.44</td>\n",
       "    </tr>\n",
       "    <tr>\n",
       "      <th>brent</th>\n",
       "      <td>2354.07</td>\n",
       "    </tr>\n",
       "    <tr>\n",
       "      <th>haringey</th>\n",
       "      <td>2347.09</td>\n",
       "    </tr>\n",
       "    <tr>\n",
       "      <th>lewisham</th>\n",
       "      <td>2263.42</td>\n",
       "    </tr>\n",
       "    <tr>\n",
       "      <th>barnet</th>\n",
       "      <td>2249.72</td>\n",
       "    </tr>\n",
       "    <tr>\n",
       "      <th>wandsworth</th>\n",
       "      <td>2197.43</td>\n",
       "    </tr>\n",
       "    <tr>\n",
       "      <th>greenwich</th>\n",
       "      <td>2155.73</td>\n",
       "    </tr>\n",
       "    <tr>\n",
       "      <th>hillingdon</th>\n",
       "      <td>2145.74</td>\n",
       "    </tr>\n",
       "    <tr>\n",
       "      <th>waltham forest</th>\n",
       "      <td>2124.30</td>\n",
       "    </tr>\n",
       "    <tr>\n",
       "      <th>enfield</th>\n",
       "      <td>2097.36</td>\n",
       "    </tr>\n",
       "    <tr>\n",
       "      <th>hounslow</th>\n",
       "      <td>2068.49</td>\n",
       "    </tr>\n",
       "    <tr>\n",
       "      <th>bromley</th>\n",
       "      <td>2053.19</td>\n",
       "    </tr>\n",
       "    <tr>\n",
       "      <th>redbridge</th>\n",
       "      <td>1992.60</td>\n",
       "    </tr>\n",
       "    <tr>\n",
       "      <th>hammersmith and fulham</th>\n",
       "      <td>1972.96</td>\n",
       "    </tr>\n",
       "    <tr>\n",
       "      <th>kensington and chelsea</th>\n",
       "      <td>1910.99</td>\n",
       "    </tr>\n",
       "    <tr>\n",
       "      <th>barking and dagenham</th>\n",
       "      <td>1733.01</td>\n",
       "    </tr>\n",
       "    <tr>\n",
       "      <th>havering</th>\n",
       "      <td>1680.58</td>\n",
       "    </tr>\n",
       "    <tr>\n",
       "      <th>bexley</th>\n",
       "      <td>1504.91</td>\n",
       "    </tr>\n",
       "    <tr>\n",
       "      <th>harrow</th>\n",
       "      <td>1472.30</td>\n",
       "    </tr>\n",
       "    <tr>\n",
       "      <th>merton</th>\n",
       "      <td>1435.80</td>\n",
       "    </tr>\n",
       "    <tr>\n",
       "      <th>city of london</th>\n",
       "      <td>1362.57</td>\n",
       "    </tr>\n",
       "    <tr>\n",
       "      <th>sutton</th>\n",
       "      <td>1336.59</td>\n",
       "    </tr>\n",
       "    <tr>\n",
       "      <th>richmond upon thames</th>\n",
       "      <td>1308.75</td>\n",
       "    </tr>\n",
       "    <tr>\n",
       "      <th>kingston upon thames</th>\n",
       "      <td>1270.84</td>\n",
       "    </tr>\n",
       "  </tbody>\n",
       "</table>\n",
       "</div>"
      ],
      "text/plain": [
       "                        no_of_crimes\n",
       "area                                \n",
       "westminster                  4542.01\n",
       "lambeth                      2906.50\n",
       "camden                       2841.72\n",
       "southwark                    2820.41\n",
       "newham                       2685.65\n",
       "croydon                      2534.64\n",
       "ealing                       2499.73\n",
       "hackney                      2474.86\n",
       "tower hamlets                2449.46\n",
       "islington                    2430.44\n",
       "brent                        2354.07\n",
       "haringey                     2347.09\n",
       "lewisham                     2263.42\n",
       "barnet                       2249.72\n",
       "wandsworth                   2197.43\n",
       "greenwich                    2155.73\n",
       "hillingdon                   2145.74\n",
       "waltham forest               2124.30\n",
       "enfield                      2097.36\n",
       "hounslow                     2068.49\n",
       "bromley                      2053.19\n",
       "redbridge                    1992.60\n",
       "hammersmith and fulham       1972.96\n",
       "kensington and chelsea       1910.99\n",
       "barking and dagenham         1733.01\n",
       "havering                     1680.58\n",
       "bexley                       1504.91\n",
       "harrow                       1472.30\n",
       "merton                       1435.80\n",
       "city of london               1362.57\n",
       "sutton                       1336.59\n",
       "richmond upon thames         1308.75\n",
       "kingston upon thames         1270.84"
      ]
     },
     "execution_count": 31,
     "metadata": {},
     "output_type": "execute_result"
    }
   ],
   "source": [
    "# Number of Crimes in London Boroughs, sorted largest to smallest\n",
    "crimes_boroughs = boroughs.groupby('area')['no_of_crimes'].mean().sort_values(ascending = False).to_frame().round(2)\n",
    "crimes_boroughs"
   ]
  },
  {
   "cell_type": "code",
   "execution_count": 32,
   "id": "2d87ed7d",
   "metadata": {},
   "outputs": [
    {
     "data": {
      "text/plain": [
       "<AxesSubplot:title={'center':'Relationship Average Price and Number of Crimes'}, xlabel='no_of_crimes', ylabel='average_price'>"
      ]
     },
     "execution_count": 32,
     "metadata": {},
     "output_type": "execute_result"
    },
    {
     "data": {
      "image/png": "[encoded data removed]",
      "text/plain": [
       "<Figure size 432x288 with 1 Axes>"
      ]
     },
     "metadata": {
      "needs_background": "light"
     },
     "output_type": "display_data"
    }
   ],
   "source": [
    "# Plot of relationship between average price and number of crimes\n",
    "boroughs.plot(kind= \"scatter\",\n",
    "y= \"average_price\", x= \"no_of_crimes\",\n",
    "color= \"orange\",\n",
    "title = \"Relationship Average Price and Number of Crimes\",\n",
    "grid= True)\n"
   ]
  },
  {
   "cell_type": "code",
   "execution_count": 33,
   "id": "f44b9bea",
   "metadata": {},
   "outputs": [
    {
     "data": {
      "text/plain": [
       "<AxesSubplot:title={'center':'Relationship Houses Sold and Number of Crimes'}, xlabel='houses_sold', ylabel='no_of_crimes'>"
      ]
     },
     "execution_count": 33,
     "metadata": {},
     "output_type": "execute_result"
    },
    {
     "data": {
      "image/png": "[encoded data removed]",
      "text/plain": [
       "<Figure size 432x288 with 1 Axes>"
      ]
     },
     "metadata": {
      "needs_background": "light"
     },
     "output_type": "display_data"
    }
   ],
   "source": [
    "# Plot of relationship between houses sold and number of crimes.\n",
    "boroughs.plot(kind= \"scatter\",\n",
    "y= \"no_of_crimes\", x= \"houses_sold\",\n",
    "color= \"orange\",\n",
    "title = \"Relationship Houses Sold and Number of Crimes\",\n",
    "grid= True)\n"
   ]
  },
  {
   "cell_type": "markdown",
   "id": "bc26805f",
   "metadata": {},
   "source": [
    "I will now create a heatmap to see the correlations between the variables in the monthly dataframe."
   ]
  },
  {
   "cell_type": "code",
   "execution_count": 34,
   "id": "9a80b467",
   "metadata": {},
   "outputs": [
    {
     "name": "stderr",
     "output_type": "stream",
     "text": [
      "<ipython-input-34-6489d2caa652>:2: DeprecationWarning: `np.bool` is a deprecated alias for the builtin `bool`. To silence this warning, use `bool` by itself. Doing this will not modify any behavior and is safe. If you specifically wanted the numpy scalar type, use `np.bool_` here.\n",
      "Deprecated in NumPy 1.20; for more details and guidance: https://numpy.org/devdocs/release/1.20.0-notes.html#deprecations\n",
      "  np.triu(np.ones(monthly.shape)).astype(np.bool)\n",
      "<ipython-input-34-6489d2caa652>:3: DeprecationWarning: `np.bool` is a deprecated alias for the builtin `bool`. To silence this warning, use `bool` by itself. Doing this will not modify any behavior and is safe. If you specifically wanted the numpy scalar type, use `np.bool_` here.\n",
      "Deprecated in NumPy 1.20; for more details and guidance: https://numpy.org/devdocs/release/1.20.0-notes.html#deprecations\n",
      "  df_lts = correl.where(np.triu(np.ones(correl.shape)).astype(np.bool))\n"
     ]
    }
   ],
   "source": [
    "correl = monthly.corr()\n",
    "np.triu(np.ones(monthly.shape)).astype(np.bool)\n",
    "df_lts = correl.where(np.triu(np.ones(correl.shape)).astype(np.bool))"
   ]
  },
  {
   "cell_type": "code",
   "execution_count": 35,
   "id": "3f54fdc5",
   "metadata": {},
   "outputs": [
    {
     "data": {
      "image/png": "[encoded data removed]",
      "text/plain": [
       "<Figure size 1008x1008 with 2 Axes>"
      ]
     },
     "metadata": {
      "needs_background": "light"
     },
     "output_type": "display_data"
    }
   ],
   "source": [
    "plt.figure(figsize=(14, 14))\n",
    "hmap=sns.heatmap(df_lts, \n",
    "                 vmin=-1, vmax=1, center=0,\n",
    "                 cmap=sns.diverging_palette(20, 220, n=200),\n",
    "                square=True, annot = True)\n",
    "\n",
    "\n",
    "hmap.figure.savefig(\"Correlation_Heatmap_Lower_Triangle_with_Seaborn.png\",\n",
    "                    format='png',\n",
    "                    dpi=150)"
   ]
  },
  {
   "cell_type": "markdown",
   "id": "805723fd",
   "metadata": {},
   "source": [
    "## Additional Analysis"
   ]
  },
  {
   "cell_type": "markdown",
   "id": "ef0b994a",
   "metadata": {},
   "source": [
    "Now I will take a look at the yearly dataframe to see if I can find any interesting discoveries."
   ]
  },
  {
   "cell_type": "code",
   "execution_count": 36,
   "id": "c70cb999",
   "metadata": {},
   "outputs": [
    {
     "name": "stdout",
     "output_type": "stream",
     "text": [
      "<class 'pandas.core.frame.DataFrame'>\n",
      "RangeIndex: 1071 entries, 0 to 1070\n",
      "Data columns (total 12 columns):\n",
      " #   Column             Non-Null Count  Dtype  \n",
      "---  ------             --------------  -----  \n",
      " 0   code               1071 non-null   object \n",
      " 1   area               1071 non-null   object \n",
      " 2   date               1071 non-null   object \n",
      " 3   median_salary      1049 non-null   float64\n",
      " 4   life_satisfaction  352 non-null    float64\n",
      " 5   mean_salary        1071 non-null   object \n",
      " 6   recycling_pct      860 non-null    object \n",
      " 7   population_size    1018 non-null   float64\n",
      " 8   number_of_jobs     931 non-null    float64\n",
      " 9   area_size          666 non-null    float64\n",
      " 10  no_of_houses       666 non-null    float64\n",
      " 11  borough_flag       1071 non-null   int64  \n",
      "dtypes: float64(6), int64(1), object(5)\n",
      "memory usage: 100.5+ KB\n"
     ]
    },
    {
     "data": {
      "text/html": [
       "<div>\n",
       "<style scoped>\n",
       "    .dataframe tbody tr th:only-of-type {\n",
       "        vertical-align: middle;\n",
       "    }\n",
       "\n",
       "    .dataframe tbody tr th {\n",
       "        vertical-align: top;\n",
       "    }\n",
       "\n",
       "    .dataframe thead th {\n",
       "        text-align: right;\n",
       "    }\n",
       "</style>\n",
       "<table border=\"1\" class=\"dataframe\">\n",
       "  <thead>\n",
       "    <tr style=\"text-align: right;\">\n",
       "      <th></th>\n",
       "      <th>code</th>\n",
       "      <th>area</th>\n",
       "      <th>date</th>\n",
       "      <th>median_salary</th>\n",
       "      <th>life_satisfaction</th>\n",
       "      <th>mean_salary</th>\n",
       "      <th>recycling_pct</th>\n",
       "      <th>population_size</th>\n",
       "      <th>number_of_jobs</th>\n",
       "      <th>area_size</th>\n",
       "      <th>no_of_houses</th>\n",
       "      <th>borough_flag</th>\n",
       "    </tr>\n",
       "  </thead>\n",
       "  <tbody>\n",
       "    <tr>\n",
       "      <th>0</th>\n",
       "      <td>E09000001</td>\n",
       "      <td>city of london</td>\n",
       "      <td>1999-12-01</td>\n",
       "      <td>33020.0</td>\n",
       "      <td>NaN</td>\n",
       "      <td>48922</td>\n",
       "      <td>0</td>\n",
       "      <td>6581.0</td>\n",
       "      <td>NaN</td>\n",
       "      <td>NaN</td>\n",
       "      <td>NaN</td>\n",
       "      <td>1</td>\n",
       "    </tr>\n",
       "    <tr>\n",
       "      <th>1</th>\n",
       "      <td>E09000002</td>\n",
       "      <td>barking and dagenham</td>\n",
       "      <td>1999-12-01</td>\n",
       "      <td>21480.0</td>\n",
       "      <td>NaN</td>\n",
       "      <td>23620</td>\n",
       "      <td>3</td>\n",
       "      <td>162444.0</td>\n",
       "      <td>NaN</td>\n",
       "      <td>NaN</td>\n",
       "      <td>NaN</td>\n",
       "      <td>1</td>\n",
       "    </tr>\n",
       "    <tr>\n",
       "      <th>2</th>\n",
       "      <td>E09000003</td>\n",
       "      <td>barnet</td>\n",
       "      <td>1999-12-01</td>\n",
       "      <td>19568.0</td>\n",
       "      <td>NaN</td>\n",
       "      <td>23128</td>\n",
       "      <td>8</td>\n",
       "      <td>313469.0</td>\n",
       "      <td>NaN</td>\n",
       "      <td>NaN</td>\n",
       "      <td>NaN</td>\n",
       "      <td>1</td>\n",
       "    </tr>\n",
       "    <tr>\n",
       "      <th>3</th>\n",
       "      <td>E09000004</td>\n",
       "      <td>bexley</td>\n",
       "      <td>1999-12-01</td>\n",
       "      <td>18621.0</td>\n",
       "      <td>NaN</td>\n",
       "      <td>21386</td>\n",
       "      <td>18</td>\n",
       "      <td>217458.0</td>\n",
       "      <td>NaN</td>\n",
       "      <td>NaN</td>\n",
       "      <td>NaN</td>\n",
       "      <td>1</td>\n",
       "    </tr>\n",
       "    <tr>\n",
       "      <th>4</th>\n",
       "      <td>E09000005</td>\n",
       "      <td>brent</td>\n",
       "      <td>1999-12-01</td>\n",
       "      <td>18532.0</td>\n",
       "      <td>NaN</td>\n",
       "      <td>20911</td>\n",
       "      <td>6</td>\n",
       "      <td>260317.0</td>\n",
       "      <td>NaN</td>\n",
       "      <td>NaN</td>\n",
       "      <td>NaN</td>\n",
       "      <td>1</td>\n",
       "    </tr>\n",
       "  </tbody>\n",
       "</table>\n",
       "</div>"
      ],
      "text/plain": [
       "        code                  area        date  median_salary  \\\n",
       "0  E09000001        city of london  1999-12-01        33020.0   \n",
       "1  E09000002  barking and dagenham  1999-12-01        21480.0   \n",
       "2  E09000003                barnet  1999-12-01        19568.0   \n",
       "3  E09000004                bexley  1999-12-01        18621.0   \n",
       "4  E09000005                 brent  1999-12-01        18532.0   \n",
       "\n",
       "   life_satisfaction mean_salary recycling_pct  population_size  \\\n",
       "0                NaN       48922             0           6581.0   \n",
       "1                NaN       23620             3         162444.0   \n",
       "2                NaN       23128             8         313469.0   \n",
       "3                NaN       21386            18         217458.0   \n",
       "4                NaN       20911             6         260317.0   \n",
       "\n",
       "   number_of_jobs  area_size  no_of_houses  borough_flag  \n",
       "0             NaN        NaN           NaN             1  \n",
       "1             NaN        NaN           NaN             1  \n",
       "2             NaN        NaN           NaN             1  \n",
       "3             NaN        NaN           NaN             1  \n",
       "4             NaN        NaN           NaN             1  "
      ]
     },
     "execution_count": 36,
     "metadata": {},
     "output_type": "execute_result"
    }
   ],
   "source": [
    "#Starting by looking at the details of the data\n",
    "yearly.info()\n",
    "yearly.head()"
   ]
  },
  {
   "cell_type": "code",
   "execution_count": 37,
   "id": "a7b8623a",
   "metadata": {},
   "outputs": [],
   "source": [
    "#Converting date to datetime object\n",
    "yearly['date'] = pd.to_datetime(yearly['date'], format= '%Y-%m-%d')\n",
    "\n",
    "yearly['year'] = pd.to_datetime(yearly['date']).dt.year"
   ]
  },
  {
   "cell_type": "code",
   "execution_count": 38,
   "id": "859ce19d",
   "metadata": {},
   "outputs": [],
   "source": [
    "#Replacing special symbols that randomly show up in data\n",
    "yearly.replace(['#','na','-','' ], np.nan, inplace=True)"
   ]
  },
  {
   "cell_type": "code",
   "execution_count": 39,
   "id": "bc3396d2",
   "metadata": {},
   "outputs": [],
   "source": [
    "#Mean Salary and Recycling Percentage have been stored as object. I will convert them to a float type.\n",
    "yearly['mean_salary'] = yearly['mean_salary'].astype(float)\n",
    "yearly['recycling_pct'] = yearly['recycling_pct'].astype(float)"
   ]
  },
  {
   "cell_type": "code",
   "execution_count": 40,
   "id": "38b23020",
   "metadata": {},
   "outputs": [
    {
     "data": {
      "text/plain": [
       "code                   0\n",
       "area                   0\n",
       "date                   0\n",
       "median_salary         22\n",
       "life_satisfaction    719\n",
       "mean_salary           17\n",
       "recycling_pct        212\n",
       "population_size       53\n",
       "number_of_jobs       140\n",
       "area_size            405\n",
       "no_of_houses         405\n",
       "borough_flag           0\n",
       "year                   0\n",
       "dtype: int64"
      ]
     },
     "execution_count": 40,
     "metadata": {},
     "output_type": "execute_result"
    }
   ],
   "source": [
    "#Checking for null values\n",
    "yearly.isnull().sum()"
   ]
  },
  {
   "cell_type": "code",
   "execution_count": 41,
   "id": "9b7cf126",
   "metadata": {},
   "outputs": [],
   "source": [
    "# Filling null values with the mean.\n",
    "medsalary_mean = yearly['median_salary'].mean()\n",
    "yearly.fillna(value = medsalary_mean, inplace=True)\n",
    "\n",
    "lifesatisfaction_mean = yearly['life_satisfaction'].mean()\n",
    "yearly.fillna(value = houses_sold_mean, inplace=True)\n",
    "\n",
    "recpct_mean = yearly['recycling_pct'].mean()\n",
    "yearly.fillna(value = recpct_mean, inplace=True)\n",
    "\n",
    "popsize_mean = yearly['population_size'].mean()\n",
    "yearly.fillna(value = popsize_mean, inplace=True)\n",
    "\n",
    "jobs_mean = yearly['number_of_jobs'].mean()\n",
    "yearly.fillna(value = jobs_mean, inplace=True)\n",
    "\n",
    "areasize_mean = yearly['area_size'].mean()\n",
    "yearly.fillna(value = areasize_mean, inplace=True)\n",
    "medsalary_mean = yearly['median_salary'].mean()\n",
    "yearly.fillna(value = medsalary_mean, inplace=True)\n",
    "\n",
    "nohouses_mean = yearly['no_of_houses'].mean()\n",
    "yearly.fillna(value = nohouses_mean, inplace=True)"
   ]
  },
  {
   "cell_type": "markdown",
   "id": "5470d3b2",
   "metadata": {},
   "source": [
    "np.triu(np.ones(yearly.shape)).astype(np.bool)\n",
    "df_lt = corr.where(np.triu(np.ones(corr.shape)).astype(np.bool))"
   ]
  },
  {
   "cell_type": "markdown",
   "id": "4d5e4ca0",
   "metadata": {},
   "source": [
    "I will now create a correlation heatmap to see if there is any correlation between the variables."
   ]
  },
  {
   "cell_type": "markdown",
   "id": "affd0dba",
   "metadata": {},
   "source": [
    "plt.figure(figsize=(14, 14))\n",
    "hmap=sns.heatmap(df_lt, \n",
    "                 vmin=-1, vmax=1, center=0,\n",
    "                 cmap=sns.diverging_palette(20, 220, n=200),\n",
    "                square=True, annot = True)\n",
    "\n",
    "\n",
    "hmap.figure.savefig(\"Correlation_Heatmap_Lower_Triangle_with_Seaborn.png\",\n",
    "                    format='png',\n",
    "                    dpi=150)"
   ]
  },
  {
   "cell_type": "code",
   "execution_count": 42,
   "id": "45bc895f",
   "metadata": {},
   "outputs": [
    {
     "name": "stderr",
     "output_type": "stream",
     "text": [
      "<ipython-input-42-541c6f9499eb>:2: DeprecationWarning: `np.bool` is a deprecated alias for the builtin `bool`. To silence this warning, use `bool` by itself. Doing this will not modify any behavior and is safe. If you specifically wanted the numpy scalar type, use `np.bool_` here.\n",
      "Deprecated in NumPy 1.20; for more details and guidance: https://numpy.org/devdocs/release/1.20.0-notes.html#deprecations\n",
      "  np.triu(np.ones(yearly.shape)).astype(np.bool)\n",
      "<ipython-input-42-541c6f9499eb>:3: DeprecationWarning: `np.bool` is a deprecated alias for the builtin `bool`. To silence this warning, use `bool` by itself. Doing this will not modify any behavior and is safe. If you specifically wanted the numpy scalar type, use `np.bool_` here.\n",
      "Deprecated in NumPy 1.20; for more details and guidance: https://numpy.org/devdocs/release/1.20.0-notes.html#deprecations\n",
      "  df_lt = corr.where(np.triu(np.ones(corr.shape)).astype(np.bool))\n"
     ]
    }
   ],
   "source": [
    "corr = yearly.corr()\n",
    "np.triu(np.ones(yearly.shape)).astype(np.bool)\n",
    "df_lt = corr.where(np.triu(np.ones(corr.shape)).astype(np.bool))"
   ]
  },
  {
   "cell_type": "markdown",
   "id": "29ec8cfa",
   "metadata": {},
   "source": [
    "There seems to be correlations between quite a few variables. We can see that there is a correlation between the mean and median salary, population size and the number of jobs, number of houses and area size, year and median salary etc."
   ]
  },
  {
   "cell_type": "code",
   "execution_count": 43,
   "id": "a1457bf2",
   "metadata": {},
   "outputs": [
    {
     "data": {
      "image/png": "[encoded data removed]",
      "text/plain": [
       "<Figure size 1008x1008 with 2 Axes>"
      ]
     },
     "metadata": {
      "needs_background": "light"
     },
     "output_type": "display_data"
    }
   ],
   "source": [
    "plt.figure(figsize=(14, 14))\n",
    "hmap=sns.heatmap(df_lt, \n",
    "                 vmin=-1, vmax=1, center=0,\n",
    "                 cmap=sns.diverging_palette(20, 220, n=200),\n",
    "                square=True, annot = True)\n",
    "\n",
    "\n",
    "hmap.figure.savefig(\"Correlation_Heatmap_Lower_Triangle_with_Seaborn.png\",\n",
    "                    format='png',\n",
    "                    dpi=150)"
   ]
  },
  {
   "cell_type": "code",
   "execution_count": null,
   "id": "db1a8a2d",
   "metadata": {},
   "outputs": [],
   "source": []
  },
  {
   "cell_type": "markdown",
   "id": "7c991de4",
   "metadata": {},
   "source": [
    "## Conclusion"
   ]
  },
  {
   "cell_type": "markdown",
   "id": "0f1ff472",
   "metadata": {},
   "source": [
    "In this paper, I looked at different variables to see how they affected the housing market in London as well as outside of it. I was able to determine which locations were more expensive, which were more popular, which had more crime, as well as look at the relationship between other variables such as salary, population, area size.\n",
    "\n",
    "It was interesting seeing the trends that I noticed during 2009, the time during the Great Recession. Seeing how housing trends responded was quite insightful.\n",
    "\n",
    "I was surpised to see how popular Westminster was. Despite of high crime and high prices, people still seem to want to buy a home in that borough.\n",
    "\n",
    "For the future, I believe that analyzing 2020 and 2021 data would be very useful. Also, combining the two dataframes (monthly and yearly), and looking at the correlation between average price, and variables like salary, and life_satisfaction would be a great way of conducting further analysis."
   ]
  },
  {
   "cell_type": "markdown",
   "id": "bd1e5bf4",
   "metadata": {},
   "source": [
    "## References"
   ]
  },
  {
   "cell_type": "markdown",
   "id": "878fb2c3",
   "metadata": {},
   "source": [
    "#### Dataset: \n",
    "Housing in London (Kaggle) https://www.kaggle.com/datasets/justinas/housing-in-london"
   ]
  },
  {
   "cell_type": "markdown",
   "id": "4a1a93a8",
   "metadata": {},
   "source": [
    "#### Code:\n",
    "\n",
    "<a href=\"https://matplotlib.org/stable/gallery/lines_bars_and_markers/barh.html\">Creating Horizontal Bar Chart</a>\n",
    "\n",
    "<a href=\"https://stackoverflow.com/questions/51070985/find-out-the-percentage-of-missing-values-in-each-column-in-the-given-dataset\">Finding % of missing values in each column</a>\n",
    "\n",
    "<a href=\"https://www.statology.org/pandas-unique-values-in-column/\">Pandas Unique Values in column</a>\n",
    "\n",
    "<a href=\"https://www.geeksforgeeks.org/ways-to-filter-pandas-dataframe-by-column-values/\">Ways to filter pandas dataframe by column values</a>\n",
    "\n",
    "<a href=\"https://stackoverflow.com/questions/13452410/creating-hyperlinks-in-python\"> Creating hyperlinks in python </a>\n"
   ]
  },
  {
   "cell_type": "markdown",
   "id": "19dd86f8",
   "metadata": {},
   "source": [
    "#### Essay:\n",
    "<a href=\"https://www.statista.com/statistics/232302/number-of-dwellings-in-england/\"> Number of Dwellings in England </a>\n",
    "\n",
    "<a href=\"https://www.statista.com/statistics/585272/number-of-dwellings-london-uk/#:~:text=In%202020%2C%20the%20capital%20city,of%20approximately%203.6%20million%20dwellings.\"> Number of dwellings in London </a>\n",
    "\n",
    "<a href=\"https://www.montcalm.co.uk/blog/what-every-london-borough-is-the-best-and-worst-at/\"> What every London borough is the best and worst at </a>"
   ]
  }
 ],
 "metadata": {
  "kernelspec": {
   "display_name": "Python 3",
   "language": "python",
   "name": "python3"
  },
  "language_info": {
   "codemirror_mode": {
    "name": "ipython",
    "version": 3
   },
   "file_extension": ".py",
   "mimetype": "text/x-python",
   "name": "python",
   "nbconvert_exporter": "python",
   "pygments_lexer": "ipython3",
   "version": "3.8.8"
  }
 },
 "nbformat": 4,
 "nbformat_minor": 5
}
